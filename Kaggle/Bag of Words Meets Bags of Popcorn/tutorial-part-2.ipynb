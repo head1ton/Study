{
 "cells": [
  {
   "cell_type": "markdown",
   "metadata": {},
   "source": [
    "# Bag of Words Meets Bags of Popcorn"
   ]
  },
  {
   "cell_type": "markdown",
   "metadata": {},
   "source": [
    "## 튜토리얼 파트 2 Word Vectors\n",
    "* 딥러닝 기법인 Word2Vec을 통해 단어를 벡터화 해본다\n",
    "* t-SNE를 통해 벡터화 한 데이터를 시각화 해본다\n",
    "* 딥러닝과 지도학습의 랜덤포레스트를 사용하는 하이브리드 방식을 사용한다"
   ]
  },
  {
   "cell_type": "markdown",
   "metadata": {},
   "source": [
    "# Word2Vec(Word Embedding to Vector)\n",
    "컴퓨터는 숫자만 인식할 수 있고 한글, 이미지는 바이너리 코드로 저장된다. 튜토리얼 파트1에서는 Bag of Word라는 개념을 사용해서 문자를 벡터화하여 머신러닝 알고리즘이 이해할 수 있도록 벡터화 해주는 작업을 하였다.\n",
    "\n",
    "* one hot encoding(예 [0000001000]) 혹은 Bag of Word에서 vector size가 매우 크고 sparse 하므로 neural net 성능이 잘 나오지 않는다.\n",
    "* 주위 단어가 비슷하면 해당 단어의 의미는 유사하다 라는 아이디어\n",
    "* 단어를 트레이닝 시킬 때 주위 단어를 label로 매치하여 최적화\n",
    "* 단어를 의미를 내포한 dense vector로 매칭 시키는 것\n",
    "* Word2Vec은 분산 된 텍스트 표현을 사용하여 개념 간 유사성을 본다. 예를 들어, 파리와 프랑스가 베를린과 독일이 (수도와 나라) 같은 방식으로 관련되어 있음을 이해한다."
   ]
  },
  {
   "cell_type": "markdown",
   "metadata": {},
   "source": [
    "![Country and Capital Vectors Projected by PCA](https://1.bp.blogspot.com/-Q7F8ulD6fC0/UgvnVCSGmXI/AAAAAAAAAbg/MCWLTYBufhs/s1600/image00.gif)\n",
    "이미지 출처 : [https://opensource.googleblog.com/2013/08/learning-meaning-behind-words.html](https://opensource.googleblog.com/2013/08/learning-meaning-behind-words.html)"
   ]
  },
  {
   "cell_type": "markdown",
   "metadata": {},
   "source": [
    "* 단어의 임베딩과정을 실시간으로 시각화 : [word embedding visual inspector](https://ronxin.github.io/wevi/)\n",
    "![New model architecture](https://camo.githubusercontent.com/1a8235d525ad46485e764e5008cbc29c8c17a5be/68747470733a2f2f692e696d6775722e636f6d2f795859314c78562e706e67)\n"
   ]
  },
  {
   "cell_type": "markdown",
   "metadata": {},
   "source": [
    "출처 : [https://arxiv.org/pdf/1301.3781.pdf](https://arxiv.org/pdf/1301.3781.pdf) Tomas Mikolov, llya Sutskever, Kai Chen, Greg Corrado, and Jeffrey Dean, Distributed Representations of Words and Phrases and their Compositionality. In Proceedings of NIPS, 2013\n",
    "* CBOW와 Skip-Gram 기법이 있다.\n",
    "    * CBOW(continuous bag-of-words)는 전체 텍스트로 하나의 단어를 예측하기 때문에 작은 데이터셋일수록 유리하다.\n",
    "    * 아래 예제에서 _에 들어갈 단어를 예측한다.\n",
    "    \n",
    "        1) _가 맛있다.<br />\n",
    "        2) _를 타는 것이 재미있다.<br />\n",
    "        3) 평소보다 두 _로 많이 먹어서 _가 아프다.<br />\n",
    "    * Skip-Gram은 타겟 단어들로부터 원본 단어를 역으로 예측하는 것이다. CBOW와는 반대로 컨텍스트-타겟 쌍을 새로운 발견으로 처리하고 큰 규모의 데이터셋을 가질 때 유리하다.\n",
    "    * *배*라는 단어 주변에 올 수 있는 단어를 예측한다.\n",
    "        \n",
    "        1) *배*가 맛있다<br />\n",
    "        2) *배*를 타는 것이 재미있다.<br />\n",
    "        3) 평소보다 두 *배*로 많이 먹어서 *배*가 아프다"
   ]
  },
  {
   "cell_type": "markdown",
   "metadata": {},
   "source": [
    "# Word2Vec 참고자료\n",
    "* [word2vec 모델 · 텐서플로우 문서 한글 번역본](https://tensorflowkorea.gitbooks.io/tensorflow-kr/g3doc/tutorials/word2vec/)\n",
    "* [Word2Vec으로 문장 분류하기 · ratsgo's blog](https://ratsgo.github.io/natural%20language%20processing/2017/03/08/word2vec/)\n",
    "* [Efficient Estimation of Word Representations in Vector Space](https://arxiv.org/pdf/1301.3781v3.pdf)\n",
    "* [Distributed Representations of Words and Phrases and their Compositionality](http://papers.nips.cc/paper/5021-distributed-representations-of-words-and-phrases-and-their-compositionality.pdf)\n",
    "* [CS224n: Natural Language Processing with Deep Learning](http://web.stanford.edu/class/cs224n/syllabus.html)\n",
    "* [Word2Vec Tutorial - The Skip-Gram Model · Chris McCormick](http://mccormickml.com/2016/04/19/word2vec-tutorial-the-skip-gram-model/)"
   ]
  },
  {
   "cell_type": "markdown",
   "metadata": {},
   "source": [
    "# Gensim\n",
    "* [gensim: models.word2vec - Deep learning with word2vec](https://radimrehurek.com/gensim/models/word2vec.html)\n",
    "* [gensim: Tutorials](https://radimrehurek.com/gensim/tutorial.html)\n",
    "* [한국어와 NLTK, Gensim의 만남 - PyCon Korea 2015](https://www.lucypark.kr/docs/2015-pyconkr/)"
   ]
  },
  {
   "cell_type": "code",
   "execution_count": 2,
   "metadata": {},
   "outputs": [],
   "source": [
    "# 출력이 너무 길어지지 않게 하기 위해 찍지 않도록 했으나\n",
    "# 실제 학습할 때는 아래 두 줄을 주석처리 하는 것을 권장한다.\n",
    "import warnings\n",
    "warnings.filterwarnings('ignore')"
   ]
  },
  {
   "cell_type": "markdown",
   "metadata": {},
   "source": [
    "#### File Descriptions\n",
    "* labeledTrainData - 레이블이 지정된 훈련 세트. 파일은 탭으로 구분되며 각 검토에 대한 ID, 감정 및 텍스트가 포함\n",
    "* testData - 테스트 세트\n",
    "* unlabeledTrainData - 레이블이 없는 추가 훈련 세트.\n",
    "* sampleSubmission - 쉼표로 구분된 샘플 제출 파일의 올바른 형식 표시\n",
    "\n",
    "#### Data fields\n",
    "* sentiment - 긍정의 경우 1, 부정의 경우 0"
   ]
  },
  {
   "cell_type": "code",
   "execution_count": 3,
   "metadata": {},
   "outputs": [
    {
     "name": "stdout",
     "output_type": "stream",
     "text": [
      "(25000, 3)\n",
      "(25000, 2)\n",
      "(50000, 2)\n",
      "25000\n",
      "25000\n",
      "50000\n"
     ]
    }
   ],
   "source": [
    "import pandas as pd\n",
    "\n",
    "train = pd.read_csv('./data/labeledTrainData.tsv', header=0, delimiter='\\t', quoting=3)\n",
    "test = pd.read_csv('./data/testData.tsv', header=0, delimiter='\\t', quoting=3)\n",
    "unlabeled_train = pd.read_csv('./data/unlabeledTrainData.tsv', header=0, delimiter='\\t', quoting=3)\n",
    "\n",
    "print(train.shape)\n",
    "print(test.shape)\n",
    "print(unlabeled_train.shape)\n",
    "\n",
    "print(train['review'].size)\n",
    "print(test['review'].size)\n",
    "print(unlabeled_train['review'].size)"
   ]
  },
  {
   "cell_type": "code",
   "execution_count": 4,
   "metadata": {},
   "outputs": [
    {
     "data": {
      "text/html": [
       "<div>\n",
       "<style scoped>\n",
       "    .dataframe tbody tr th:only-of-type {\n",
       "        vertical-align: middle;\n",
       "    }\n",
       "\n",
       "    .dataframe tbody tr th {\n",
       "        vertical-align: top;\n",
       "    }\n",
       "\n",
       "    .dataframe thead th {\n",
       "        text-align: right;\n",
       "    }\n",
       "</style>\n",
       "<table border=\"1\" class=\"dataframe\">\n",
       "  <thead>\n",
       "    <tr style=\"text-align: right;\">\n",
       "      <th></th>\n",
       "      <th>id</th>\n",
       "      <th>sentiment</th>\n",
       "      <th>review</th>\n",
       "    </tr>\n",
       "  </thead>\n",
       "  <tbody>\n",
       "    <tr>\n",
       "      <th>0</th>\n",
       "      <td>\"5814_8\"</td>\n",
       "      <td>1</td>\n",
       "      <td>\"With all this stuff going down at the moment ...</td>\n",
       "    </tr>\n",
       "    <tr>\n",
       "      <th>1</th>\n",
       "      <td>\"2381_9\"</td>\n",
       "      <td>1</td>\n",
       "      <td>\"\\\"The Classic War of the Worlds\\\" by Timothy ...</td>\n",
       "    </tr>\n",
       "    <tr>\n",
       "      <th>2</th>\n",
       "      <td>\"7759_3\"</td>\n",
       "      <td>0</td>\n",
       "      <td>\"The film starts with a manager (Nicholas Bell...</td>\n",
       "    </tr>\n",
       "    <tr>\n",
       "      <th>3</th>\n",
       "      <td>\"3630_4\"</td>\n",
       "      <td>0</td>\n",
       "      <td>\"It must be assumed that those who praised thi...</td>\n",
       "    </tr>\n",
       "    <tr>\n",
       "      <th>4</th>\n",
       "      <td>\"9495_8\"</td>\n",
       "      <td>1</td>\n",
       "      <td>\"Superbly trashy and wondrously unpretentious ...</td>\n",
       "    </tr>\n",
       "  </tbody>\n",
       "</table>\n",
       "</div>"
      ],
      "text/plain": [
       "         id  sentiment                                             review\n",
       "0  \"5814_8\"          1  \"With all this stuff going down at the moment ...\n",
       "1  \"2381_9\"          1  \"\\\"The Classic War of the Worlds\\\" by Timothy ...\n",
       "2  \"7759_3\"          0  \"The film starts with a manager (Nicholas Bell...\n",
       "3  \"3630_4\"          0  \"It must be assumed that those who praised thi...\n",
       "4  \"9495_8\"          1  \"Superbly trashy and wondrously unpretentious ..."
      ]
     },
     "execution_count": 4,
     "metadata": {},
     "output_type": "execute_result"
    }
   ],
   "source": [
    "train.head()"
   ]
  },
  {
   "cell_type": "code",
   "execution_count": 5,
   "metadata": {},
   "outputs": [
    {
     "data": {
      "text/html": [
       "<div>\n",
       "<style scoped>\n",
       "    .dataframe tbody tr th:only-of-type {\n",
       "        vertical-align: middle;\n",
       "    }\n",
       "\n",
       "    .dataframe tbody tr th {\n",
       "        vertical-align: top;\n",
       "    }\n",
       "\n",
       "    .dataframe thead th {\n",
       "        text-align: right;\n",
       "    }\n",
       "</style>\n",
       "<table border=\"1\" class=\"dataframe\">\n",
       "  <thead>\n",
       "    <tr style=\"text-align: right;\">\n",
       "      <th></th>\n",
       "      <th>id</th>\n",
       "      <th>review</th>\n",
       "    </tr>\n",
       "  </thead>\n",
       "  <tbody>\n",
       "    <tr>\n",
       "      <th>0</th>\n",
       "      <td>\"12311_10\"</td>\n",
       "      <td>\"Naturally in a film who's main themes are of ...</td>\n",
       "    </tr>\n",
       "    <tr>\n",
       "      <th>1</th>\n",
       "      <td>\"8348_2\"</td>\n",
       "      <td>\"This movie is a disaster within a disaster fi...</td>\n",
       "    </tr>\n",
       "    <tr>\n",
       "      <th>2</th>\n",
       "      <td>\"5828_4\"</td>\n",
       "      <td>\"All in all, this is a movie for kids. We saw ...</td>\n",
       "    </tr>\n",
       "    <tr>\n",
       "      <th>3</th>\n",
       "      <td>\"7186_2\"</td>\n",
       "      <td>\"Afraid of the Dark left me with the impressio...</td>\n",
       "    </tr>\n",
       "    <tr>\n",
       "      <th>4</th>\n",
       "      <td>\"12128_7\"</td>\n",
       "      <td>\"A very accurate depiction of small time mob l...</td>\n",
       "    </tr>\n",
       "  </tbody>\n",
       "</table>\n",
       "</div>"
      ],
      "text/plain": [
       "           id                                             review\n",
       "0  \"12311_10\"  \"Naturally in a film who's main themes are of ...\n",
       "1    \"8348_2\"  \"This movie is a disaster within a disaster fi...\n",
       "2    \"5828_4\"  \"All in all, this is a movie for kids. We saw ...\n",
       "3    \"7186_2\"  \"Afraid of the Dark left me with the impressio...\n",
       "4   \"12128_7\"  \"A very accurate depiction of small time mob l..."
      ]
     },
     "execution_count": 5,
     "metadata": {},
     "output_type": "execute_result"
    }
   ],
   "source": [
    "test.head()"
   ]
  },
  {
   "cell_type": "code",
   "execution_count": 6,
   "metadata": {},
   "outputs": [
    {
     "data": {
      "text/html": [
       "<div>\n",
       "<style scoped>\n",
       "    .dataframe tbody tr th:only-of-type {\n",
       "        vertical-align: middle;\n",
       "    }\n",
       "\n",
       "    .dataframe tbody tr th {\n",
       "        vertical-align: top;\n",
       "    }\n",
       "\n",
       "    .dataframe thead th {\n",
       "        text-align: right;\n",
       "    }\n",
       "</style>\n",
       "<table border=\"1\" class=\"dataframe\">\n",
       "  <thead>\n",
       "    <tr style=\"text-align: right;\">\n",
       "      <th></th>\n",
       "      <th>id</th>\n",
       "      <th>review</th>\n",
       "    </tr>\n",
       "  </thead>\n",
       "  <tbody>\n",
       "    <tr>\n",
       "      <th>0</th>\n",
       "      <td>\"9999_0\"</td>\n",
       "      <td>\"Watching Time Chasers, it obvious that it was...</td>\n",
       "    </tr>\n",
       "    <tr>\n",
       "      <th>1</th>\n",
       "      <td>\"45057_0\"</td>\n",
       "      <td>\"I saw this film about 20 years ago and rememb...</td>\n",
       "    </tr>\n",
       "    <tr>\n",
       "      <th>2</th>\n",
       "      <td>\"15561_0\"</td>\n",
       "      <td>\"Minor Spoilers&lt;br /&gt;&lt;br /&gt;In New York, Joan B...</td>\n",
       "    </tr>\n",
       "    <tr>\n",
       "      <th>3</th>\n",
       "      <td>\"7161_0\"</td>\n",
       "      <td>\"I went to see this film with a great deal of ...</td>\n",
       "    </tr>\n",
       "    <tr>\n",
       "      <th>4</th>\n",
       "      <td>\"43971_0\"</td>\n",
       "      <td>\"Yes, I agree with everyone on this site this ...</td>\n",
       "    </tr>\n",
       "  </tbody>\n",
       "</table>\n",
       "</div>"
      ],
      "text/plain": [
       "          id                                             review\n",
       "0   \"9999_0\"  \"Watching Time Chasers, it obvious that it was...\n",
       "1  \"45057_0\"  \"I saw this film about 20 years ago and rememb...\n",
       "2  \"15561_0\"  \"Minor Spoilers<br /><br />In New York, Joan B...\n",
       "3   \"7161_0\"  \"I went to see this film with a great deal of ...\n",
       "4  \"43971_0\"  \"Yes, I agree with everyone on this site this ..."
      ]
     },
     "execution_count": 6,
     "metadata": {},
     "output_type": "execute_result"
    }
   ],
   "source": [
    "unlabeled_train.head()"
   ]
  },
  {
   "cell_type": "code",
   "execution_count": 7,
   "metadata": {},
   "outputs": [],
   "source": [
    "from KaggleWord2VecUtility import KaggleWord2VecUtility"
   ]
  },
  {
   "cell_type": "code",
   "execution_count": 8,
   "metadata": {},
   "outputs": [
    {
     "data": {
      "text/plain": [
       "'\"With all this stuff going down at the moment with MJ i\\'ve started listening to his music, watching the odd documentary here and there, watched The Wiz and watched Moonwalker again. Maybe i just want to get a certain insight into this guy who i thought was really cool in the eighties just to maybe make up my mind whether he is guilty or innocent. Moonwalker is part biography, part feature film which i remember going to see at the cinema when it was originally released. Some of it has subtle messages about MJ\\'s feeling towards the press and also the obvious message of drugs are bad m\\'kay.<br /><br />Visually impressive but of course this is all about Michael Jackson so unless you remotely lik'"
      ]
     },
     "execution_count": 8,
     "metadata": {},
     "output_type": "execute_result"
    }
   ],
   "source": [
    "train['review'][0][:700]"
   ]
  },
  {
   "cell_type": "code",
   "execution_count": 9,
   "metadata": {},
   "outputs": [
    {
     "data": {
      "text/plain": [
       "['with', 'all', 'this', 'stuff', 'go', 'down', 'at', 'the', 'moment', 'with']"
      ]
     },
     "execution_count": 9,
     "metadata": {},
     "output_type": "execute_result"
    }
   ],
   "source": [
    "KaggleWord2VecUtility.review_to_wordlist(train['review'][0])[:10]"
   ]
  },
  {
   "cell_type": "code",
   "execution_count": 11,
   "metadata": {},
   "outputs": [
    {
     "name": "stdout",
     "output_type": "stream",
     "text": [
      "[nltk_data] Downloading package punkt to\n",
      "[nltk_data]     C:\\Users\\dhcho\\AppData\\Roaming\\nltk_data...\n",
      "[nltk_data]   Unzipping tokenizers\\punkt.zip.\n"
     ]
    }
   ],
   "source": [
    "import nltk\n",
    "nltk.download('punkt')\n",
    "\n",
    "sentences = []\n",
    "for review in train[\"review\"]:\n",
    "    sentences += KaggleWord2VecUtility.review_to_sentences(\n",
    "                                        review, remove_stopwords=False)"
   ]
  },
  {
   "cell_type": "code",
   "execution_count": 20,
   "metadata": {
    "scrolled": true
   },
   "outputs": [
    {
     "data": {
      "text/plain": [
       "['some', 'of', 'it', 'has', 'subtl', 'messag', 'about', 'mj', 's', 'feel']"
      ]
     },
     "execution_count": 20,
     "metadata": {},
     "output_type": "execute_result"
    }
   ],
   "source": [
    "sentences[3][:10]"
   ]
  },
  {
   "cell_type": "code",
   "execution_count": 16,
   "metadata": {},
   "outputs": [],
   "source": [
    "for review in unlabeled_train[\"review\"]:\n",
    "    sentences += KaggleWord2VecUtility.review_to_sentences(\n",
    "                                        review, remove_stopwords=False)"
   ]
  },
  {
   "cell_type": "code",
   "execution_count": 17,
   "metadata": {},
   "outputs": [
    {
     "data": {
      "text/plain": [
       "795538"
      ]
     },
     "execution_count": 17,
     "metadata": {},
     "output_type": "execute_result"
    }
   ],
   "source": [
    "len(sentences)"
   ]
  },
  {
   "cell_type": "code",
   "execution_count": 18,
   "metadata": {},
   "outputs": [
    {
     "data": {
      "text/plain": [
       "['with', 'all', 'this', 'stuff', 'go', 'down', 'at', 'the', 'moment', 'with']"
      ]
     },
     "execution_count": 18,
     "metadata": {},
     "output_type": "execute_result"
    }
   ],
   "source": [
    "sentences[0][:10]"
   ]
  },
  {
   "cell_type": "code",
   "execution_count": 19,
   "metadata": {},
   "outputs": [
    {
     "data": {
      "text/plain": [
       "['mayb', 'i', 'just', 'want', 'to', 'get', 'a', 'certain', 'insight', 'into']"
      ]
     },
     "execution_count": 19,
     "metadata": {},
     "output_type": "execute_result"
    }
   ],
   "source": [
    "sentences[1][:10]"
   ]
  },
  {
   "cell_type": "markdown",
   "metadata": {},
   "source": [
    "## Word2Vec 모델을 학습\n",
    "전처리를 거쳐 파싱된 문장의 목록으로 모델을 학습시킬 준비가 되었다"
   ]
  },
  {
   "cell_type": "markdown",
   "metadata": {},
   "source": [
    "## Gensim\n",
    "* [gensim: models.word2vec - Deep learning with word2vec](https://radimrehurek.com/gensim/models/word2vec.html)"
   ]
  },
  {
   "cell_type": "markdown",
   "metadata": {},
   "source": [
    "## Word2Vec 모델의 파라메터\n",
    "* 아키텍쳐 : 아키텍쳐 옵션은 skip-gram (default) 또는 CBOW 모델이다. skip-gram (default)은 느리지만 더 나은 결과를 낸다.\n",
    "* 학습 알고리즘 : Hierarchical softmax (default) 또는 negative 샘플링. 여기에서는 기본값이 잘 동작한다.\n",
    "* 빈번하게 등장하는 단어에 대한 다운 샘플링 : Google 문서는 .00001에서 .001 사이의 값을 권장한다. 여기에서는 0.001에 가까운 값이 최종 모델의 정확도를 높이는 것으로 보여진다.\n",
    "* 단어 벡터 차원 : 많은 feature를 사용한다고 항상 좋은 것은 아니지만 대체적으로 좀 나은 모델이 된다. 합리적인 값은 수십에서 수백 개가 될 수 있고 여기에서는 300으로 지정했다.\n",
    "* 컨텍스트 / 창 크기 : 학습 알고리즘이 고려해야하는 컨텍스트의 단어 수는 얼마나 될까? hierarchical softmax 를 위해 좀 더 큰 수가 좋지만 10정도가 적당하다.\n",
    "* Worker threads : 실행할 병렬 프로세스의 수로 컴퓨터마다 다르지만 대부분의 시스템에서 4에서 6사이의 값을 사용한다.\n",
    "* 최소 단어 수 : 어휘의 크기를 의미있는 단어로 제한하는데 도움이 된다. 모든 문서에서 여러 번 발생하지 않는 단어는 무시된다. 10에서 100사이가 적당하며, 이 경진대회의 데이터는 각 영화가 30개씩의 리뷰가 있기 때문에 개별 영화 제목에 너무 많은 중요성이 붙는 것을 피하기 위해 최소 단어 수를 40으로 설정한다. 그 결과 전체 어휘 크기는 약 15,000 단어가 된다. 높은 값은 제한 된 실행시간에 도움이 된다."
   ]
  },
  {
   "cell_type": "code",
   "execution_count": 21,
   "metadata": {},
   "outputs": [],
   "source": [
    "import logging\n",
    "logging.basicConfig(\n",
    "    format='%(asctime)s : %(levelname)s : %(message)s', level=logging.INFO)"
   ]
  },
  {
   "cell_type": "code",
   "execution_count": 22,
   "metadata": {},
   "outputs": [
    {
     "name": "stderr",
     "output_type": "stream",
     "text": [
      "2018-07-12 14:07:00,445 : INFO : 'pattern' package not found; tag filters are not available for English\n",
      "2018-07-12 14:07:00,475 : INFO : collecting all words and their counts\n",
      "2018-07-12 14:07:00,475 : INFO : PROGRESS: at sentence #0, processed 0 words, keeping 0 word types\n",
      "2018-07-12 14:07:00,522 : INFO : PROGRESS: at sentence #10000, processed 225803 words, keeping 12465 word types\n",
      "2018-07-12 14:07:00,563 : INFO : PROGRESS: at sentence #20000, processed 451892 words, keeping 17070 word types\n",
      "2018-07-12 14:07:00,606 : INFO : PROGRESS: at sentence #30000, processed 671314 words, keeping 20370 word types\n",
      "2018-07-12 14:07:00,649 : INFO : PROGRESS: at sentence #40000, processed 897814 words, keeping 23125 word types\n",
      "2018-07-12 14:07:00,691 : INFO : PROGRESS: at sentence #50000, processed 1116962 words, keeping 25365 word types\n",
      "2018-07-12 14:07:00,733 : INFO : PROGRESS: at sentence #60000, processed 1338403 words, keeping 27283 word types\n",
      "2018-07-12 14:07:00,777 : INFO : PROGRESS: at sentence #70000, processed 1561579 words, keeping 29024 word types\n",
      "2018-07-12 14:07:00,820 : INFO : PROGRESS: at sentence #80000, processed 1780886 words, keeping 30603 word types\n",
      "2018-07-12 14:07:00,865 : INFO : PROGRESS: at sentence #90000, processed 2004995 words, keeping 32223 word types\n",
      "2018-07-12 14:07:00,902 : INFO : PROGRESS: at sentence #100000, processed 2226966 words, keeping 33579 word types\n",
      "2018-07-12 14:07:00,951 : INFO : PROGRESS: at sentence #110000, processed 2446580 words, keeping 34827 word types\n",
      "2018-07-12 14:07:00,995 : INFO : PROGRESS: at sentence #120000, processed 2668775 words, keeping 36183 word types\n",
      "2018-07-12 14:07:01,038 : INFO : PROGRESS: at sentence #130000, processed 2894303 words, keeping 37353 word types\n",
      "2018-07-12 14:07:01,080 : INFO : PROGRESS: at sentence #140000, processed 3107005 words, keeping 38376 word types\n",
      "2018-07-12 14:07:01,132 : INFO : PROGRESS: at sentence #150000, processed 3332627 words, keeping 39556 word types\n",
      "2018-07-12 14:07:01,181 : INFO : PROGRESS: at sentence #160000, processed 3555315 words, keeping 40629 word types\n",
      "2018-07-12 14:07:01,217 : INFO : PROGRESS: at sentence #170000, processed 3778655 words, keeping 41628 word types\n",
      "2018-07-12 14:07:01,259 : INFO : PROGRESS: at sentence #180000, processed 3999236 words, keeping 42599 word types\n",
      "2018-07-12 14:07:01,310 : INFO : PROGRESS: at sentence #190000, processed 4224449 words, keeping 43461 word types\n",
      "2018-07-12 14:07:01,363 : INFO : PROGRESS: at sentence #200000, processed 4448603 words, keeping 44301 word types\n",
      "2018-07-12 14:07:01,410 : INFO : PROGRESS: at sentence #210000, processed 4669967 words, keeping 45212 word types\n",
      "2018-07-12 14:07:01,454 : INFO : PROGRESS: at sentence #220000, processed 4894968 words, keeping 46134 word types\n",
      "2018-07-12 14:07:01,498 : INFO : PROGRESS: at sentence #230000, processed 5117545 words, keeping 46986 word types\n",
      "2018-07-12 14:07:01,544 : INFO : PROGRESS: at sentence #240000, processed 5345050 words, keeping 47854 word types\n",
      "2018-07-12 14:07:01,589 : INFO : PROGRESS: at sentence #250000, processed 5559165 words, keeping 48699 word types\n",
      "2018-07-12 14:07:01,629 : INFO : PROGRESS: at sentence #260000, processed 5779146 words, keeping 49469 word types\n",
      "2018-07-12 14:07:01,680 : INFO : PROGRESS: at sentence #270000, processed 6000435 words, keeping 50416 word types\n",
      "2018-07-12 14:07:01,726 : INFO : PROGRESS: at sentence #280000, processed 6226314 words, keeping 51640 word types\n",
      "2018-07-12 14:07:01,761 : INFO : PROGRESS: at sentence #290000, processed 6449474 words, keeping 52754 word types\n",
      "2018-07-12 14:07:01,815 : INFO : PROGRESS: at sentence #300000, processed 6674077 words, keeping 53755 word types\n",
      "2018-07-12 14:07:01,862 : INFO : PROGRESS: at sentence #310000, processed 6899391 words, keeping 54734 word types\n",
      "2018-07-12 14:07:01,910 : INFO : PROGRESS: at sentence #320000, processed 7124278 words, keeping 55770 word types\n",
      "2018-07-12 14:07:01,953 : INFO : PROGRESS: at sentence #330000, processed 7346021 words, keeping 56687 word types\n",
      "2018-07-12 14:07:01,994 : INFO : PROGRESS: at sentence #340000, processed 7575533 words, keeping 57629 word types\n",
      "2018-07-12 14:07:02,039 : INFO : PROGRESS: at sentence #350000, processed 7798803 words, keeping 58485 word types\n",
      "2018-07-12 14:07:02,090 : INFO : PROGRESS: at sentence #360000, processed 8019466 words, keeping 59345 word types\n",
      "2018-07-12 14:07:02,143 : INFO : PROGRESS: at sentence #370000, processed 8246654 words, keeping 60161 word types\n",
      "2018-07-12 14:07:02,200 : INFO : PROGRESS: at sentence #380000, processed 8471801 words, keeping 61069 word types\n",
      "2018-07-12 14:07:02,256 : INFO : PROGRESS: at sentence #390000, processed 8701551 words, keeping 61810 word types\n",
      "2018-07-12 14:07:02,324 : INFO : PROGRESS: at sentence #400000, processed 8924500 words, keeping 62546 word types\n",
      "2018-07-12 14:07:02,382 : INFO : PROGRESS: at sentence #410000, processed 9145850 words, keeping 63263 word types\n",
      "2018-07-12 14:07:02,435 : INFO : PROGRESS: at sentence #420000, processed 9366930 words, keeping 64024 word types\n",
      "2018-07-12 14:07:02,490 : INFO : PROGRESS: at sentence #430000, processed 9594467 words, keeping 64795 word types\n",
      "2018-07-12 14:07:02,543 : INFO : PROGRESS: at sentence #440000, processed 9821218 words, keeping 65539 word types\n",
      "2018-07-12 14:07:02,598 : INFO : PROGRESS: at sentence #450000, processed 10044980 words, keeping 66378 word types\n",
      "2018-07-12 14:07:02,658 : INFO : PROGRESS: at sentence #460000, processed 10277740 words, keeping 67158 word types\n",
      "2018-07-12 14:07:02,697 : INFO : PROGRESS: at sentence #470000, processed 10505665 words, keeping 67775 word types\n",
      "2018-07-12 14:07:02,752 : INFO : PROGRESS: at sentence #480000, processed 10726049 words, keeping 68500 word types\n",
      "2018-07-12 14:07:02,794 : INFO : PROGRESS: at sentence #490000, processed 10952793 words, keeping 69256 word types\n",
      "2018-07-12 14:07:02,848 : INFO : PROGRESS: at sentence #500000, processed 11174449 words, keeping 69892 word types\n",
      "2018-07-12 14:07:02,895 : INFO : PROGRESS: at sentence #510000, processed 11399724 words, keeping 70593 word types\n",
      "2018-07-12 14:07:02,950 : INFO : PROGRESS: at sentence #520000, processed 11623075 words, keeping 71267 word types\n",
      "2018-07-12 14:07:03,001 : INFO : PROGRESS: at sentence #530000, processed 11847473 words, keeping 71877 word types\n",
      "2018-07-12 14:07:03,060 : INFO : PROGRESS: at sentence #540000, processed 12072088 words, keeping 72537 word types\n",
      "2018-07-12 14:07:03,117 : INFO : PROGRESS: at sentence #550000, processed 12297639 words, keeping 73212 word types\n",
      "2018-07-12 14:07:03,186 : INFO : PROGRESS: at sentence #560000, processed 12518929 words, keeping 73861 word types\n",
      "2018-07-12 14:07:03,249 : INFO : PROGRESS: at sentence #570000, processed 12748076 words, keeping 74431 word types\n",
      "2018-07-12 14:07:03,302 : INFO : PROGRESS: at sentence #580000, processed 12969572 words, keeping 75087 word types\n",
      "2018-07-12 14:07:03,364 : INFO : PROGRESS: at sentence #590000, processed 13195097 words, keeping 75733 word types\n",
      "2018-07-12 14:07:03,410 : INFO : PROGRESS: at sentence #600000, processed 13417295 words, keeping 76294 word types\n",
      "2018-07-12 14:07:03,452 : INFO : PROGRESS: at sentence #610000, processed 13638318 words, keeping 76952 word types\n",
      "2018-07-12 14:07:03,501 : INFO : PROGRESS: at sentence #620000, processed 13864643 words, keeping 77503 word types\n",
      "2018-07-12 14:07:03,551 : INFO : PROGRESS: at sentence #630000, processed 14088929 words, keeping 78066 word types\n",
      "2018-07-12 14:07:03,599 : INFO : PROGRESS: at sentence #640000, processed 14309712 words, keeping 78692 word types\n",
      "2018-07-12 14:07:03,646 : INFO : PROGRESS: at sentence #650000, processed 14535468 words, keeping 79295 word types\n",
      "2018-07-12 14:07:03,698 : INFO : PROGRESS: at sentence #660000, processed 14758258 words, keeping 79864 word types\n",
      "2018-07-12 14:07:03,751 : INFO : PROGRESS: at sentence #670000, processed 14981651 words, keeping 80381 word types\n",
      "2018-07-12 14:07:03,812 : INFO : PROGRESS: at sentence #680000, processed 15206483 words, keeping 80912 word types\n",
      "2018-07-12 14:07:03,881 : INFO : PROGRESS: at sentence #690000, processed 15428676 words, keeping 81482 word types\n",
      "2018-07-12 14:07:03,944 : INFO : PROGRESS: at sentence #700000, processed 15657382 words, keeping 82074 word types\n"
     ]
    },
    {
     "name": "stderr",
     "output_type": "stream",
     "text": [
      "2018-07-12 14:07:03,991 : INFO : PROGRESS: at sentence #710000, processed 15880371 words, keeping 82560 word types\n",
      "2018-07-12 14:07:04,039 : INFO : PROGRESS: at sentence #720000, processed 16105658 words, keeping 83036 word types\n",
      "2018-07-12 14:07:04,083 : INFO : PROGRESS: at sentence #730000, processed 16332039 words, keeping 83571 word types\n",
      "2018-07-12 14:07:04,134 : INFO : PROGRESS: at sentence #740000, processed 16553072 words, keeping 84127 word types\n",
      "2018-07-12 14:07:04,184 : INFO : PROGRESS: at sentence #750000, processed 16771399 words, keeping 84599 word types\n",
      "2018-07-12 14:07:04,229 : INFO : PROGRESS: at sentence #760000, processed 16990803 words, keeping 85068 word types\n",
      "2018-07-12 14:07:04,273 : INFO : PROGRESS: at sentence #770000, processed 17217940 words, keeping 85644 word types\n",
      "2018-07-12 14:07:04,318 : INFO : PROGRESS: at sentence #780000, processed 17448086 words, keeping 86160 word types\n",
      "2018-07-12 14:07:04,366 : INFO : PROGRESS: at sentence #790000, processed 17675162 words, keeping 86665 word types\n",
      "2018-07-12 14:07:04,390 : INFO : collected 86996 word types from a corpus of 17798263 raw words and 795538 sentences\n",
      "2018-07-12 14:07:04,391 : INFO : Loading a fresh vocabulary\n",
      "2018-07-12 14:07:04,453 : INFO : effective_min_count=40 retains 11986 unique words (13% of original 86996, drops 75010)\n",
      "2018-07-12 14:07:04,454 : INFO : effective_min_count=40 leaves 17434026 word corpus (97% of original 17798263, drops 364237)\n",
      "2018-07-12 14:07:04,491 : INFO : deleting the raw counts dictionary of 86996 items\n",
      "2018-07-12 14:07:04,495 : INFO : sample=0.001 downsamples 50 most-common words\n",
      "2018-07-12 14:07:04,496 : INFO : downsampling leaves estimated 12872359 word corpus (73.8% of prior 17434026)\n",
      "2018-07-12 14:07:04,535 : INFO : estimated required memory for 11986 words and 300 dimensions: 34759400 bytes\n",
      "2018-07-12 14:07:04,535 : INFO : resetting layer weights\n",
      "2018-07-12 14:07:04,720 : INFO : training model with 4 workers on 11986 vocabulary and 300 features, using sg=0 hs=0 sample=0.001 negative=5 window=10\n",
      "2018-07-12 14:07:05,730 : INFO : EPOCH 1 - PROGRESS: at 5.71% examples, 733937 words/s, in_qsize 7, out_qsize 0\n",
      "2018-07-12 14:07:06,734 : INFO : EPOCH 1 - PROGRESS: at 11.73% examples, 748319 words/s, in_qsize 7, out_qsize 0\n",
      "2018-07-12 14:07:07,740 : INFO : EPOCH 1 - PROGRESS: at 17.69% examples, 750168 words/s, in_qsize 8, out_qsize 0\n",
      "2018-07-12 14:07:08,748 : INFO : EPOCH 1 - PROGRESS: at 23.53% examples, 749062 words/s, in_qsize 7, out_qsize 0\n",
      "2018-07-12 14:07:09,750 : INFO : EPOCH 1 - PROGRESS: at 29.26% examples, 746069 words/s, in_qsize 8, out_qsize 0\n",
      "2018-07-12 14:07:10,759 : INFO : EPOCH 1 - PROGRESS: at 35.05% examples, 743156 words/s, in_qsize 8, out_qsize 0\n",
      "2018-07-12 14:07:11,765 : INFO : EPOCH 1 - PROGRESS: at 40.80% examples, 742596 words/s, in_qsize 7, out_qsize 0\n",
      "2018-07-12 14:07:12,772 : INFO : EPOCH 1 - PROGRESS: at 46.45% examples, 740261 words/s, in_qsize 7, out_qsize 0\n",
      "2018-07-12 14:07:13,777 : INFO : EPOCH 1 - PROGRESS: at 52.16% examples, 739426 words/s, in_qsize 7, out_qsize 0\n",
      "2018-07-12 14:07:14,801 : INFO : EPOCH 1 - PROGRESS: at 57.73% examples, 736601 words/s, in_qsize 8, out_qsize 0\n",
      "2018-07-12 14:07:15,806 : INFO : EPOCH 1 - PROGRESS: at 63.45% examples, 736263 words/s, in_qsize 7, out_qsize 0\n",
      "2018-07-12 14:07:16,817 : INFO : EPOCH 1 - PROGRESS: at 69.03% examples, 734477 words/s, in_qsize 7, out_qsize 0\n",
      "2018-07-12 14:07:17,819 : INFO : EPOCH 1 - PROGRESS: at 74.63% examples, 733419 words/s, in_qsize 7, out_qsize 0\n",
      "2018-07-12 14:07:18,823 : INFO : EPOCH 1 - PROGRESS: at 80.15% examples, 731345 words/s, in_qsize 8, out_qsize 0\n",
      "2018-07-12 14:07:19,827 : INFO : EPOCH 1 - PROGRESS: at 85.68% examples, 730100 words/s, in_qsize 7, out_qsize 0\n",
      "2018-07-12 14:07:20,827 : INFO : EPOCH 1 - PROGRESS: at 91.09% examples, 728208 words/s, in_qsize 8, out_qsize 0\n",
      "2018-07-12 14:07:21,828 : INFO : EPOCH 1 - PROGRESS: at 96.64% examples, 726936 words/s, in_qsize 8, out_qsize 0\n",
      "2018-07-12 14:07:22,431 : INFO : worker thread finished; awaiting finish of 3 more threads\n",
      "2018-07-12 14:07:22,436 : INFO : worker thread finished; awaiting finish of 2 more threads\n",
      "2018-07-12 14:07:22,451 : INFO : worker thread finished; awaiting finish of 1 more threads\n",
      "2018-07-12 14:07:22,459 : INFO : worker thread finished; awaiting finish of 0 more threads\n",
      "2018-07-12 14:07:22,461 : INFO : EPOCH - 1 : training on 17798263 raw words (12871362 effective words) took 17.7s, 725782 effective words/s\n",
      "2018-07-12 14:07:23,469 : INFO : EPOCH 2 - PROGRESS: at 5.37% examples, 693440 words/s, in_qsize 8, out_qsize 0\n",
      "2018-07-12 14:07:24,474 : INFO : EPOCH 2 - PROGRESS: at 10.59% examples, 676944 words/s, in_qsize 7, out_qsize 0\n",
      "2018-07-12 14:07:25,481 : INFO : EPOCH 2 - PROGRESS: at 15.17% examples, 645098 words/s, in_qsize 7, out_qsize 0\n",
      "2018-07-12 14:07:26,493 : INFO : EPOCH 2 - PROGRESS: at 19.99% examples, 635353 words/s, in_qsize 8, out_qsize 0\n",
      "2018-07-12 14:07:27,503 : INFO : EPOCH 2 - PROGRESS: at 24.83% examples, 631293 words/s, in_qsize 8, out_qsize 0\n",
      "2018-07-12 14:07:28,506 : INFO : EPOCH 2 - PROGRESS: at 29.48% examples, 625510 words/s, in_qsize 8, out_qsize 0\n",
      "2018-07-12 14:07:29,507 : INFO : EPOCH 2 - PROGRESS: at 34.22% examples, 621475 words/s, in_qsize 7, out_qsize 0\n",
      "2018-07-12 14:07:30,513 : INFO : EPOCH 2 - PROGRESS: at 38.79% examples, 617317 words/s, in_qsize 7, out_qsize 0\n",
      "2018-07-12 14:07:31,520 : INFO : EPOCH 2 - PROGRESS: at 43.30% examples, 613232 words/s, in_qsize 7, out_qsize 0\n",
      "2018-07-12 14:07:32,526 : INFO : EPOCH 2 - PROGRESS: at 47.79% examples, 609301 words/s, in_qsize 7, out_qsize 0\n",
      "2018-07-12 14:07:33,533 : INFO : EPOCH 2 - PROGRESS: at 52.43% examples, 607977 words/s, in_qsize 7, out_qsize 0\n",
      "2018-07-12 14:07:34,539 : INFO : EPOCH 2 - PROGRESS: at 57.15% examples, 608116 words/s, in_qsize 8, out_qsize 0\n",
      "2018-07-12 14:07:35,547 : INFO : EPOCH 2 - PROGRESS: at 61.87% examples, 608230 words/s, in_qsize 7, out_qsize 0\n",
      "2018-07-12 14:07:36,554 : INFO : EPOCH 2 - PROGRESS: at 66.63% examples, 608325 words/s, in_qsize 8, out_qsize 0\n",
      "2018-07-12 14:07:37,564 : INFO : EPOCH 2 - PROGRESS: at 71.38% examples, 608347 words/s, in_qsize 8, out_qsize 0\n",
      "2018-07-12 14:07:38,577 : INFO : EPOCH 2 - PROGRESS: at 76.22% examples, 608645 words/s, in_qsize 7, out_qsize 0\n",
      "2018-07-12 14:07:39,578 : INFO : EPOCH 2 - PROGRESS: at 80.93% examples, 608438 words/s, in_qsize 7, out_qsize 0\n",
      "2018-07-12 14:07:40,580 : INFO : EPOCH 2 - PROGRESS: at 85.68% examples, 608673 words/s, in_qsize 8, out_qsize 0\n",
      "2018-07-12 14:07:41,591 : INFO : EPOCH 2 - PROGRESS: at 90.48% examples, 608957 words/s, in_qsize 7, out_qsize 0\n",
      "2018-07-12 14:07:42,607 : INFO : EPOCH 2 - PROGRESS: at 95.41% examples, 609433 words/s, in_qsize 7, out_qsize 0\n",
      "2018-07-12 14:07:43,546 : INFO : worker thread finished; awaiting finish of 3 more threads\n",
      "2018-07-12 14:07:43,561 : INFO : worker thread finished; awaiting finish of 2 more threads\n",
      "2018-07-12 14:07:43,565 : INFO : worker thread finished; awaiting finish of 1 more threads\n",
      "2018-07-12 14:07:43,571 : INFO : worker thread finished; awaiting finish of 0 more threads\n",
      "2018-07-12 14:07:43,575 : INFO : EPOCH - 2 : training on 17798263 raw words (12871530 effective words) took 21.1s, 609864 effective words/s\n",
      "2018-07-12 14:07:44,594 : INFO : EPOCH 3 - PROGRESS: at 4.48% examples, 576929 words/s, in_qsize 7, out_qsize 0\n",
      "2018-07-12 14:07:45,596 : INFO : EPOCH 3 - PROGRESS: at 9.12% examples, 583396 words/s, in_qsize 7, out_qsize 0\n",
      "2018-07-12 14:07:46,605 : INFO : EPOCH 3 - PROGRESS: at 13.88% examples, 589621 words/s, in_qsize 8, out_qsize 0\n",
      "2018-07-12 14:07:47,609 : INFO : EPOCH 3 - PROGRESS: at 18.69% examples, 594866 words/s, in_qsize 7, out_qsize 0\n",
      "2018-07-12 14:07:48,617 : INFO : EPOCH 3 - PROGRESS: at 23.43% examples, 596275 words/s, in_qsize 7, out_qsize 0\n",
      "2018-07-12 14:07:49,621 : INFO : EPOCH 3 - PROGRESS: at 28.20% examples, 598661 words/s, in_qsize 8, out_qsize 0\n",
      "2018-07-12 14:07:50,622 : INFO : EPOCH 3 - PROGRESS: at 32.97% examples, 599665 words/s, in_qsize 7, out_qsize 0\n",
      "2018-07-12 14:07:51,636 : INFO : EPOCH 3 - PROGRESS: at 37.73% examples, 600336 words/s, in_qsize 8, out_qsize 0\n",
      "2018-07-12 14:07:52,642 : INFO : EPOCH 3 - PROGRESS: at 42.47% examples, 601415 words/s, in_qsize 8, out_qsize 0\n"
     ]
    },
    {
     "name": "stderr",
     "output_type": "stream",
     "text": [
      "2018-07-12 14:07:53,654 : INFO : EPOCH 3 - PROGRESS: at 47.28% examples, 602569 words/s, in_qsize 7, out_qsize 0\n",
      "2018-07-12 14:07:54,658 : INFO : EPOCH 3 - PROGRESS: at 52.04% examples, 603373 words/s, in_qsize 7, out_qsize 0\n",
      "2018-07-12 14:07:55,661 : INFO : EPOCH 3 - PROGRESS: at 56.60% examples, 602265 words/s, in_qsize 7, out_qsize 0\n",
      "2018-07-12 14:07:56,673 : INFO : EPOCH 3 - PROGRESS: at 61.30% examples, 602600 words/s, in_qsize 7, out_qsize 0\n",
      "2018-07-12 14:07:57,684 : INFO : EPOCH 3 - PROGRESS: at 66.06% examples, 602959 words/s, in_qsize 8, out_qsize 0\n",
      "2018-07-12 14:07:58,684 : INFO : EPOCH 3 - PROGRESS: at 70.71% examples, 602688 words/s, in_qsize 7, out_qsize 0\n",
      "2018-07-12 14:07:59,699 : INFO : EPOCH 3 - PROGRESS: at 75.64% examples, 604186 words/s, in_qsize 8, out_qsize 0\n",
      "2018-07-12 14:08:00,702 : INFO : EPOCH 3 - PROGRESS: at 80.31% examples, 603781 words/s, in_qsize 7, out_qsize 0\n",
      "2018-07-12 14:08:01,706 : INFO : EPOCH 3 - PROGRESS: at 85.05% examples, 604219 words/s, in_qsize 7, out_qsize 0\n",
      "2018-07-12 14:08:02,717 : INFO : EPOCH 3 - PROGRESS: at 89.85% examples, 604707 words/s, in_qsize 8, out_qsize 0\n",
      "2018-07-12 14:08:03,725 : INFO : EPOCH 3 - PROGRESS: at 94.60% examples, 604599 words/s, in_qsize 7, out_qsize 0\n",
      "2018-07-12 14:08:04,728 : INFO : EPOCH 3 - PROGRESS: at 99.22% examples, 604268 words/s, in_qsize 7, out_qsize 0\n",
      "2018-07-12 14:08:04,855 : INFO : worker thread finished; awaiting finish of 3 more threads\n",
      "2018-07-12 14:08:04,864 : INFO : worker thread finished; awaiting finish of 2 more threads\n",
      "2018-07-12 14:08:04,886 : INFO : worker thread finished; awaiting finish of 1 more threads\n",
      "2018-07-12 14:08:04,890 : INFO : worker thread finished; awaiting finish of 0 more threads\n",
      "2018-07-12 14:08:04,891 : INFO : EPOCH - 3 : training on 17798263 raw words (12872677 effective words) took 21.3s, 604344 effective words/s\n",
      "2018-07-12 14:08:05,920 : INFO : EPOCH 4 - PROGRESS: at 4.59% examples, 586089 words/s, in_qsize 8, out_qsize 0\n",
      "2018-07-12 14:08:06,926 : INFO : EPOCH 4 - PROGRESS: at 9.34% examples, 594373 words/s, in_qsize 7, out_qsize 0\n",
      "2018-07-12 14:08:07,928 : INFO : EPOCH 4 - PROGRESS: at 14.11% examples, 598308 words/s, in_qsize 6, out_qsize 1\n",
      "2018-07-12 14:08:08,929 : INFO : EPOCH 4 - PROGRESS: at 18.87% examples, 600121 words/s, in_qsize 7, out_qsize 0\n",
      "2018-07-12 14:08:09,938 : INFO : EPOCH 4 - PROGRESS: at 23.60% examples, 600314 words/s, in_qsize 8, out_qsize 0\n",
      "2018-07-12 14:08:10,943 : INFO : EPOCH 4 - PROGRESS: at 28.31% examples, 600631 words/s, in_qsize 8, out_qsize 1\n",
      "2018-07-12 14:08:11,964 : INFO : EPOCH 4 - PROGRESS: at 33.21% examples, 601572 words/s, in_qsize 8, out_qsize 0\n",
      "2018-07-12 14:08:12,968 : INFO : EPOCH 4 - PROGRESS: at 37.95% examples, 602739 words/s, in_qsize 8, out_qsize 0\n",
      "2018-07-12 14:08:13,975 : INFO : EPOCH 4 - PROGRESS: at 42.63% examples, 602703 words/s, in_qsize 8, out_qsize 0\n",
      "2018-07-12 14:08:14,982 : INFO : EPOCH 4 - PROGRESS: at 47.39% examples, 603387 words/s, in_qsize 7, out_qsize 0\n",
      "2018-07-12 14:08:15,983 : INFO : EPOCH 4 - PROGRESS: at 51.99% examples, 602316 words/s, in_qsize 8, out_qsize 0\n",
      "2018-07-12 14:08:16,991 : INFO : EPOCH 4 - PROGRESS: at 56.71% examples, 602858 words/s, in_qsize 7, out_qsize 0\n",
      "2018-07-12 14:08:18,004 : INFO : EPOCH 4 - PROGRESS: at 61.36% examples, 602480 words/s, in_qsize 8, out_qsize 0\n",
      "2018-07-12 14:08:19,012 : INFO : EPOCH 4 - PROGRESS: at 66.06% examples, 602492 words/s, in_qsize 8, out_qsize 0\n",
      "2018-07-12 14:08:20,015 : INFO : EPOCH 4 - PROGRESS: at 70.44% examples, 599772 words/s, in_qsize 7, out_qsize 0\n",
      "2018-07-12 14:08:21,021 : INFO : EPOCH 4 - PROGRESS: at 75.13% examples, 600017 words/s, in_qsize 8, out_qsize 0\n",
      "2018-07-12 14:08:22,029 : INFO : EPOCH 4 - PROGRESS: at 79.86% examples, 600099 words/s, in_qsize 8, out_qsize 0\n",
      "2018-07-12 14:08:23,034 : INFO : EPOCH 4 - PROGRESS: at 84.62% examples, 600695 words/s, in_qsize 7, out_qsize 0\n",
      "2018-07-12 14:08:24,041 : INFO : EPOCH 4 - PROGRESS: at 89.31% examples, 600780 words/s, in_qsize 8, out_qsize 0\n",
      "2018-07-12 14:08:25,059 : INFO : EPOCH 4 - PROGRESS: at 93.97% examples, 600165 words/s, in_qsize 7, out_qsize 0\n",
      "2018-07-12 14:08:26,066 : INFO : EPOCH 4 - PROGRESS: at 98.56% examples, 599586 words/s, in_qsize 8, out_qsize 0\n",
      "2018-07-12 14:08:26,334 : INFO : worker thread finished; awaiting finish of 3 more threads\n",
      "2018-07-12 14:08:26,354 : INFO : worker thread finished; awaiting finish of 2 more threads\n",
      "2018-07-12 14:08:26,358 : INFO : worker thread finished; awaiting finish of 1 more threads\n",
      "2018-07-12 14:08:26,373 : INFO : worker thread finished; awaiting finish of 0 more threads\n",
      "2018-07-12 14:08:26,375 : INFO : EPOCH - 4 : training on 17798263 raw words (12872026 effective words) took 21.5s, 599666 effective words/s\n",
      "2018-07-12 14:08:27,397 : INFO : EPOCH 5 - PROGRESS: at 4.54% examples, 583617 words/s, in_qsize 7, out_qsize 0\n",
      "2018-07-12 14:08:28,401 : INFO : EPOCH 5 - PROGRESS: at 9.24% examples, 590122 words/s, in_qsize 8, out_qsize 0\n",
      "2018-07-12 14:08:29,410 : INFO : EPOCH 5 - PROGRESS: at 13.94% examples, 591648 words/s, in_qsize 7, out_qsize 0\n",
      "2018-07-12 14:08:30,417 : INFO : EPOCH 5 - PROGRESS: at 18.52% examples, 588919 words/s, in_qsize 7, out_qsize 0\n",
      "2018-07-12 14:08:31,418 : INFO : EPOCH 5 - PROGRESS: at 23.27% examples, 592329 words/s, in_qsize 8, out_qsize 0\n",
      "2018-07-12 14:08:32,424 : INFO : EPOCH 5 - PROGRESS: at 27.97% examples, 593990 words/s, in_qsize 7, out_qsize 0\n",
      "2018-07-12 14:08:33,424 : INFO : EPOCH 5 - PROGRESS: at 32.75% examples, 595600 words/s, in_qsize 7, out_qsize 0\n",
      "2018-07-12 14:08:34,427 : INFO : EPOCH 5 - PROGRESS: at 37.34% examples, 594989 words/s, in_qsize 7, out_qsize 0\n",
      "2018-07-12 14:08:35,428 : INFO : EPOCH 5 - PROGRESS: at 42.02% examples, 596260 words/s, in_qsize 7, out_qsize 0\n",
      "2018-07-12 14:08:36,429 : INFO : EPOCH 5 - PROGRESS: at 46.72% examples, 597222 words/s, in_qsize 7, out_qsize 0\n",
      "2018-07-12 14:08:37,436 : INFO : EPOCH 5 - PROGRESS: at 51.36% examples, 597085 words/s, in_qsize 8, out_qsize 0\n",
      "2018-07-12 14:08:38,459 : INFO : EPOCH 5 - PROGRESS: at 56.05% examples, 596650 words/s, in_qsize 7, out_qsize 0\n",
      "2018-07-12 14:08:39,469 : INFO : EPOCH 5 - PROGRESS: at 60.75% examples, 597472 words/s, in_qsize 6, out_qsize 1\n",
      "2018-07-12 14:08:40,470 : INFO : EPOCH 5 - PROGRESS: at 65.35% examples, 597103 words/s, in_qsize 8, out_qsize 0\n",
      "2018-07-12 14:08:41,471 : INFO : EPOCH 5 - PROGRESS: at 70.16% examples, 598637 words/s, in_qsize 7, out_qsize 0\n",
      "2018-07-12 14:08:42,473 : INFO : EPOCH 5 - PROGRESS: at 74.85% examples, 599085 words/s, in_qsize 8, out_qsize 0\n",
      "2018-07-12 14:08:43,480 : INFO : EPOCH 5 - PROGRESS: at 79.57% examples, 599278 words/s, in_qsize 8, out_qsize 0\n",
      "2018-07-12 14:08:44,484 : INFO : EPOCH 5 - PROGRESS: at 84.28% examples, 599511 words/s, in_qsize 7, out_qsize 0\n",
      "2018-07-12 14:08:45,496 : INFO : EPOCH 5 - PROGRESS: at 89.04% examples, 599829 words/s, in_qsize 7, out_qsize 0\n",
      "2018-07-12 14:08:46,525 : INFO : EPOCH 5 - PROGRESS: at 93.86% examples, 600013 words/s, in_qsize 7, out_qsize 0\n",
      "2018-07-12 14:08:47,537 : INFO : EPOCH 5 - PROGRESS: at 98.66% examples, 600671 words/s, in_qsize 8, out_qsize 0\n",
      "2018-07-12 14:08:47,772 : INFO : worker thread finished; awaiting finish of 3 more threads\n",
      "2018-07-12 14:08:47,795 : INFO : worker thread finished; awaiting finish of 2 more threads\n",
      "2018-07-12 14:08:47,807 : INFO : worker thread finished; awaiting finish of 1 more threads\n",
      "2018-07-12 14:08:47,809 : INFO : worker thread finished; awaiting finish of 0 more threads\n",
      "2018-07-12 14:08:47,810 : INFO : EPOCH - 5 : training on 17798263 raw words (12872689 effective words) took 21.4s, 601086 effective words/s\n",
      "2018-07-12 14:08:47,811 : INFO : training on a 88991315 raw words (64360284 effective words) took 103.1s, 624311 effective words/s\n"
     ]
    },
    {
     "data": {
      "text/plain": [
       "<gensim.models.word2vec.Word2Vec at 0x1dcd27ce4a8>"
      ]
     },
     "execution_count": 22,
     "metadata": {},
     "output_type": "execute_result"
    }
   ],
   "source": [
    "# 파라메터값 지정\n",
    "num_features = 300 # 문자 벡터 차원 수\n",
    "min_word_count = 40 # 최소 문자 수\n",
    "num_workers = 4 # 병렬 처리 스레드 수\n",
    "context = 10 # 문자열 창 크기\n",
    "downsampling = 1e-3 # 문자 빈도 수 Downsample\n",
    "\n",
    "# 초기화 및 모델 학습\n",
    "from gensim.models import word2vec\n",
    "\n",
    "# 모델 학습\n",
    "model = word2vec.Word2Vec(sentences,\n",
    "                         workers=num_workers,\n",
    "                         size=num_features,\n",
    "                         min_count=min_word_count,\n",
    "                         window=context,\n",
    "                         sample=downsampling)\n",
    "model"
   ]
  },
  {
   "cell_type": "code",
   "execution_count": 23,
   "metadata": {},
   "outputs": [
    {
     "name": "stderr",
     "output_type": "stream",
     "text": [
      "2018-07-12 14:33:40,325 : INFO : precomputing L2-norms of word weight vectors\n",
      "2018-07-12 14:33:40,437 : INFO : saving Word2Vec object under 300features_40minwords_10text, separately None\n",
      "2018-07-12 14:33:40,438 : INFO : not storing attribute vectors_norm\n",
      "2018-07-12 14:33:40,439 : INFO : not storing attribute cum_table\n",
      "2018-07-12 14:33:40,758 : INFO : saved 300features_40minwords_10text\n"
     ]
    }
   ],
   "source": [
    "# 학습이 완료되면 필요없는 메모리를 unload 시킨다.\n",
    "model.init_sims(replace=True)\n",
    "\n",
    "model_name = '300features_40minwords_10text'\n",
    "# model_name = '300features_50minwords_20text'\n",
    "model.save(model_name)"
   ]
  },
  {
   "cell_type": "markdown",
   "metadata": {},
   "source": [
    "## 모델 결과 탐색\n",
    "Exploring the Model Results"
   ]
  },
  {
   "cell_type": "code",
   "execution_count": 25,
   "metadata": {},
   "outputs": [
    {
     "data": {
      "text/plain": [
       "'kitchen'"
      ]
     },
     "execution_count": 25,
     "metadata": {},
     "output_type": "execute_result"
    }
   ],
   "source": [
    "# 유사도가 없는 단어 추출\n",
    "model.wv.doesnt_match('man woman child kitchen'.split())"
   ]
  },
  {
   "cell_type": "code",
   "execution_count": 28,
   "metadata": {},
   "outputs": [
    {
     "name": "stderr",
     "output_type": "stream",
     "text": [
      "2018-07-12 14:38:01,801 : WARNING : vectors for words {'germany', 'france'} are not present in the model, ignoring these words\n"
     ]
    },
    {
     "data": {
      "text/plain": [
       "'england'"
      ]
     },
     "execution_count": 28,
     "metadata": {},
     "output_type": "execute_result"
    }
   ],
   "source": [
    "model.wv.doesnt_match(\"france england germany berlin\".split())"
   ]
  },
  {
   "cell_type": "code",
   "execution_count": 29,
   "metadata": {},
   "outputs": [
    {
     "data": {
      "text/plain": [
       "[('woman', 0.6377745866775513),\n",
       " ('millionair', 0.5335325002670288),\n",
       " ('lad', 0.5308427810668945),\n",
       " ('ladi', 0.49392080307006836),\n",
       " ('businessman', 0.4902869164943695),\n",
       " ('men', 0.4717288911342621),\n",
       " ('widow', 0.4694855213165283),\n",
       " ('priest', 0.4687768816947937),\n",
       " ('loner', 0.4606744647026062),\n",
       " ('policeman', 0.4583078622817993)]"
      ]
     },
     "execution_count": 29,
     "metadata": {},
     "output_type": "execute_result"
    }
   ],
   "source": [
    "# 가장 유사한 단어를 추출\n",
    "model.wv.most_similar(\"man\")"
   ]
  },
  {
   "cell_type": "code",
   "execution_count": 30,
   "metadata": {},
   "outputs": [
    {
     "data": {
      "text/plain": [
       "[('princess', 0.5981470942497253),\n",
       " ('maid', 0.5794131755828857),\n",
       " ('stepmoth', 0.5752646923065186),\n",
       " ('goddess', 0.5710304379463196),\n",
       " ('latifah', 0.5617369413375854),\n",
       " ('victoria', 0.5558001399040222),\n",
       " ('countess', 0.5525740385055542),\n",
       " ('anita', 0.5505308508872986),\n",
       " ('dame', 0.5443850755691528),\n",
       " ('nun', 0.5345039367675781)]"
      ]
     },
     "execution_count": 30,
     "metadata": {},
     "output_type": "execute_result"
    }
   ],
   "source": [
    "model.wv.most_similar(\"queen\")"
   ]
  },
  {
   "cell_type": "code",
   "execution_count": 32,
   "metadata": {},
   "outputs": [],
   "source": [
    "#model.wv.most_similar(\"awful\") # KeyError: \"word 'awful' not in vocabulary\""
   ]
  },
  {
   "cell_type": "code",
   "execution_count": 33,
   "metadata": {},
   "outputs": [
    {
     "data": {
      "text/plain": [
       "[('movi', 0.8551847338676453),\n",
       " ('flick', 0.6012989282608032),\n",
       " ('documentari', 0.5781656503677368),\n",
       " ('cinema', 0.5454442501068115),\n",
       " ('pictur', 0.5380985736846924),\n",
       " ('masterpiec', 0.5017833113670349),\n",
       " ('sequel', 0.49840259552001953),\n",
       " ('it', 0.4899730086326599),\n",
       " ('genr', 0.4870951175689697),\n",
       " ('thriller', 0.47988760471343994)]"
      ]
     },
     "execution_count": 33,
     "metadata": {},
     "output_type": "execute_result"
    }
   ],
   "source": [
    "model.wv.most_similar(\"film\")"
   ]
  },
  {
   "cell_type": "code",
   "execution_count": 35,
   "metadata": {},
   "outputs": [
    {
     "data": {
      "text/plain": [
       "[('unhappi', 0.47864967584609985),\n",
       " ('sad', 0.4148615598678589),\n",
       " ('bitter', 0.4145156145095825),\n",
       " ('afraid', 0.39771419763565063),\n",
       " ('satisfi', 0.38463038206100464),\n",
       " ('glad', 0.3820105791091919),\n",
       " ('lucki', 0.37678349018096924),\n",
       " ('happier', 0.3674848675727844),\n",
       " ('joy', 0.3663701117038727),\n",
       " ('comfort', 0.36331015825271606)]"
      ]
     },
     "execution_count": 35,
     "metadata": {},
     "output_type": "execute_result"
    }
   ],
   "source": [
    "#model.wv.most_similar(\"happy\") # KeyError: \"word 'happy' not in vocabulary\"\n",
    "model.wv.most_similar(\"happi\") # stemming 처리 시"
   ]
  },
  {
   "cell_type": "code",
   "execution_count": 39,
   "metadata": {},
   "outputs": [
    {
     "data": {
      "text/plain": [
       "{'with': <gensim.models.keyedvectors.Vocab at 0x1dcd27ce588>,\n",
       " 'all': <gensim.models.keyedvectors.Vocab at 0x1dcd27ce6a0>,\n",
       " 'this': <gensim.models.keyedvectors.Vocab at 0x1dcd31ac898>,\n",
       " 'stuff': <gensim.models.keyedvectors.Vocab at 0x1dcd31ac588>,\n",
       " 'go': <gensim.models.keyedvectors.Vocab at 0x1dcd3241630>,\n",
       " 'down': <gensim.models.keyedvectors.Vocab at 0x1dcd32415c0>,\n",
       " 'at': <gensim.models.keyedvectors.Vocab at 0x1dcd32415f8>,\n",
       " 'the': <gensim.models.keyedvectors.Vocab at 0x1dcd3241588>,\n",
       " 'moment': <gensim.models.keyedvectors.Vocab at 0x1dcd3241668>,\n",
       " 'mj': <gensim.models.keyedvectors.Vocab at 0x1dcd32416a0>,\n",
       " 'i': <gensim.models.keyedvectors.Vocab at 0x1dcd32416d8>,\n",
       " 've': <gensim.models.keyedvectors.Vocab at 0x1dcd3241710>,\n",
       " 'start': <gensim.models.keyedvectors.Vocab at 0x1dcd3241748>,\n",
       " 'listen': <gensim.models.keyedvectors.Vocab at 0x1dcd3241780>,\n",
       " 'to': <gensim.models.keyedvectors.Vocab at 0x1dcd32417b8>,\n",
       " 'his': <gensim.models.keyedvectors.Vocab at 0x1dcd32417f0>,\n",
       " 'music': <gensim.models.keyedvectors.Vocab at 0x1dcd3241828>,\n",
       " 'watch': <gensim.models.keyedvectors.Vocab at 0x1dcd3241860>,\n",
       " 'odd': <gensim.models.keyedvectors.Vocab at 0x1dcd3241898>,\n",
       " 'documentari': <gensim.models.keyedvectors.Vocab at 0x1dcd32418d0>,\n",
       " 'here': <gensim.models.keyedvectors.Vocab at 0x1dcd3241908>,\n",
       " 'and': <gensim.models.keyedvectors.Vocab at 0x1dcd3241940>,\n",
       " 'there': <gensim.models.keyedvectors.Vocab at 0x1dcd3241978>,\n",
       " 'again': <gensim.models.keyedvectors.Vocab at 0x1dcd32419b0>,\n",
       " 'mayb': <gensim.models.keyedvectors.Vocab at 0x1dcd32419e8>,\n",
       " 'just': <gensim.models.keyedvectors.Vocab at 0x1dcd3241a20>,\n",
       " 'want': <gensim.models.keyedvectors.Vocab at 0x1dcd3241a58>,\n",
       " 'get': <gensim.models.keyedvectors.Vocab at 0x1dcd3241a90>,\n",
       " 'a': <gensim.models.keyedvectors.Vocab at 0x1dcd3241ac8>,\n",
       " 'certain': <gensim.models.keyedvectors.Vocab at 0x1dcd3241b00>,\n",
       " 'insight': <gensim.models.keyedvectors.Vocab at 0x1dcd3241b38>,\n",
       " 'into': <gensim.models.keyedvectors.Vocab at 0x1dcd3241b70>,\n",
       " 'guy': <gensim.models.keyedvectors.Vocab at 0x1dcd3241ba8>,\n",
       " 'who': <gensim.models.keyedvectors.Vocab at 0x1dcd3241be0>,\n",
       " 'thought': <gensim.models.keyedvectors.Vocab at 0x1dcd3241c18>,\n",
       " 'was': <gensim.models.keyedvectors.Vocab at 0x1dcd3241c50>,\n",
       " 'realli': <gensim.models.keyedvectors.Vocab at 0x1dcd3241c88>,\n",
       " 'cool': <gensim.models.keyedvectors.Vocab at 0x1dcd3241cc0>,\n",
       " 'in': <gensim.models.keyedvectors.Vocab at 0x1dcd3241cf8>,\n",
       " 'eighti': <gensim.models.keyedvectors.Vocab at 0x1dcd3241d30>,\n",
       " 'make': <gensim.models.keyedvectors.Vocab at 0x1dcd3241d68>,\n",
       " 'up': <gensim.models.keyedvectors.Vocab at 0x1dcd3241da0>,\n",
       " 'my': <gensim.models.keyedvectors.Vocab at 0x1dcd3241dd8>,\n",
       " 'mind': <gensim.models.keyedvectors.Vocab at 0x1dcd3241e10>,\n",
       " 'whether': <gensim.models.keyedvectors.Vocab at 0x1dcd3241e48>,\n",
       " 'he': <gensim.models.keyedvectors.Vocab at 0x1dcd3241e80>,\n",
       " 'is': <gensim.models.keyedvectors.Vocab at 0x1dcd3241eb8>,\n",
       " 'guilti': <gensim.models.keyedvectors.Vocab at 0x1dcd3241ef0>,\n",
       " 'or': <gensim.models.keyedvectors.Vocab at 0x1dcd3241f28>,\n",
       " 'innoc': <gensim.models.keyedvectors.Vocab at 0x1dcd3241f60>,\n",
       " 'part': <gensim.models.keyedvectors.Vocab at 0x1dcd3241f98>,\n",
       " 'biographi': <gensim.models.keyedvectors.Vocab at 0x1dcd3241fd0>,\n",
       " 'featur': <gensim.models.keyedvectors.Vocab at 0x1dcd326b048>,\n",
       " 'film': <gensim.models.keyedvectors.Vocab at 0x1dcd326b080>,\n",
       " 'which': <gensim.models.keyedvectors.Vocab at 0x1dcd326b0b8>,\n",
       " 'rememb': <gensim.models.keyedvectors.Vocab at 0x1dcd326b0f0>,\n",
       " 'see': <gensim.models.keyedvectors.Vocab at 0x1dcd326b128>,\n",
       " 'cinema': <gensim.models.keyedvectors.Vocab at 0x1dcd326b160>,\n",
       " 'when': <gensim.models.keyedvectors.Vocab at 0x1dcd326b198>,\n",
       " 'it': <gensim.models.keyedvectors.Vocab at 0x1dcd326b1d0>,\n",
       " 'origin': <gensim.models.keyedvectors.Vocab at 0x1dcd326b208>,\n",
       " 'releas': <gensim.models.keyedvectors.Vocab at 0x1dcd326b240>,\n",
       " 'some': <gensim.models.keyedvectors.Vocab at 0x1dcd326b278>,\n",
       " 'of': <gensim.models.keyedvectors.Vocab at 0x1dcd326b2b0>,\n",
       " 'has': <gensim.models.keyedvectors.Vocab at 0x1dcd326b2e8>,\n",
       " 'subtl': <gensim.models.keyedvectors.Vocab at 0x1dcd326b320>,\n",
       " 'messag': <gensim.models.keyedvectors.Vocab at 0x1dcd326b358>,\n",
       " 'about': <gensim.models.keyedvectors.Vocab at 0x1dcd326b390>,\n",
       " 's': <gensim.models.keyedvectors.Vocab at 0x1dcd326b3c8>,\n",
       " 'feel': <gensim.models.keyedvectors.Vocab at 0x1dcd326b400>,\n",
       " 'toward': <gensim.models.keyedvectors.Vocab at 0x1dcd326b438>,\n",
       " 'press': <gensim.models.keyedvectors.Vocab at 0x1dcd326b470>,\n",
       " 'also': <gensim.models.keyedvectors.Vocab at 0x1dcd326b4a8>,\n",
       " 'obvious': <gensim.models.keyedvectors.Vocab at 0x1dcd326b4e0>,\n",
       " 'drug': <gensim.models.keyedvectors.Vocab at 0x1dcd326b518>,\n",
       " 'are': <gensim.models.keyedvectors.Vocab at 0x1dcd326b550>,\n",
       " 'bad': <gensim.models.keyedvectors.Vocab at 0x1dcd326b588>,\n",
       " 'm': <gensim.models.keyedvectors.Vocab at 0x1dcd326b5c0>,\n",
       " 'kay': <gensim.models.keyedvectors.Vocab at 0x1dcd326b5f8>,\n",
       " 'visual': <gensim.models.keyedvectors.Vocab at 0x1dcd326b630>,\n",
       " 'impress': <gensim.models.keyedvectors.Vocab at 0x1dcd326b668>,\n",
       " 'but': <gensim.models.keyedvectors.Vocab at 0x1dcd326b6a0>,\n",
       " 'cours': <gensim.models.keyedvectors.Vocab at 0x1dcd326b6d8>,\n",
       " 'michael': <gensim.models.keyedvectors.Vocab at 0x1dcd326b710>,\n",
       " 'jackson': <gensim.models.keyedvectors.Vocab at 0x1dcd326b748>,\n",
       " 'so': <gensim.models.keyedvectors.Vocab at 0x1dcd326b780>,\n",
       " 'unless': <gensim.models.keyedvectors.Vocab at 0x1dcd326b7b8>,\n",
       " 'you': <gensim.models.keyedvectors.Vocab at 0x1dcd326b7f0>,\n",
       " 'remot': <gensim.models.keyedvectors.Vocab at 0x1dcd326b828>,\n",
       " 'like': <gensim.models.keyedvectors.Vocab at 0x1dcd326b860>,\n",
       " 'anyway': <gensim.models.keyedvectors.Vocab at 0x1dcd326b898>,\n",
       " 'then': <gensim.models.keyedvectors.Vocab at 0x1dcd326b8d0>,\n",
       " 'hate': <gensim.models.keyedvectors.Vocab at 0x1dcd326b908>,\n",
       " 'find': <gensim.models.keyedvectors.Vocab at 0x1dcd326b940>,\n",
       " 'bore': <gensim.models.keyedvectors.Vocab at 0x1dcd326b978>,\n",
       " 'may': <gensim.models.keyedvectors.Vocab at 0x1dcd326b9b0>,\n",
       " 'call': <gensim.models.keyedvectors.Vocab at 0x1dcd326b9e8>,\n",
       " 'an': <gensim.models.keyedvectors.Vocab at 0x1dcd326ba20>,\n",
       " 'egotist': <gensim.models.keyedvectors.Vocab at 0x1dcd326ba58>,\n",
       " 'for': <gensim.models.keyedvectors.Vocab at 0x1dcd326ba90>,\n",
       " 'consent': <gensim.models.keyedvectors.Vocab at 0x1dcd326bac8>,\n",
       " 'movi': <gensim.models.keyedvectors.Vocab at 0x1dcd326bb00>,\n",
       " 'most': <gensim.models.keyedvectors.Vocab at 0x1dcd326bb38>,\n",
       " 'fan': <gensim.models.keyedvectors.Vocab at 0x1dcd326bb70>,\n",
       " 'would': <gensim.models.keyedvectors.Vocab at 0x1dcd326bba8>,\n",
       " 'say': <gensim.models.keyedvectors.Vocab at 0x1dcd326bbe0>,\n",
       " 'that': <gensim.models.keyedvectors.Vocab at 0x1dcd326bc18>,\n",
       " 'made': <gensim.models.keyedvectors.Vocab at 0x1dcd326bc50>,\n",
       " 'if': <gensim.models.keyedvectors.Vocab at 0x1dcd326bc88>,\n",
       " 'true': <gensim.models.keyedvectors.Vocab at 0x1dcd326bcc0>,\n",
       " 'nice': <gensim.models.keyedvectors.Vocab at 0x1dcd326bcf8>,\n",
       " 'him': <gensim.models.keyedvectors.Vocab at 0x1dcd326bd30>,\n",
       " 'actual': <gensim.models.keyedvectors.Vocab at 0x1dcd326bd68>,\n",
       " 'bit': <gensim.models.keyedvectors.Vocab at 0x1dcd326bda0>,\n",
       " 'final': <gensim.models.keyedvectors.Vocab at 0x1dcd326bdd8>,\n",
       " 'onli': <gensim.models.keyedvectors.Vocab at 0x1dcd326be10>,\n",
       " 'on': <gensim.models.keyedvectors.Vocab at 0x1dcd326be48>,\n",
       " 'minut': <gensim.models.keyedvectors.Vocab at 0x1dcd326be80>,\n",
       " 'exclud': <gensim.models.keyedvectors.Vocab at 0x1dcd326beb8>,\n",
       " 'smooth': <gensim.models.keyedvectors.Vocab at 0x1dcd326bef0>,\n",
       " 'crimin': <gensim.models.keyedvectors.Vocab at 0x1dcd326bf28>,\n",
       " 'sequenc': <gensim.models.keyedvectors.Vocab at 0x1dcd326bf60>,\n",
       " 'joe': <gensim.models.keyedvectors.Vocab at 0x1dcd326bf98>,\n",
       " 'pesci': <gensim.models.keyedvectors.Vocab at 0x1dcd326bfd0>,\n",
       " 'convinc': <gensim.models.keyedvectors.Vocab at 0x1dcd326e048>,\n",
       " 'as': <gensim.models.keyedvectors.Vocab at 0x1dcd326e080>,\n",
       " 'psychopath': <gensim.models.keyedvectors.Vocab at 0x1dcd326e0b8>,\n",
       " 'power': <gensim.models.keyedvectors.Vocab at 0x1dcd326e0f0>,\n",
       " 'lord': <gensim.models.keyedvectors.Vocab at 0x1dcd326e128>,\n",
       " 'whi': <gensim.models.keyedvectors.Vocab at 0x1dcd326e160>,\n",
       " 'dead': <gensim.models.keyedvectors.Vocab at 0x1dcd326e198>,\n",
       " 'beyond': <gensim.models.keyedvectors.Vocab at 0x1dcd326e1d0>,\n",
       " 'me': <gensim.models.keyedvectors.Vocab at 0x1dcd326e208>,\n",
       " 'becaus': <gensim.models.keyedvectors.Vocab at 0x1dcd326e240>,\n",
       " 'plan': <gensim.models.keyedvectors.Vocab at 0x1dcd326e278>,\n",
       " 'nah': <gensim.models.keyedvectors.Vocab at 0x1dcd326e2b0>,\n",
       " 'charact': <gensim.models.keyedvectors.Vocab at 0x1dcd326e2e8>,\n",
       " 'rant': <gensim.models.keyedvectors.Vocab at 0x1dcd326e320>,\n",
       " 'peopl': <gensim.models.keyedvectors.Vocab at 0x1dcd326e358>,\n",
       " 'know': <gensim.models.keyedvectors.Vocab at 0x1dcd326e390>,\n",
       " 'suppli': <gensim.models.keyedvectors.Vocab at 0x1dcd326e3c8>,\n",
       " 'etc': <gensim.models.keyedvectors.Vocab at 0x1dcd326e400>,\n",
       " 'dunno': <gensim.models.keyedvectors.Vocab at 0x1dcd326e438>,\n",
       " 'lot': <gensim.models.keyedvectors.Vocab at 0x1dcd326e470>,\n",
       " 'thing': <gensim.models.keyedvectors.Vocab at 0x1dcd326e4a8>,\n",
       " 'turn': <gensim.models.keyedvectors.Vocab at 0x1dcd326e4e0>,\n",
       " 'car': <gensim.models.keyedvectors.Vocab at 0x1dcd326e518>,\n",
       " 'robot': <gensim.models.keyedvectors.Vocab at 0x1dcd326e550>,\n",
       " 'whole': <gensim.models.keyedvectors.Vocab at 0x1dcd326e588>,\n",
       " 'speed': <gensim.models.keyedvectors.Vocab at 0x1dcd326e5c0>,\n",
       " 'demon': <gensim.models.keyedvectors.Vocab at 0x1dcd326e5f8>,\n",
       " 'director': <gensim.models.keyedvectors.Vocab at 0x1dcd326e630>,\n",
       " 'must': <gensim.models.keyedvectors.Vocab at 0x1dcd326e668>,\n",
       " 'have': <gensim.models.keyedvectors.Vocab at 0x1dcd326e6a0>,\n",
       " 'had': <gensim.models.keyedvectors.Vocab at 0x1dcd326e6d8>,\n",
       " 'patienc': <gensim.models.keyedvectors.Vocab at 0x1dcd326e710>,\n",
       " 'saint': <gensim.models.keyedvectors.Vocab at 0x1dcd326e748>,\n",
       " 'came': <gensim.models.keyedvectors.Vocab at 0x1dcd326e780>,\n",
       " 'kiddi': <gensim.models.keyedvectors.Vocab at 0x1dcd326e7b8>,\n",
       " 'usual': <gensim.models.keyedvectors.Vocab at 0x1dcd326e7f0>,\n",
       " 'work': <gensim.models.keyedvectors.Vocab at 0x1dcd326e828>,\n",
       " 'one': <gensim.models.keyedvectors.Vocab at 0x1dcd326e860>,\n",
       " 'kid': <gensim.models.keyedvectors.Vocab at 0x1dcd326e898>,\n",
       " 'let': <gensim.models.keyedvectors.Vocab at 0x1dcd326e8d0>,\n",
       " 'alon': <gensim.models.keyedvectors.Vocab at 0x1dcd326e908>,\n",
       " 'bunch': <gensim.models.keyedvectors.Vocab at 0x1dcd326e940>,\n",
       " 'them': <gensim.models.keyedvectors.Vocab at 0x1dcd326e978>,\n",
       " 'perform': <gensim.models.keyedvectors.Vocab at 0x1dcd326e9b0>,\n",
       " 'complex': <gensim.models.keyedvectors.Vocab at 0x1dcd326e9e8>,\n",
       " 'danc': <gensim.models.keyedvectors.Vocab at 0x1dcd326ea20>,\n",
       " 'scene': <gensim.models.keyedvectors.Vocab at 0x1dcd326ea58>,\n",
       " 'bottom': <gensim.models.keyedvectors.Vocab at 0x1dcd326ea90>,\n",
       " 'line': <gensim.models.keyedvectors.Vocab at 0x1dcd326eac8>,\n",
       " 'level': <gensim.models.keyedvectors.Vocab at 0x1dcd326eb00>,\n",
       " 'anoth': <gensim.models.keyedvectors.Vocab at 0x1dcd326eb38>,\n",
       " 'think': <gensim.models.keyedvectors.Vocab at 0x1dcd326eb70>,\n",
       " 'not': <gensim.models.keyedvectors.Vocab at 0x1dcd326eba8>,\n",
       " 'stay': <gensim.models.keyedvectors.Vocab at 0x1dcd326ebe0>,\n",
       " 'away': <gensim.models.keyedvectors.Vocab at 0x1dcd326ec18>,\n",
       " 'doe': <gensim.models.keyedvectors.Vocab at 0x1dcd326ec50>,\n",
       " 'tri': <gensim.models.keyedvectors.Vocab at 0x1dcd326ec88>,\n",
       " 'give': <gensim.models.keyedvectors.Vocab at 0x1dcd326ecc0>,\n",
       " 'off': <gensim.models.keyedvectors.Vocab at 0x1dcd326ecf8>,\n",
       " 'wholesom': <gensim.models.keyedvectors.Vocab at 0x1dcd326ed30>,\n",
       " 'iron': <gensim.models.keyedvectors.Vocab at 0x1dcd326ed68>,\n",
       " 'buddi': <gensim.models.keyedvectors.Vocab at 0x1dcd326eda0>,\n",
       " 'girl': <gensim.models.keyedvectors.Vocab at 0x1dcd326edd8>,\n",
       " 'truli': <gensim.models.keyedvectors.Vocab at 0x1dcd326ee10>,\n",
       " 'talent': <gensim.models.keyedvectors.Vocab at 0x1dcd326ee48>,\n",
       " 'ever': <gensim.models.keyedvectors.Vocab at 0x1dcd326ee80>,\n",
       " 'grace': <gensim.models.keyedvectors.Vocab at 0x1dcd326eeb8>,\n",
       " 'planet': <gensim.models.keyedvectors.Vocab at 0x1dcd326eef0>,\n",
       " 'well': <gensim.models.keyedvectors.Vocab at 0x1dcd326ef28>,\n",
       " 'attent': <gensim.models.keyedvectors.Vocab at 0x1dcd326ef60>,\n",
       " 'gave': <gensim.models.keyedvectors.Vocab at 0x1dcd326ef98>,\n",
       " 'subject': <gensim.models.keyedvectors.Vocab at 0x1dcd326efd0>,\n",
       " 'hmmm': <gensim.models.keyedvectors.Vocab at 0x1dcd3271048>,\n",
       " 'don': <gensim.models.keyedvectors.Vocab at 0x1dcd3271080>,\n",
       " 't': <gensim.models.keyedvectors.Vocab at 0x1dcd32710b8>,\n",
       " 'can': <gensim.models.keyedvectors.Vocab at 0x1dcd32710f0>,\n",
       " 'be': <gensim.models.keyedvectors.Vocab at 0x1dcd3271128>,\n",
       " 'differ': <gensim.models.keyedvectors.Vocab at 0x1dcd3271160>,\n",
       " 'behind': <gensim.models.keyedvectors.Vocab at 0x1dcd3271198>,\n",
       " 'close': <gensim.models.keyedvectors.Vocab at 0x1dcd32711d0>,\n",
       " 'door': <gensim.models.keyedvectors.Vocab at 0x1dcd3271208>,\n",
       " 'fact': <gensim.models.keyedvectors.Vocab at 0x1dcd3271240>,\n",
       " 'either': <gensim.models.keyedvectors.Vocab at 0x1dcd3271278>,\n",
       " 'extrem': <gensim.models.keyedvectors.Vocab at 0x1dcd32712b0>,\n",
       " 'stupid': <gensim.models.keyedvectors.Vocab at 0x1dcd32712e8>,\n",
       " 'liar': <gensim.models.keyedvectors.Vocab at 0x1dcd3271320>,\n",
       " 'hope': <gensim.models.keyedvectors.Vocab at 0x1dcd3271358>,\n",
       " 'latter': <gensim.models.keyedvectors.Vocab at 0x1dcd3271390>,\n",
       " 'classic': <gensim.models.keyedvectors.Vocab at 0x1dcd32713c8>,\n",
       " 'war': <gensim.models.keyedvectors.Vocab at 0x1dcd3271400>,\n",
       " 'world': <gensim.models.keyedvectors.Vocab at 0x1dcd3271438>,\n",
       " 'by': <gensim.models.keyedvectors.Vocab at 0x1dcd3271470>,\n",
       " 'timothi': <gensim.models.keyedvectors.Vocab at 0x1dcd32714a8>,\n",
       " 'hine': <gensim.models.keyedvectors.Vocab at 0x1dcd32714e0>,\n",
       " 'veri': <gensim.models.keyedvectors.Vocab at 0x1dcd3271518>,\n",
       " 'entertain': <gensim.models.keyedvectors.Vocab at 0x1dcd3271550>,\n",
       " 'goe': <gensim.models.keyedvectors.Vocab at 0x1dcd3271588>,\n",
       " 'great': <gensim.models.keyedvectors.Vocab at 0x1dcd32715c0>,\n",
       " 'effort': <gensim.models.keyedvectors.Vocab at 0x1dcd32715f8>,\n",
       " 'length': <gensim.models.keyedvectors.Vocab at 0x1dcd3271630>,\n",
       " 'faith': <gensim.models.keyedvectors.Vocab at 0x1dcd3271668>,\n",
       " 'recreat': <gensim.models.keyedvectors.Vocab at 0x1dcd32716a0>,\n",
       " 'h': <gensim.models.keyedvectors.Vocab at 0x1dcd32716d8>,\n",
       " 'g': <gensim.models.keyedvectors.Vocab at 0x1dcd3271710>,\n",
       " 'book': <gensim.models.keyedvectors.Vocab at 0x1dcd3271748>,\n",
       " 'mr': <gensim.models.keyedvectors.Vocab at 0x1dcd3271780>,\n",
       " 'succeed': <gensim.models.keyedvectors.Vocab at 0x1dcd32717b8>,\n",
       " 'do': <gensim.models.keyedvectors.Vocab at 0x1dcd32717f0>,\n",
       " 'those': <gensim.models.keyedvectors.Vocab at 0x1dcd3271828>,\n",
       " 'appreci': <gensim.models.keyedvectors.Vocab at 0x1dcd3271860>,\n",
       " 'standard': <gensim.models.keyedvectors.Vocab at 0x1dcd3271898>,\n",
       " 'predict': <gensim.models.keyedvectors.Vocab at 0x1dcd32718d0>,\n",
       " 'hollywood': <gensim.models.keyedvectors.Vocab at 0x1dcd3271908>,\n",
       " 'fare': <gensim.models.keyedvectors.Vocab at 0x1dcd3271940>,\n",
       " 'come': <gensim.models.keyedvectors.Vocab at 0x1dcd3271978>,\n",
       " 'out': <gensim.models.keyedvectors.Vocab at 0x1dcd32719b0>,\n",
       " 'everi': <gensim.models.keyedvectors.Vocab at 0x1dcd32719e8>,\n",
       " 'year': <gensim.models.keyedvectors.Vocab at 0x1dcd3271a20>,\n",
       " 'e': <gensim.models.keyedvectors.Vocab at 0x1dcd3271a58>,\n",
       " 'spielberg': <gensim.models.keyedvectors.Vocab at 0x1dcd3271a90>,\n",
       " 'version': <gensim.models.keyedvectors.Vocab at 0x1dcd3271ac8>,\n",
       " 'tom': <gensim.models.keyedvectors.Vocab at 0x1dcd3271b00>,\n",
       " 'cruis': <gensim.models.keyedvectors.Vocab at 0x1dcd3271b38>,\n",
       " 'slightest': <gensim.models.keyedvectors.Vocab at 0x1dcd3271b70>,\n",
       " 'resembl': <gensim.models.keyedvectors.Vocab at 0x1dcd3271ba8>,\n",
       " 'everyon': <gensim.models.keyedvectors.Vocab at 0x1dcd3271be0>,\n",
       " 'look': <gensim.models.keyedvectors.Vocab at 0x1dcd3271c18>,\n",
       " 'envis': <gensim.models.keyedvectors.Vocab at 0x1dcd3271c50>,\n",
       " 'themselv': <gensim.models.keyedvectors.Vocab at 0x1dcd3271c88>,\n",
       " 'amateur': <gensim.models.keyedvectors.Vocab at 0x1dcd3271cc0>,\n",
       " 'critic': <gensim.models.keyedvectors.Vocab at 0x1dcd3271cf8>,\n",
       " 'everyth': <gensim.models.keyedvectors.Vocab at 0x1dcd3271d30>,\n",
       " 'they': <gensim.models.keyedvectors.Vocab at 0x1dcd3271d68>,\n",
       " 'other': <gensim.models.keyedvectors.Vocab at 0x1dcd3271da0>,\n",
       " 'rate': <gensim.models.keyedvectors.Vocab at 0x1dcd3271dd8>,\n",
       " 'more': <gensim.models.keyedvectors.Vocab at 0x1dcd3271e10>,\n",
       " 'import': <gensim.models.keyedvectors.Vocab at 0x1dcd3271e48>,\n",
       " 'base': <gensim.models.keyedvectors.Vocab at 0x1dcd3271e80>,\n",
       " 'never': <gensim.models.keyedvectors.Vocab at 0x1dcd3271eb8>,\n",
       " 'agre': <gensim.models.keyedvectors.Vocab at 0x1dcd3271ef0>,\n",
       " 'we': <gensim.models.keyedvectors.Vocab at 0x1dcd3271f28>,\n",
       " 'enjoy': <gensim.models.keyedvectors.Vocab at 0x1dcd3271f60>,\n",
       " 'put': <gensim.models.keyedvectors.Vocab at 0x1dcd3271f98>,\n",
       " 'novel': <gensim.models.keyedvectors.Vocab at 0x1dcd3271fd0>,\n",
       " 'found': <gensim.models.keyedvectors.Vocab at 0x1dcd3274048>,\n",
       " 'easi': <gensim.models.keyedvectors.Vocab at 0x1dcd3274080>,\n",
       " 'overlook': <gensim.models.keyedvectors.Vocab at 0x1dcd32740b8>,\n",
       " 'what': <gensim.models.keyedvectors.Vocab at 0x1dcd32740f0>,\n",
       " 'perceiv': <gensim.models.keyedvectors.Vocab at 0x1dcd3274128>,\n",
       " 'shortcom': <gensim.models.keyedvectors.Vocab at 0x1dcd3274160>,\n",
       " 'manag': <gensim.models.keyedvectors.Vocab at 0x1dcd3274198>,\n",
       " 'nichola': <gensim.models.keyedvectors.Vocab at 0x1dcd32741d0>,\n",
       " 'bell': <gensim.models.keyedvectors.Vocab at 0x1dcd3274208>,\n",
       " 'welcom': <gensim.models.keyedvectors.Vocab at 0x1dcd3274240>,\n",
       " 'investor': <gensim.models.keyedvectors.Vocab at 0x1dcd3274278>,\n",
       " 'robert': <gensim.models.keyedvectors.Vocab at 0x1dcd32742b0>,\n",
       " 'carradin': <gensim.models.keyedvectors.Vocab at 0x1dcd32742e8>,\n",
       " 'primal': <gensim.models.keyedvectors.Vocab at 0x1dcd3274320>,\n",
       " 'park': <gensim.models.keyedvectors.Vocab at 0x1dcd3274358>,\n",
       " 'secret': <gensim.models.keyedvectors.Vocab at 0x1dcd3274390>,\n",
       " 'project': <gensim.models.keyedvectors.Vocab at 0x1dcd32743c8>,\n",
       " 'mutat': <gensim.models.keyedvectors.Vocab at 0x1dcd3274400>,\n",
       " 'anim': <gensim.models.keyedvectors.Vocab at 0x1dcd3274438>,\n",
       " 'use': <gensim.models.keyedvectors.Vocab at 0x1dcd3274470>,\n",
       " 'dna': <gensim.models.keyedvectors.Vocab at 0x1dcd32744a8>,\n",
       " 'scientist': <gensim.models.keyedvectors.Vocab at 0x1dcd32744e0>,\n",
       " 'resurrect': <gensim.models.keyedvectors.Vocab at 0x1dcd3274518>,\n",
       " 'natur': <gensim.models.keyedvectors.Vocab at 0x1dcd3274550>,\n",
       " 'predat': <gensim.models.keyedvectors.Vocab at 0x1dcd3274588>,\n",
       " 'sabretooth': <gensim.models.keyedvectors.Vocab at 0x1dcd32745c0>,\n",
       " 'tiger': <gensim.models.keyedvectors.Vocab at 0x1dcd32745f8>,\n",
       " 'scientif': <gensim.models.keyedvectors.Vocab at 0x1dcd3274630>,\n",
       " 'ambit': <gensim.models.keyedvectors.Vocab at 0x1dcd3274668>,\n",
       " 'howev': <gensim.models.keyedvectors.Vocab at 0x1dcd32746a0>,\n",
       " 'high': <gensim.models.keyedvectors.Vocab at 0x1dcd32746d8>,\n",
       " 'fenc': <gensim.models.keyedvectors.Vocab at 0x1dcd3274710>,\n",
       " 'open': <gensim.models.keyedvectors.Vocab at 0x1dcd3274748>,\n",
       " 'creatur': <gensim.models.keyedvectors.Vocab at 0x1dcd3274780>,\n",
       " 'escap': <gensim.models.keyedvectors.Vocab at 0x1dcd32747b8>,\n",
       " 'begin': <gensim.models.keyedvectors.Vocab at 0x1dcd32747f0>,\n",
       " 'savag': <gensim.models.keyedvectors.Vocab at 0x1dcd3274828>,\n",
       " 'stalk': <gensim.models.keyedvectors.Vocab at 0x1dcd3274860>,\n",
       " 'prey': <gensim.models.keyedvectors.Vocab at 0x1dcd3274898>,\n",
       " 'human': <gensim.models.keyedvectors.Vocab at 0x1dcd32748d0>,\n",
       " 'visitor': <gensim.models.keyedvectors.Vocab at 0x1dcd3274908>,\n",
       " 'tourist': <gensim.models.keyedvectors.Vocab at 0x1dcd3274940>,\n",
       " 'meanwhil': <gensim.models.keyedvectors.Vocab at 0x1dcd3274978>,\n",
       " 'youngster': <gensim.models.keyedvectors.Vocab at 0x1dcd32749b0>,\n",
       " 'enter': <gensim.models.keyedvectors.Vocab at 0x1dcd32749e8>,\n",
       " 'restrict': <gensim.models.keyedvectors.Vocab at 0x1dcd3274a20>,\n",
       " 'area': <gensim.models.keyedvectors.Vocab at 0x1dcd3274a58>,\n",
       " 'secur': <gensim.models.keyedvectors.Vocab at 0x1dcd3274a90>,\n",
       " 'center': <gensim.models.keyedvectors.Vocab at 0x1dcd3274ac8>,\n",
       " 'attack': <gensim.models.keyedvectors.Vocab at 0x1dcd3274b00>,\n",
       " 'pack': <gensim.models.keyedvectors.Vocab at 0x1dcd3274b38>,\n",
       " 'larg': <gensim.models.keyedvectors.Vocab at 0x1dcd3274b70>,\n",
       " 'pre': <gensim.models.keyedvectors.Vocab at 0x1dcd3274ba8>,\n",
       " 'histor': <gensim.models.keyedvectors.Vocab at 0x1dcd3274be0>,\n",
       " 'bigger': <gensim.models.keyedvectors.Vocab at 0x1dcd3274c18>,\n",
       " 'addit': <gensim.models.keyedvectors.Vocab at 0x1dcd3274c50>,\n",
       " 'agent': <gensim.models.keyedvectors.Vocab at 0x1dcd3274c88>,\n",
       " 'staci': <gensim.models.keyedvectors.Vocab at 0x1dcd3274cc0>,\n",
       " 'her': <gensim.models.keyedvectors.Vocab at 0x1dcd3274cf8>,\n",
       " 'mate': <gensim.models.keyedvectors.Vocab at 0x1dcd3274d30>,\n",
       " 'brian': <gensim.models.keyedvectors.Vocab at 0x1dcd3274d68>,\n",
       " 'fight': <gensim.models.keyedvectors.Vocab at 0x1dcd3274da0>,\n",
       " 'hard': <gensim.models.keyedvectors.Vocab at 0x1dcd3274dd8>,\n",
       " 'against': <gensim.models.keyedvectors.Vocab at 0x1dcd3274e10>,\n",
       " 'carnivor': <gensim.models.keyedvectors.Vocab at 0x1dcd3274e48>,\n",
       " 'real': <gensim.models.keyedvectors.Vocab at 0x1dcd3274e80>,\n",
       " 'star': <gensim.models.keyedvectors.Vocab at 0x1dcd3274eb8>,\n",
       " 'astound': <gensim.models.keyedvectors.Vocab at 0x1dcd3274ef0>,\n",
       " 'terrifi': <gensim.models.keyedvectors.Vocab at 0x1dcd3274f28>,\n",
       " 'though': <gensim.models.keyedvectors.Vocab at 0x1dcd3274f60>,\n",
       " 'giant': <gensim.models.keyedvectors.Vocab at 0x1dcd3274f98>,\n",
       " 'group': <gensim.models.keyedvectors.Vocab at 0x1dcd3274fd0>,\n",
       " 'run': <gensim.models.keyedvectors.Vocab at 0x1dcd3277048>,\n",
       " 'afoul': <gensim.models.keyedvectors.Vocab at 0x1dcd3277080>,\n",
       " 'furthermor': <gensim.models.keyedvectors.Vocab at 0x1dcd32770b8>,\n",
       " 'third': <gensim.models.keyedvectors.Vocab at 0x1dcd32770f0>,\n",
       " 'danger': <gensim.models.keyedvectors.Vocab at 0x1dcd3277128>,\n",
       " 'slow': <gensim.models.keyedvectors.Vocab at 0x1dcd3277160>,\n",
       " 'victim': <gensim.models.keyedvectors.Vocab at 0x1dcd3277198>,\n",
       " 'deliv': <gensim.models.keyedvectors.Vocab at 0x1dcd32771d0>,\n",
       " 'good': <gensim.models.keyedvectors.Vocab at 0x1dcd3277208>,\n",
       " 'blood': <gensim.models.keyedvectors.Vocab at 0x1dcd3277240>,\n",
       " 'gore': <gensim.models.keyedvectors.Vocab at 0x1dcd3277278>,\n",
       " 'behead': <gensim.models.keyedvectors.Vocab at 0x1dcd32772b0>,\n",
       " 'hair': <gensim.models.keyedvectors.Vocab at 0x1dcd32772e8>,\n",
       " 'rais': <gensim.models.keyedvectors.Vocab at 0x1dcd3277320>,\n",
       " 'chill': <gensim.models.keyedvectors.Vocab at 0x1dcd3277358>,\n",
       " 'full': <gensim.models.keyedvectors.Vocab at 0x1dcd3277390>,\n",
       " 'scare': <gensim.models.keyedvectors.Vocab at 0x1dcd32773c8>,\n",
       " 'appear': <gensim.models.keyedvectors.Vocab at 0x1dcd3277400>,\n",
       " 'mediocr': <gensim.models.keyedvectors.Vocab at 0x1dcd3277438>,\n",
       " 'special': <gensim.models.keyedvectors.Vocab at 0x1dcd3277470>,\n",
       " 'effect': <gensim.models.keyedvectors.Vocab at 0x1dcd32774a8>,\n",
       " 'stori': <gensim.models.keyedvectors.Vocab at 0x1dcd32774e0>,\n",
       " 'provid': <gensim.models.keyedvectors.Vocab at 0x1dcd3277518>,\n",
       " 'excit': <gensim.models.keyedvectors.Vocab at 0x1dcd3277550>,\n",
       " 'stir': <gensim.models.keyedvectors.Vocab at 0x1dcd3277588>,\n",
       " 'result': <gensim.models.keyedvectors.Vocab at 0x1dcd32775c0>,\n",
       " 'quit': <gensim.models.keyedvectors.Vocab at 0x1dcd32775f8>,\n",
       " 'major': <gensim.models.keyedvectors.Vocab at 0x1dcd3277630>,\n",
       " 'comput': <gensim.models.keyedvectors.Vocab at 0x1dcd3277668>,\n",
       " 'generat': <gensim.models.keyedvectors.Vocab at 0x1dcd32776a0>,\n",
       " 'seem': <gensim.models.keyedvectors.Vocab at 0x1dcd32776d8>,\n",
       " 'total': <gensim.models.keyedvectors.Vocab at 0x1dcd3277710>,\n",
       " 'lousi': <gensim.models.keyedvectors.Vocab at 0x1dcd3277748>,\n",
       " 'middl': <gensim.models.keyedvectors.Vocab at 0x1dcd3277780>,\n",
       " 'player': <gensim.models.keyedvectors.Vocab at 0x1dcd32777b8>,\n",
       " 'react': <gensim.models.keyedvectors.Vocab at 0x1dcd32777f0>,\n",
       " 'appropri': <gensim.models.keyedvectors.Vocab at 0x1dcd3277828>,\n",
       " 'becom': <gensim.models.keyedvectors.Vocab at 0x1dcd3277860>,\n",
       " 'food': <gensim.models.keyedvectors.Vocab at 0x1dcd3277898>,\n",
       " 'actor': <gensim.models.keyedvectors.Vocab at 0x1dcd32778d0>,\n",
       " 'vigor': <gensim.models.keyedvectors.Vocab at 0x1dcd3277908>,\n",
       " 'physic': <gensim.models.keyedvectors.Vocab at 0x1dcd3277940>,\n",
       " 'dodg': <gensim.models.keyedvectors.Vocab at 0x1dcd3277978>,\n",
       " 'beast': <gensim.models.keyedvectors.Vocab at 0x1dcd32779b0>,\n",
       " 'bound': <gensim.models.keyedvectors.Vocab at 0x1dcd32779e8>,\n",
       " 'leap': <gensim.models.keyedvectors.Vocab at 0x1dcd3277a20>,\n",
       " 'dangl': <gensim.models.keyedvectors.Vocab at 0x1dcd3277a58>,\n",
       " 'over': <gensim.models.keyedvectors.Vocab at 0x1dcd3277a90>,\n",
       " 'wall': <gensim.models.keyedvectors.Vocab at 0x1dcd3277ac8>,\n",
       " 'ridicul': <gensim.models.keyedvectors.Vocab at 0x1dcd3277b00>,\n",
       " 'no': <gensim.models.keyedvectors.Vocab at 0x1dcd3277b38>,\n",
       " 'small': <gensim.models.keyedvectors.Vocab at 0x1dcd3277b70>,\n",
       " 'realist': <gensim.models.keyedvectors.Vocab at 0x1dcd3277ba8>,\n",
       " 'gori': <gensim.models.keyedvectors.Vocab at 0x1dcd3277be0>,\n",
       " 'violent': <gensim.models.keyedvectors.Vocab at 0x1dcd3277c18>,\n",
       " 'follow': <gensim.models.keyedvectors.Vocab at 0x1dcd3277c50>,\n",
       " 'jame': <gensim.models.keyedvectors.Vocab at 0x1dcd3277c88>,\n",
       " 'r': <gensim.models.keyedvectors.Vocab at 0x1dcd3277cc0>,\n",
       " 'vanessa': <gensim.models.keyedvectors.Vocab at 0x1dcd3277cf8>,\n",
       " 'angel': <gensim.models.keyedvectors.Vocab at 0x1dcd3277d30>,\n",
       " 'david': <gensim.models.keyedvectors.Vocab at 0x1dcd3277d68>,\n",
       " 'keith': <gensim.models.keyedvectors.Vocab at 0x1dcd3277da0>,\n",
       " 'john': <gensim.models.keyedvectors.Vocab at 0x1dcd3277dd8>,\n",
       " 'rhys': <gensim.models.keyedvectors.Vocab at 0x1dcd3277e10>,\n",
       " 'davi': <gensim.models.keyedvectors.Vocab at 0x1dcd3277e48>,\n",
       " 'much': <gensim.models.keyedvectors.Vocab at 0x1dcd3277e80>,\n",
       " 'better': <gensim.models.keyedvectors.Vocab at 0x1dcd3277eb8>,\n",
       " 'bc': <gensim.models.keyedvectors.Vocab at 0x1dcd3277ef0>,\n",
       " 'roland': <gensim.models.keyedvectors.Vocab at 0x1dcd3277f28>,\n",
       " 'steven': <gensim.models.keyedvectors.Vocab at 0x1dcd3277f60>,\n",
       " 'strait': <gensim.models.keyedvectors.Vocab at 0x1dcd3277f98>,\n",
       " 'cliff': <gensim.models.keyedvectors.Vocab at 0x1dcd3277fd0>,\n",
       " 'curti': <gensim.models.keyedvectors.Vocab at 0x1dcd327b048>,\n",
       " 'camilla': <gensim.models.keyedvectors.Vocab at 0x1dcd327b080>,\n",
       " 'motion': <gensim.models.keyedvectors.Vocab at 0x1dcd327b0b8>,\n",
       " 'pictur': <gensim.models.keyedvectors.Vocab at 0x1dcd327b0f0>,\n",
       " 'fill': <gensim.models.keyedvectors.Vocab at 0x1dcd327b128>,\n",
       " 'bloodi': <gensim.models.keyedvectors.Vocab at 0x1dcd327b160>,\n",
       " 'direct': <gensim.models.keyedvectors.Vocab at 0x1dcd327b198>,\n",
       " 'georg': <gensim.models.keyedvectors.Vocab at 0x1dcd327b1d0>,\n",
       " 'miller': <gensim.models.keyedvectors.Vocab at 0x1dcd327b208>,\n",
       " 'take': <gensim.models.keyedvectors.Vocab at 0x1dcd327b240>,\n",
       " 'too': <gensim.models.keyedvectors.Vocab at 0x1dcd327b278>,\n",
       " 'mani': <gensim.models.keyedvectors.Vocab at 0x1dcd327b2b0>,\n",
       " 'element': <gensim.models.keyedvectors.Vocab at 0x1dcd327b2e8>,\n",
       " 'from': <gensim.models.keyedvectors.Vocab at 0x1dcd327b320>,\n",
       " 'previous': <gensim.models.keyedvectors.Vocab at 0x1dcd327b358>,\n",
       " 'australian': <gensim.models.keyedvectors.Vocab at 0x1dcd327b390>,\n",
       " 'televis': <gensim.models.keyedvectors.Vocab at 0x1dcd327b3c8>,\n",
       " 'wave': <gensim.models.keyedvectors.Vocab at 0x1dcd327b400>,\n",
       " 'journey': <gensim.models.keyedvectors.Vocab at 0x1dcd327b438>,\n",
       " 'earth': <gensim.models.keyedvectors.Vocab at 0x1dcd327b470>,\n",
       " 'occasion': <gensim.models.keyedvectors.Vocab at 0x1dcd327b4a8>,\n",
       " 'man': <gensim.models.keyedvectors.Vocab at 0x1dcd327b4e0>,\n",
       " 'snowi': <gensim.models.keyedvectors.Vocab at 0x1dcd327b518>,\n",
       " 'river': <gensim.models.keyedvectors.Vocab at 0x1dcd327b550>,\n",
       " 'robinson': <gensim.models.keyedvectors.Vocab at 0x1dcd327b588>,\n",
       " 'cruso': <gensim.models.keyedvectors.Vocab at 0x1dcd327b5c0>,\n",
       " 'below': <gensim.models.keyedvectors.Vocab at 0x1dcd327b5f8>,\n",
       " 'averag': <gensim.models.keyedvectors.Vocab at 0x1dcd327b630>,\n",
       " 'barrel': <gensim.models.keyedvectors.Vocab at 0x1dcd327b668>,\n",
       " 'assum': <gensim.models.keyedvectors.Vocab at 0x1dcd327b6a0>,\n",
       " 'prais': <gensim.models.keyedvectors.Vocab at 0x1dcd327b6d8>,\n",
       " 'greatest': <gensim.models.keyedvectors.Vocab at 0x1dcd327b710>,\n",
       " 'opera': <gensim.models.keyedvectors.Vocab at 0x1dcd327b748>,\n",
       " 'didn': <gensim.models.keyedvectors.Vocab at 0x1dcd327b780>,\n",
       " 'read': <gensim.models.keyedvectors.Vocab at 0x1dcd327b7b8>,\n",
       " 'somewher': <gensim.models.keyedvectors.Vocab at 0x1dcd327b7f0>,\n",
       " 'care': <gensim.models.keyedvectors.Vocab at 0x1dcd327b828>,\n",
       " 'wagner': <gensim.models.keyedvectors.Vocab at 0x1dcd327b860>,\n",
       " 'anyth': <gensim.models.keyedvectors.Vocab at 0x1dcd327b898>,\n",
       " 'except': <gensim.models.keyedvectors.Vocab at 0x1dcd327b8d0>,\n",
       " 'their': <gensim.models.keyedvectors.Vocab at 0x1dcd327b908>,\n",
       " 'desir': <gensim.models.keyedvectors.Vocab at 0x1dcd327b940>,\n",
       " 'cultur': <gensim.models.keyedvectors.Vocab at 0x1dcd327b978>,\n",
       " 'represent': <gensim.models.keyedvectors.Vocab at 0x1dcd327b9b0>,\n",
       " 'swan': <gensim.models.keyedvectors.Vocab at 0x1dcd327b9e8>,\n",
       " 'song': <gensim.models.keyedvectors.Vocab at 0x1dcd327ba20>,\n",
       " 'strike': <gensim.models.keyedvectors.Vocab at 0x1dcd327ba58>,\n",
       " 'disast': <gensim.models.keyedvectors.Vocab at 0x1dcd327ba90>,\n",
       " 'leaden': <gensim.models.keyedvectors.Vocab at 0x1dcd327bac8>,\n",
       " 'score': <gensim.models.keyedvectors.Vocab at 0x1dcd327bb00>,\n",
       " 'match': <gensim.models.keyedvectors.Vocab at 0x1dcd327bb38>,\n",
       " 'realis': <gensim.models.keyedvectors.Vocab at 0x1dcd327bb70>,\n",
       " 'text': <gensim.models.keyedvectors.Vocab at 0x1dcd327bba8>,\n",
       " 'question': <gensim.models.keyedvectors.Vocab at 0x1dcd327bbe0>,\n",
       " 'idea': <gensim.models.keyedvectors.Vocab at 0x1dcd327bc18>,\n",
       " 'matter': <gensim.models.keyedvectors.Vocab at 0x1dcd327bc50>,\n",
       " 'play': <gensim.models.keyedvectors.Vocab at 0x1dcd327bc88>,\n",
       " 'especi': <gensim.models.keyedvectors.Vocab at 0x1dcd327bcc0>,\n",
       " 'shakespear': <gensim.models.keyedvectors.Vocab at 0x1dcd327bcf8>,\n",
       " 'should': <gensim.models.keyedvectors.Vocab at 0x1dcd327bd30>,\n",
       " 'allow': <gensim.models.keyedvectors.Vocab at 0x1dcd327bd68>,\n",
       " 'anywher': <gensim.models.keyedvectors.Vocab at 0x1dcd327bda0>,\n",
       " 'near': <gensim.models.keyedvectors.Vocab at 0x1dcd327bdd8>,\n",
       " 'theatr': <gensim.models.keyedvectors.Vocab at 0x1dcd327be10>,\n",
       " 'studio': <gensim.models.keyedvectors.Vocab at 0x1dcd327be48>,\n",
       " 'fashion': <gensim.models.keyedvectors.Vocab at 0x1dcd327be80>,\n",
       " 'without': <gensim.models.keyedvectors.Vocab at 0x1dcd327beb8>,\n",
       " 'smallest': <gensim.models.keyedvectors.Vocab at 0x1dcd327bef0>,\n",
       " 'justif': <gensim.models.keyedvectors.Vocab at 0x1dcd327bf28>,\n",
       " 'decid': <gensim.models.keyedvectors.Vocab at 0x1dcd327bf60>,\n",
       " 'bisexu': <gensim.models.keyedvectors.Vocab at 0x1dcd327bf98>,\n",
       " 'integr': <gensim.models.keyedvectors.Vocab at 0x1dcd327bfd0>,\n",
       " 'titl': <gensim.models.keyedvectors.Vocab at 0x1dcd327e048>,\n",
       " 'stage': <gensim.models.keyedvectors.Vocab at 0x1dcd327e080>,\n",
       " 'kind': <gensim.models.keyedvectors.Vocab at 0x1dcd327e0b8>,\n",
       " 'babe': <gensim.models.keyedvectors.Vocab at 0x1dcd327e0f0>,\n",
       " 'continu': <gensim.models.keyedvectors.Vocab at 0x1dcd327e128>,\n",
       " 'sing': <gensim.models.keyedvectors.Vocab at 0x1dcd327e160>,\n",
       " 'tenor': <gensim.models.keyedvectors.Vocab at 0x1dcd327e198>,\n",
       " 'few': <gensim.models.keyedvectors.Vocab at 0x1dcd327e1d0>,\n",
       " 'ani': <gensim.models.keyedvectors.Vocab at 0x1dcd327e208>,\n",
       " 'singer': <gensim.models.keyedvectors.Vocab at 0x1dcd327e240>,\n",
       " 'doubl': <gensim.models.keyedvectors.Vocab at 0x1dcd327e278>,\n",
       " 'dose': <gensim.models.keyedvectors.Vocab at 0x1dcd327e2b0>,\n",
       " 'jordan': <gensim.models.keyedvectors.Vocab at 0x1dcd327e2e8>,\n",
       " 'conductor': <gensim.models.keyedvectors.Vocab at 0x1dcd327e320>,\n",
       " 'seen': <gensim.models.keyedvectors.Vocab at 0x1dcd327e358>,\n",
       " 'face': <gensim.models.keyedvectors.Vocab at 0x1dcd327e390>,\n",
       " 'heard': <gensim.models.keyedvectors.Vocab at 0x1dcd327e3c8>,\n",
       " 'voic': <gensim.models.keyedvectors.Vocab at 0x1dcd327e400>,\n",
       " 'monstrous': <gensim.models.keyedvectors.Vocab at 0x1dcd327e438>,\n",
       " 'exposur': <gensim.models.keyedvectors.Vocab at 0x1dcd327e470>,\n",
       " 'ate': <gensim.models.keyedvectors.Vocab at 0x1dcd327e4a8>,\n",
       " 'dure': <gensim.models.keyedvectors.Vocab at 0x1dcd327e4e0>,\n",
       " 'friday': <gensim.models.keyedvectors.Vocab at 0x1dcd327e518>,\n",
       " 'way': <gensim.models.keyedvectors.Vocab at 0x1dcd327e550>,\n",
       " 'transcend': <gensim.models.keyedvectors.Vocab at 0x1dcd327e588>,\n",
       " 'repres': <gensim.models.keyedvectors.Vocab at 0x1dcd327e5c0>,\n",
       " 'scatter': <gensim.models.keyedvectors.Vocab at 0x1dcd327e5f8>,\n",
       " 'stuck': <gensim.models.keyedvectors.Vocab at 0x1dcd327e630>,\n",
       " 'ill': <gensim.models.keyedvectors.Vocab at 0x1dcd327e668>,\n",
       " 'laid': <gensim.models.keyedvectors.Vocab at 0x1dcd327e6a0>,\n",
       " 'turf': <gensim.models.keyedvectors.Vocab at 0x1dcd327e6d8>,\n",
       " 'baffl': <gensim.models.keyedvectors.Vocab at 0x1dcd327e710>,\n",
       " 'sometim': <gensim.models.keyedvectors.Vocab at 0x1dcd327e748>,\n",
       " 'piec': <gensim.models.keyedvectors.Vocab at 0x1dcd327e780>,\n",
       " 'such': <gensim.models.keyedvectors.Vocab at 0x1dcd327e7b8>,\n",
       " 'imperfect': <gensim.models.keyedvectors.Vocab at 0x1dcd327e7f0>,\n",
       " 'our': <gensim.models.keyedvectors.Vocab at 0x1dcd327e828>,\n",
       " 'couldn': <gensim.models.keyedvectors.Vocab at 0x1dcd327e860>,\n",
       " 'splice': <gensim.models.keyedvectors.Vocab at 0x1dcd327e898>,\n",
       " 'mountain': <gensim.models.keyedvectors.Vocab at 0x1dcd327e8d0>,\n",
       " 'lush': <gensim.models.keyedvectors.Vocab at 0x1dcd327e908>,\n",
       " 'juli': <gensim.models.keyedvectors.Vocab at 0x1dcd327e940>,\n",
       " 'andrew': <gensim.models.keyedvectors.Vocab at 0x1dcd327e978>,\n",
       " 'sound': <gensim.models.keyedvectors.Vocab at 0x1dcd327e9b0>,\n",
       " 'endur': <gensim.models.keyedvectors.Vocab at 0x1dcd327e9e8>,\n",
       " 'trumpet': <gensim.models.keyedvectors.Vocab at 0x1dcd327ea20>,\n",
       " 'particular': <gensim.models.keyedvectors.Vocab at 0x1dcd327ea58>,\n",
       " 'possess': <gensim.models.keyedvectors.Vocab at 0x1dcd327ea90>,\n",
       " 'glare': <gensim.models.keyedvectors.Vocab at 0x1dcd327eac8>,\n",
       " 'add': <gensim.models.keyedvectors.Vocab at 0x1dcd327eb00>,\n",
       " 'sort': <gensim.models.keyedvectors.Vocab at 0x1dcd327eb38>,\n",
       " 'fatigu': <gensim.models.keyedvectors.Vocab at 0x1dcd327eb70>,\n",
       " 'impati': <gensim.models.keyedvectors.Vocab at 0x1dcd327eba8>,\n",
       " 'uninspir': <gensim.models.keyedvectors.Vocab at 0x1dcd327ebe0>,\n",
       " 'conduct': <gensim.models.keyedvectors.Vocab at 0x1dcd327ec18>,\n",
       " 'unfold': <gensim.models.keyedvectors.Vocab at 0x1dcd327ec50>,\n",
       " 'ritual': <gensim.models.keyedvectors.Vocab at 0x1dcd327ec88>,\n",
       " 'someon': <gensim.models.keyedvectors.Vocab at 0x1dcd327ecc0>,\n",
       " 'review': <gensim.models.keyedvectors.Vocab at 0x1dcd327ecf8>,\n",
       " 'mention': <gensim.models.keyedvectors.Vocab at 0x1dcd327ed30>,\n",
       " 'record': <gensim.models.keyedvectors.Vocab at 0x1dcd327ed68>,\n",
       " 'often': <gensim.models.keyedvectors.Vocab at 0x1dcd327eda0>,\n",
       " 'altogeth': <gensim.models.keyedvectors.Vocab at 0x1dcd327edd8>,\n",
       " 'lack': <gensim.models.keyedvectors.Vocab at 0x1dcd327ee10>,\n",
       " 'sens': <gensim.models.keyedvectors.Vocab at 0x1dcd327ee48>,\n",
       " 'puls': <gensim.models.keyedvectors.Vocab at 0x1dcd327ee80>,\n",
       " 'flow': <gensim.models.keyedvectors.Vocab at 0x1dcd327eeb8>,\n",
       " 'after': <gensim.models.keyedvectors.Vocab at 0x1dcd327eef0>,\n",
       " 'half': <gensim.models.keyedvectors.Vocab at 0x1dcd327ef28>,\n",
       " 'centuri': <gensim.models.keyedvectors.Vocab at 0x1dcd327ef60>,\n",
       " 'orchestr': <gensim.models.keyedvectors.Vocab at 0x1dcd327ef98>,\n",
       " 'set': <gensim.models.keyedvectors.Vocab at 0x1dcd327efd0>,\n",
       " 'modern': <gensim.models.keyedvectors.Vocab at 0x1dcd3282048>,\n",
       " 'still': <gensim.models.keyedvectors.Vocab at 0x1dcd3282080>,\n",
       " 'superior': <gensim.models.keyedvectors.Vocab at 0x1dcd32820b8>,\n",
       " 'superbl': <gensim.models.keyedvectors.Vocab at 0x1dcd32820f0>,\n",
       " 'trashi': <gensim.models.keyedvectors.Vocab at 0x1dcd3282128>,\n",
       " 'wondrous': <gensim.models.keyedvectors.Vocab at 0x1dcd3282160>,\n",
       " 'unpretenti': <gensim.models.keyedvectors.Vocab at 0x1dcd3282198>,\n",
       " 'exploit': <gensim.models.keyedvectors.Vocab at 0x1dcd32821d0>,\n",
       " 'hooray': <gensim.models.keyedvectors.Vocab at 0x1dcd3282208>,\n",
       " 'credit': <gensim.models.keyedvectors.Vocab at 0x1dcd3282240>,\n",
       " 'somewhat': <gensim.models.keyedvectors.Vocab at 0x1dcd3282278>,\n",
       " 'fals': <gensim.models.keyedvectors.Vocab at 0x1dcd32822b0>,\n",
       " 're': <gensim.models.keyedvectors.Vocab at 0x1dcd32822e8>,\n",
       " 'deal': <gensim.models.keyedvectors.Vocab at 0x1dcd3282320>,\n",
       " 'serious': <gensim.models.keyedvectors.Vocab at 0x1dcd3282358>,\n",
       " 'harrow': <gensim.models.keyedvectors.Vocab at 0x1dcd3282390>,\n",
       " 'drama': <gensim.models.keyedvectors.Vocab at 0x1dcd32823c8>,\n",
       " 'need': <gensim.models.keyedvectors.Vocab at 0x1dcd3282400>,\n",
       " 'fear': <gensim.models.keyedvectors.Vocab at 0x1dcd3282438>,\n",
       " 'bare': <gensim.models.keyedvectors.Vocab at 0x1dcd3282470>,\n",
       " 'ten': <gensim.models.keyedvectors.Vocab at 0x1dcd32824a8>,\n",
       " 'later': <gensim.models.keyedvectors.Vocab at 0x1dcd32824e0>,\n",
       " 'until': <gensim.models.keyedvectors.Vocab at 0x1dcd3282518>,\n",
       " 'neck': <gensim.models.keyedvectors.Vocab at 0x1dcd3282550>,\n",
       " 'nonsens': <gensim.models.keyedvectors.Vocab at 0x1dcd3282588>,\n",
       " 'chainsaw': <gensim.models.keyedvectors.Vocab at 0x1dcd32825c0>,\n",
       " 'battl': <gensim.models.keyedvectors.Vocab at 0x1dcd32825f8>,\n",
       " 'rough': <gensim.models.keyedvectors.Vocab at 0x1dcd3282630>,\n",
       " 'fist': <gensim.models.keyedvectors.Vocab at 0x1dcd3282668>,\n",
       " 'lurid': <gensim.models.keyedvectors.Vocab at 0x1dcd32826a0>,\n",
       " 'dialog': <gensim.models.keyedvectors.Vocab at 0x1dcd32826d8>,\n",
       " 'gratuit': <gensim.models.keyedvectors.Vocab at 0x1dcd3282710>,\n",
       " 'nuditi': <gensim.models.keyedvectors.Vocab at 0x1dcd3282748>,\n",
       " 'bo': <gensim.models.keyedvectors.Vocab at 0x1dcd3282780>,\n",
       " 'ingrid': <gensim.models.keyedvectors.Vocab at 0x1dcd32827b8>,\n",
       " 'two': <gensim.models.keyedvectors.Vocab at 0x1dcd32827f0>,\n",
       " 'orphan': <gensim.models.keyedvectors.Vocab at 0x1dcd3282828>,\n",
       " 'sibl': <gensim.models.keyedvectors.Vocab at 0x1dcd3282860>,\n",
       " 'unusu': <gensim.models.keyedvectors.Vocab at 0x1dcd3282898>,\n",
       " 'even': <gensim.models.keyedvectors.Vocab at 0x1dcd32828d0>,\n",
       " 'slight': <gensim.models.keyedvectors.Vocab at 0x1dcd3282908>,\n",
       " 'pervert': <gensim.models.keyedvectors.Vocab at 0x1dcd3282940>,\n",
       " 'relationship': <gensim.models.keyedvectors.Vocab at 0x1dcd3282978>,\n",
       " 'imagin': <gensim.models.keyedvectors.Vocab at 0x1dcd32829b0>,\n",
       " 'rip': <gensim.models.keyedvectors.Vocab at 0x1dcd32829e8>,\n",
       " 'towel': <gensim.models.keyedvectors.Vocab at 0x1dcd3282a20>,\n",
       " 'cover': <gensim.models.keyedvectors.Vocab at 0x1dcd3282a58>,\n",
       " 'your': <gensim.models.keyedvectors.Vocab at 0x1dcd3282a90>,\n",
       " 'sister': <gensim.models.keyedvectors.Vocab at 0x1dcd3282ac8>,\n",
       " 'nake': <gensim.models.keyedvectors.Vocab at 0x1dcd3282b00>,\n",
       " 'bodi': <gensim.models.keyedvectors.Vocab at 0x1dcd3282b38>,\n",
       " 'stare': <gensim.models.keyedvectors.Vocab at 0x1dcd3282b70>,\n",
       " 'genit': <gensim.models.keyedvectors.Vocab at 0x1dcd3282ba8>,\n",
       " 'sever': <gensim.models.keyedvectors.Vocab at 0x1dcd3282be0>,\n",
       " 'judg': <gensim.models.keyedvectors.Vocab at 0x1dcd3282c18>,\n",
       " 'dub': <gensim.models.keyedvectors.Vocab at 0x1dcd3282c50>,\n",
       " 'laughter': <gensim.models.keyedvectors.Vocab at 0x1dcd3282c88>,\n",
       " 'she': <gensim.models.keyedvectors.Vocab at 0x1dcd3282cc0>,\n",
       " 'doesn': <gensim.models.keyedvectors.Vocab at 0x1dcd3282cf8>,\n",
       " 'sick': <gensim.models.keyedvectors.Vocab at 0x1dcd3282d30>,\n",
       " 'dude': <gensim.models.keyedvectors.Vocab at 0x1dcd3282d68>,\n",
       " 'fled': <gensim.models.keyedvectors.Vocab at 0x1dcd3282da0>,\n",
       " 'russia': <gensim.models.keyedvectors.Vocab at 0x1dcd3282dd8>,\n",
       " 'parent': <gensim.models.keyedvectors.Vocab at 0x1dcd3282e10>,\n",
       " 'nasti': <gensim.models.keyedvectors.Vocab at 0x1dcd3282e48>,\n",
       " 'soldier': <gensim.models.keyedvectors.Vocab at 0x1dcd3282e80>,\n",
       " 'brutal': <gensim.models.keyedvectors.Vocab at 0x1dcd3282eb8>,\n",
       " 'slaughter': <gensim.models.keyedvectors.Vocab at 0x1dcd3282ef0>,\n",
       " 'mommi': <gensim.models.keyedvectors.Vocab at 0x1dcd3282f28>,\n",
       " 'daddi': <gensim.models.keyedvectors.Vocab at 0x1dcd3282f60>,\n",
       " 'friend': <gensim.models.keyedvectors.Vocab at 0x1dcd3282f98>,\n",
       " 'smuggler': <gensim.models.keyedvectors.Vocab at 0x1dcd3282fd0>,\n",
       " 'took': <gensim.models.keyedvectors.Vocab at 0x1dcd3286048>,\n",
       " 'custodi': <gensim.models.keyedvectors.Vocab at 0x1dcd3286080>,\n",
       " 'train': <gensim.models.keyedvectors.Vocab at 0x1dcd32860b8>,\n",
       " 'expert': <gensim.models.keyedvectors.Vocab at 0x1dcd32860f0>,\n",
       " 'plot': <gensim.models.keyedvectors.Vocab at 0x1dcd3286128>,\n",
       " 'lift': <gensim.models.keyedvectors.Vocab at 0x1dcd3286160>,\n",
       " 'ultim': <gensim.models.keyedvectors.Vocab at 0x1dcd3286198>,\n",
       " 'quest': <gensim.models.keyedvectors.Vocab at 0x1dcd32861d0>,\n",
       " 'mythic': <gensim.models.keyedvectors.Vocab at 0x1dcd3286208>,\n",
       " 'incred': <gensim.models.keyedvectors.Vocab at 0x1dcd3286240>,\n",
       " 'valuabl': <gensim.models.keyedvectors.Vocab at 0x1dcd3286278>,\n",
       " 'white': <gensim.models.keyedvectors.Vocab at 0x1dcd32862b0>,\n",
       " 'fire': <gensim.models.keyedvectors.Vocab at 0x1dcd32862e8>,\n",
       " 'diamond': <gensim.models.keyedvectors.Vocab at 0x1dcd3286320>,\n",
       " 'coincident': <gensim.models.keyedvectors.Vocab at 0x1dcd3286358>,\n",
       " 'mine': <gensim.models.keyedvectors.Vocab at 0x1dcd3286390>,\n",
       " 'life': <gensim.models.keyedvectors.Vocab at 0x1dcd32863c8>,\n",
       " 'littl': <gensim.models.keyedvectors.Vocab at 0x1dcd3286400>,\n",
       " 'narrat': <gensim.models.keyedvectors.Vocab at 0x1dcd3286438>,\n",
       " 'structur': <gensim.models.keyedvectors.Vocab at 0x1dcd3286470>,\n",
       " 'sure': <gensim.models.keyedvectors.Vocab at 0x1dcd32864a8>,\n",
       " 'fun': <gensim.models.keyedvectors.Vocab at 0x1dcd32864e0>,\n",
       " 'time': <gensim.models.keyedvectors.Vocab at 0x1dcd3286518>,\n",
       " 'clue': <gensim.models.keyedvectors.Vocab at 0x1dcd3286550>,\n",
       " 'beat': <gensim.models.keyedvectors.Vocab at 0x1dcd3286588>,\n",
       " 'caus': <gensim.models.keyedvectors.Vocab at 0x1dcd32865c0>,\n",
       " 'bet': <gensim.models.keyedvectors.Vocab at 0x1dcd32865f8>,\n",
       " 'understood': <gensim.models.keyedvectors.Vocab at 0x1dcd3286630>,\n",
       " 'less': <gensim.models.keyedvectors.Vocab at 0x1dcd3286668>,\n",
       " 'whatev': <gensim.models.keyedvectors.Vocab at 0x1dcd32866a0>,\n",
       " 'violenc': <gensim.models.keyedvectors.Vocab at 0x1dcd32866d8>,\n",
       " 'magnific': <gensim.models.keyedvectors.Vocab at 0x1dcd3286710>,\n",
       " 'grotesqu': <gensim.models.keyedvectors.Vocab at 0x1dcd3286748>,\n",
       " 'singl': <gensim.models.keyedvectors.Vocab at 0x1dcd3286780>,\n",
       " 'twist': <gensim.models.keyedvectors.Vocab at 0x1dcd32867b8>,\n",
       " 'pleas': <gensim.models.keyedvectors.Vocab at 0x1dcd32867f0>,\n",
       " 'retard': <gensim.models.keyedvectors.Vocab at 0x1dcd3286828>,\n",
       " 'script': <gensim.models.keyedvectors.Vocab at 0x1dcd3286860>,\n",
       " 'bonker': <gensim.models.keyedvectors.Vocab at 0x1dcd3286898>,\n",
       " 'repair': <gensim.models.keyedvectors.Vocab at 0x1dcd32868d0>,\n",
       " 'sudden': <gensim.models.keyedvectors.Vocab at 0x1dcd3286908>,\n",
       " 'won': <gensim.models.keyedvectors.Vocab at 0x1dcd3286940>,\n",
       " 'reveal': <gensim.models.keyedvectors.Vocab at 0x1dcd3286978>,\n",
       " 'reason': <gensim.models.keyedvectors.Vocab at 0x1dcd32869b0>,\n",
       " 'replac': <gensim.models.keyedvectors.Vocab at 0x1dcd32869e8>,\n",
       " 'fred': <gensim.models.keyedvectors.Vocab at 0x1dcd3286a20>,\n",
       " 'williamson': <gensim.models.keyedvectors.Vocab at 0x1dcd3286a58>,\n",
       " 'big': <gensim.models.keyedvectors.Vocab at 0x1dcd3286a90>,\n",
       " 'cigar': <gensim.models.keyedvectors.Vocab at 0x1dcd3286ac8>,\n",
       " 'mouth': <gensim.models.keyedvectors.Vocab at 0x1dcd3286b00>,\n",
       " 'sleazi': <gensim.models.keyedvectors.Vocab at 0x1dcd3286b38>,\n",
       " 'black': <gensim.models.keyedvectors.Vocab at 0x1dcd3286b70>,\n",
       " 'finger': <gensim.models.keyedvectors.Vocab at 0x1dcd3286ba8>,\n",
       " 'local': <gensim.models.keyedvectors.Vocab at 0x1dcd3286be0>,\n",
       " 'prostitut': <gensim.models.keyedvectors.Vocab at 0x1dcd3286c18>,\n",
       " 'princip': <gensim.models.keyedvectors.Vocab at 0x1dcd3286c50>,\n",
       " 'oppon': <gensim.models.keyedvectors.Vocab at 0x1dcd3286c88>,\n",
       " 'italian': <gensim.models.keyedvectors.Vocab at 0x1dcd3286cc0>,\n",
       " 'chick': <gensim.models.keyedvectors.Vocab at 0x1dcd3286cf8>,\n",
       " 'breast': <gensim.models.keyedvectors.Vocab at 0x1dcd3286d30>,\n",
       " 'hideous': <gensim.models.keyedvectors.Vocab at 0x1dcd3286d68>,\n",
       " 'accent': <gensim.models.keyedvectors.Vocab at 0x1dcd3286da0>,\n",
       " 'preposter': <gensim.models.keyedvectors.Vocab at 0x1dcd3286dd8>,\n",
       " 'catchi': <gensim.models.keyedvectors.Vocab at 0x1dcd3286e10>,\n",
       " 'theme': <gensim.models.keyedvectors.Vocab at 0x1dcd3286e48>,\n",
       " 'least': <gensim.models.keyedvectors.Vocab at 0x1dcd3286e80>,\n",
       " 'dozen': <gensim.models.keyedvectors.Vocab at 0x1dcd3286eb8>,\n",
       " 'throughout': <gensim.models.keyedvectors.Vocab at 0x1dcd3286ef0>,\n",
       " 'obligatori': <gensim.models.keyedvectors.Vocab at 0x1dcd3286f28>,\n",
       " 'fall': <gensim.models.keyedvectors.Vocab at 0x1dcd3286f60>,\n",
       " 'love': <gensim.models.keyedvectors.Vocab at 0x1dcd3286f98>,\n",
       " 'montag': <gensim.models.keyedvectors.Vocab at 0x1dcd3286fd0>,\n",
       " 'load': <gensim.models.keyedvectors.Vocab at 0x1dcd3289048>,\n",
       " 'attract': <gensim.models.keyedvectors.Vocab at 0x1dcd3289080>,\n",
       " 'god': <gensim.models.keyedvectors.Vocab at 0x1dcd32890b8>,\n",
       " 'brilliant': <gensim.models.keyedvectors.Vocab at 0x1dcd32890f0>,\n",
       " 'experi': <gensim.models.keyedvectors.Vocab at 0x1dcd3289128>,\n",
       " 'french': <gensim.models.keyedvectors.Vocab at 0x1dcd3289160>,\n",
       " 'translat': <gensim.models.keyedvectors.Vocab at 0x1dcd3289198>,\n",
       " 'itself': <gensim.models.keyedvectors.Vocab at 0x1dcd32891d0>,\n",
       " 'surviv': <gensim.models.keyedvectors.Vocab at 0x1dcd3289208>,\n",
       " 'uniqu': <gensim.models.keyedvectors.Vocab at 0x1dcd3289240>,\n",
       " 'rest': <gensim.models.keyedvectors.Vocab at 0x1dcd3289278>,\n",
       " 'none': <gensim.models.keyedvectors.Vocab at 0x1dcd32892b0>,\n",
       " 'dont': <gensim.models.keyedvectors.Vocab at 0x1dcd32892e8>,\n",
       " 'got': <gensim.models.keyedvectors.Vocab at 0x1dcd3289320>,\n",
       " 'pretti': <gensim.models.keyedvectors.Vocab at 0x1dcd3289358>,\n",
       " 'action': <gensim.models.keyedvectors.Vocab at 0x1dcd3289390>,\n",
       " 'chang': <gensim.models.keyedvectors.Vocab at 0x1dcd32893c8>,\n",
       " 'locat': <gensim.models.keyedvectors.Vocab at 0x1dcd3289400>,\n",
       " 'harri': <gensim.models.keyedvectors.Vocab at 0x1dcd3289438>,\n",
       " 'hurt': <gensim.models.keyedvectors.Vocab at 0x1dcd3289470>,\n",
       " 'offens': <gensim.models.keyedvectors.Vocab at 0x1dcd32894a8>,\n",
       " 'eastwood': <gensim.models.keyedvectors.Vocab at 0x1dcd32894e0>,\n",
       " 'form': <gensim.models.keyedvectors.Vocab at 0x1dcd3289518>,\n",
       " 'dirti': <gensim.models.keyedvectors.Vocab at 0x1dcd3289550>,\n",
       " 'pat': <gensim.models.keyedvectors.Vocab at 0x1dcd3289588>,\n",
       " 'town': <gensim.models.keyedvectors.Vocab at 0x1dcd32895c0>,\n",
       " 'cop': <gensim.models.keyedvectors.Vocab at 0x1dcd32895f8>,\n",
       " 'than': <gensim.models.keyedvectors.Vocab at 0x1dcd3289630>,\n",
       " 'pool': <gensim.models.keyedvectors.Vocab at 0x1dcd3289668>,\n",
       " 'could': <gensim.models.keyedvectors.Vocab at 0x1dcd32896a0>,\n",
       " 'been': <gensim.models.keyedvectors.Vocab at 0x1dcd32896d8>,\n",
       " 'short': <gensim.models.keyedvectors.Vocab at 0x1dcd3289710>,\n",
       " 'cheesi': <gensim.models.keyedvectors.Vocab at 0x1dcd3289748>,\n",
       " 'act': <gensim.models.keyedvectors.Vocab at 0x1dcd3289780>,\n",
       " 'past': <gensim.models.keyedvectors.Vocab at 0x1dcd32897b8>,\n",
       " 'wasn': <gensim.models.keyedvectors.Vocab at 0x1dcd32897f0>,\n",
       " 'background': <gensim.models.keyedvectors.Vocab at 0x1dcd3289828>,\n",
       " 'around': <gensim.models.keyedvectors.Vocab at 0x1dcd3289860>,\n",
       " 'evil': <gensim.models.keyedvectors.Vocab at 0x1dcd3289898>,\n",
       " 'witch': <gensim.models.keyedvectors.Vocab at 0x1dcd32898d0>,\n",
       " 'link': <gensim.models.keyedvectors.Vocab at 0x1dcd3289908>,\n",
       " 'woman': <gensim.models.keyedvectors.Vocab at 0x1dcd3289940>,\n",
       " 'drag': <gensim.models.keyedvectors.Vocab at 0x1dcd3289978>,\n",
       " 'clear': <gensim.models.keyedvectors.Vocab at 0x1dcd32899b0>,\n",
       " 'explain': <gensim.models.keyedvectors.Vocab at 0x1dcd32899e8>,\n",
       " 'keep': <gensim.models.keyedvectors.Vocab at 0x1dcd3289a20>,\n",
       " 'plod': <gensim.models.keyedvectors.Vocab at 0x1dcd3289a58>,\n",
       " 'christoph': <gensim.models.keyedvectors.Vocab at 0x1dcd3289a90>,\n",
       " 'walken': <gensim.models.keyedvectors.Vocab at 0x1dcd3289ac8>,\n",
       " 'complet': <gensim.models.keyedvectors.Vocab at 0x1dcd3289b00>,\n",
       " 'senseless': <gensim.models.keyedvectors.Vocab at 0x1dcd3289b38>,\n",
       " 'potenti': <gensim.models.keyedvectors.Vocab at 0x1dcd3289b70>,\n",
       " 'tv': <gensim.models.keyedvectors.Vocab at 0x1dcd3289ba8>,\n",
       " 'avoid': <gensim.models.keyedvectors.Vocab at 0x1dcd3289be0>,\n",
       " 'video': <gensim.models.keyedvectors.Vocab at 0x1dcd3289c18>,\n",
       " 'hous': <gensim.models.keyedvectors.Vocab at 0x1dcd3289c50>,\n",
       " 'glad': <gensim.models.keyedvectors.Vocab at 0x1dcd3289c88>,\n",
       " 'did': <gensim.models.keyedvectors.Vocab at 0x1dcd3289cc0>,\n",
       " 'wast': <gensim.models.keyedvectors.Vocab at 0x1dcd3289cf8>,\n",
       " 'money': <gensim.models.keyedvectors.Vocab at 0x1dcd3289d30>,\n",
       " 'buy': <gensim.models.keyedvectors.Vocab at 0x1dcd3289d68>,\n",
       " 'clip': <gensim.models.keyedvectors.Vocab at 0x1dcd3289da0>,\n",
       " 'rocket': <gensim.models.keyedvectors.Vocab at 0x1dcd3289dd8>,\n",
       " 'blow': <gensim.models.keyedvectors.Vocab at 0x1dcd3289e10>,\n",
       " 'relat': <gensim.models.keyedvectors.Vocab at 0x1dcd3289e48>,\n",
       " 'flight': <gensim.models.keyedvectors.Vocab at 0x1dcd3289e80>,\n",
       " 'smoke': <gensim.models.keyedvectors.Vocab at 0x1dcd3289eb8>,\n",
       " 'gun': <gensim.models.keyedvectors.Vocab at 0x1dcd3289ef0>,\n",
       " 'astronaut': <gensim.models.keyedvectors.Vocab at 0x1dcd3289f28>,\n",
       " 'prepar': <gensim.models.keyedvectors.Vocab at 0x1dcd3289f60>,\n",
       " 'broadcast': <gensim.models.keyedvectors.Vocab at 0x1dcd3289f98>,\n",
       " 'edit': <gensim.models.keyedvectors.Vocab at 0x1dcd3289fd0>,\n",
       " 'own': <gensim.models.keyedvectors.Vocab at 0x1dcd328d048>,\n",
       " 'instead': <gensim.models.keyedvectors.Vocab at 0x1dcd328d080>,\n",
       " 'us': <gensim.models.keyedvectors.Vocab at 0x1dcd328d0b8>,\n",
       " 'crew': <gensim.models.keyedvectors.Vocab at 0x1dcd328d0f0>,\n",
       " 'curious': <gensim.models.keyedvectors.Vocab at 0x1dcd328d128>,\n",
       " 'end': <gensim.models.keyedvectors.Vocab at 0x1dcd328d160>,\n",
       " 'show': <gensim.models.keyedvectors.Vocab at 0x1dcd328d198>,\n",
       " 'claim': <gensim.models.keyedvectors.Vocab at 0x1dcd328d1d0>,\n",
       " 'radiat': <gensim.models.keyedvectors.Vocab at 0x1dcd328d208>,\n",
       " 'shield': <gensim.models.keyedvectors.Vocab at 0x1dcd328d240>,\n",
       " 'photographi': <gensim.models.keyedvectors.Vocab at 0x1dcd328d278>,\n",
       " 'lead': <gensim.models.keyedvectors.Vocab at 0x1dcd328d2b0>,\n",
       " 'believ': <gensim.models.keyedvectors.Vocab at 0x1dcd328d2e8>,\n",
       " 'ignor': <gensim.models.keyedvectors.Vocab at 0x1dcd328d320>,\n",
       " 'ax': <gensim.models.keyedvectors.Vocab at 0x1dcd328d358>,\n",
       " 'grind': <gensim.models.keyedvectors.Vocab at 0x1dcd328d390>,\n",
       " 'nasa': <gensim.models.keyedvectors.Vocab at 0x1dcd328d3c8>,\n",
       " 'american': <gensim.models.keyedvectors.Vocab at 0x1dcd328d400>,\n",
       " 'general': <gensim.models.keyedvectors.Vocab at 0x1dcd328d438>,\n",
       " 'scienc': <gensim.models.keyedvectors.Vocab at 0x1dcd328d470>,\n",
       " 'bought': <gensim.models.keyedvectors.Vocab at 0x1dcd328d4a8>,\n",
       " 'grossli': <gensim.models.keyedvectors.Vocab at 0x1dcd328d4e0>,\n",
       " 'despit': <gensim.models.keyedvectors.Vocab at 0x1dcd328d518>,\n",
       " 'name': <gensim.models.keyedvectors.Vocab at 0x1dcd328d550>,\n",
       " 'adam': <gensim.models.keyedvectors.Vocab at 0x1dcd328d588>,\n",
       " 'sandler': <gensim.models.keyedvectors.Vocab at 0x1dcd328d5c0>,\n",
       " 'billi': <gensim.models.keyedvectors.Vocab at 0x1dcd328d5f8>,\n",
       " 'bob': <gensim.models.keyedvectors.Vocab at 0x1dcd328d630>,\n",
       " 'thornton': <gensim.models.keyedvectors.Vocab at 0x1dcd328d668>,\n",
       " 'burt': <gensim.models.keyedvectors.Vocab at 0x1dcd328d6a0>,\n",
       " 'young': <gensim.models.keyedvectors.Vocab at 0x1dcd328d6d8>,\n",
       " 'funni': <gensim.models.keyedvectors.Vocab at 0x1dcd328d710>,\n",
       " 'hammer': <gensim.models.keyedvectors.Vocab at 0x1dcd328d748>,\n",
       " 'straight': <gensim.models.keyedvectors.Vocab at 0x1dcd328d780>,\n",
       " 'through': <gensim.models.keyedvectors.Vocab at 0x1dcd328d7b8>,\n",
       " 'tire': <gensim.models.keyedvectors.Vocab at 0x1dcd328d7f0>,\n",
       " 'comed': <gensim.models.keyedvectors.Vocab at 0x1dcd328d828>,\n",
       " 'techniqu': <gensim.models.keyedvectors.Vocab at 0x1dcd328d860>,\n",
       " 'consist': <gensim.models.keyedvectors.Vocab at 0x1dcd328d898>,\n",
       " 'break': <gensim.models.keyedvectors.Vocab at 0x1dcd328d8d0>,\n",
       " 'fourth': <gensim.models.keyedvectors.Vocab at 0x1dcd328d908>,\n",
       " 'talk': <gensim.models.keyedvectors.Vocab at 0x1dcd328d940>,\n",
       " 'audienc': <gensim.models.keyedvectors.Vocab at 0x1dcd328d978>,\n",
       " 'pointless': <gensim.models.keyedvectors.Vocab at 0x1dcd328d9b0>,\n",
       " 'hot': <gensim.models.keyedvectors.Vocab at 0x1dcd328d9e8>,\n",
       " 'waiter': <gensim.models.keyedvectors.Vocab at 0x1dcd328da20>,\n",
       " 'ship': <gensim.models.keyedvectors.Vocab at 0x1dcd328da58>,\n",
       " 'success': <gensim.models.keyedvectors.Vocab at 0x1dcd328da90>,\n",
       " 'comedian': <gensim.models.keyedvectors.Vocab at 0x1dcd328dac8>,\n",
       " 'order': <gensim.models.keyedvectors.Vocab at 0x1dcd328db00>,\n",
       " 'women': <gensim.models.keyedvectors.Vocab at 0x1dcd328db38>,\n",
       " 'resid': <gensim.models.keyedvectors.Vocab at 0x1dcd328db70>,\n",
       " 'shameless': <gensim.models.keyedvectors.Vocab at 0x1dcd328dba8>,\n",
       " 'due': <gensim.models.keyedvectors.Vocab at 0x1dcd328dbe0>,\n",
       " 'unfathom': <gensim.models.keyedvectors.Vocab at 0x1dcd328dc18>,\n",
       " 'opposit': <gensim.models.keyedvectors.Vocab at 0x1dcd328dc50>,\n",
       " 'gender': <gensim.models.keyedvectors.Vocab at 0x1dcd328dc88>,\n",
       " 'presum': <gensim.models.keyedvectors.Vocab at 0x1dcd328dcc0>,\n",
       " 'lost': <gensim.models.keyedvectors.Vocab at 0x1dcd328dcf8>,\n",
       " 'sea': <gensim.models.keyedvectors.Vocab at 0x1dcd328dd30>,\n",
       " 'rather': <gensim.models.keyedvectors.Vocab at 0x1dcd328dd68>,\n",
       " 'lock': <gensim.models.keyedvectors.Vocab at 0x1dcd328dda0>,\n",
       " 'bathroom': <gensim.models.keyedvectors.Vocab at 0x1dcd328ddd8>,\n",
       " 'perhap': <gensim.models.keyedvectors.Vocab at 0x1dcd328de10>,\n",
       " 'vomit': <gensim.models.keyedvectors.Vocab at 0x1dcd328de48>,\n",
       " 'worst': <gensim.models.keyedvectors.Vocab at 0x1dcd328de80>,\n",
       " 'refer': <gensim.models.keyedvectors.Vocab at 0x1dcd328deb8>,\n",
       " 'mad': <gensim.models.keyedvectors.Vocab at 0x1dcd328def0>,\n",
       " 'max': <gensim.models.keyedvectors.Vocab at 0x1dcd328df28>,\n",
       " 'ii': <gensim.models.keyedvectors.Vocab at 0x1dcd328df60>,\n",
       " 'wild': <gensim.models.keyedvectors.Vocab at 0x1dcd328df98>,\n",
       " 'tribut': <gensim.models.keyedvectors.Vocab at 0x1dcd328dfd0>,\n",
       " 'peter': <gensim.models.keyedvectors.Vocab at 0x1dcd3290048>,\n",
       " 'lorr': <gensim.models.keyedvectors.Vocab at 0x1dcd3290080>,\n",
       " 'masterpiec': <gensim.models.keyedvectors.Vocab at 0x1dcd32900b8>,\n",
       " 'll': <gensim.models.keyedvectors.Vocab at 0x1dcd32900f0>,\n",
       " 'futur': <gensim.models.keyedvectors.Vocab at 0x1dcd3290128>,\n",
       " 'happen': <gensim.models.keyedvectors.Vocab at 0x1dcd3290160>,\n",
       " 'armi': <gensim.models.keyedvectors.Vocab at 0x1dcd3290198>,\n",
       " 'eastern': <gensim.models.keyedvectors.Vocab at 0x1dcd32901d0>,\n",
       " 'european': <gensim.models.keyedvectors.Vocab at 0x1dcd3290208>,\n",
       " 'commi': <gensim.models.keyedvectors.Vocab at 0x1dcd3290240>,\n",
       " 'gather': <gensim.models.keyedvectors.Vocab at 0x1dcd3290278>,\n",
       " 'forc': <gensim.models.keyedvectors.Vocab at 0x1dcd32902b0>,\n",
       " 'south': <gensim.models.keyedvectors.Vocab at 0x1dcd32902e8>,\n",
       " 'border': <gensim.models.keyedvectors.Vocab at 0x1dcd3290320>,\n",
       " 'gari': <gensim.models.keyedvectors.Vocab at 0x1dcd3290358>,\n",
       " 'busey': <gensim.models.keyedvectors.Vocab at 0x1dcd3290390>,\n",
       " 'kick': <gensim.models.keyedvectors.Vocab at 0x1dcd32903c8>,\n",
       " 'butt': <gensim.models.keyedvectors.Vocab at 0x1dcd3290400>,\n",
       " 'laughabl': <gensim.models.keyedvectors.Vocab at 0x1dcd3290438>,\n",
       " 'exampl': <gensim.models.keyedvectors.Vocab at 0x1dcd3290470>,\n",
       " 'reagan': <gensim.models.keyedvectors.Vocab at 0x1dcd32904a8>,\n",
       " 'era': <gensim.models.keyedvectors.Vocab at 0x1dcd32904e0>,\n",
       " 'decent': <gensim.models.keyedvectors.Vocab at 0x1dcd3290518>,\n",
       " 'support': <gensim.models.keyedvectors.Vocab at 0x1dcd3290550>,\n",
       " 'cast': <gensim.models.keyedvectors.Vocab at 0x1dcd3290588>,\n",
       " 'head': <gensim.models.keyedvectors.Vocab at 0x1dcd32905c0>,\n",
       " 'l': <gensim.models.keyedvectors.Vocab at 0x1dcd32905f8>,\n",
       " 'q': <gensim.models.keyedvectors.Vocab at 0x1dcd3290630>,\n",
       " 'jone': <gensim.models.keyedvectors.Vocab at 0x1dcd3290668>,\n",
       " 'although': <gensim.models.keyedvectors.Vocab at 0x1dcd32906a0>,\n",
       " 'remak': <gensim.models.keyedvectors.Vocab at 0x1dcd32906d8>,\n",
       " 'far': <gensim.models.keyedvectors.Vocab at 0x1dcd3290710>,\n",
       " 'comment': <gensim.models.keyedvectors.Vocab at 0x1dcd3290748>,\n",
       " 'opinion': <gensim.models.keyedvectors.Vocab at 0x1dcd3290780>,\n",
       " 'pure': <gensim.models.keyedvectors.Vocab at 0x1dcd32907b8>,\n",
       " 'comparison': <gensim.models.keyedvectors.Vocab at 0x1dcd32907f0>,\n",
       " 'written': <gensim.models.keyedvectors.Vocab at 0x1dcd3290828>,\n",
       " 'capot': <gensim.models.keyedvectors.Vocab at 0x1dcd3290860>,\n",
       " 'word': <gensim.models.keyedvectors.Vocab at 0x1dcd3290898>,\n",
       " 'anthoni': <gensim.models.keyedvectors.Vocab at 0x1dcd32908d0>,\n",
       " 'edward': <gensim.models.keyedvectors.Vocab at 0x1dcd3290908>,\n",
       " 'eric': <gensim.models.keyedvectors.Vocab at 0x1dcd3290940>,\n",
       " 'superb': <gensim.models.keyedvectors.Vocab at 0x1dcd3290978>,\n",
       " 'each': <gensim.models.keyedvectors.Vocab at 0x1dcd32909b0>,\n",
       " 'case': <gensim.models.keyedvectors.Vocab at 0x1dcd32909e8>,\n",
       " 'alway': <gensim.models.keyedvectors.Vocab at 0x1dcd3290a20>,\n",
       " 'wonder': <gensim.models.keyedvectors.Vocab at 0x1dcd3290a58>,\n",
       " 'number': <gensim.models.keyedvectors.Vocab at 0x1dcd3290a90>,\n",
       " 'famous': <gensim.models.keyedvectors.Vocab at 0x1dcd3290ac8>,\n",
       " 'brother': <gensim.models.keyedvectors.Vocab at 0x1dcd3290b00>,\n",
       " 'certainti': <gensim.models.keyedvectors.Vocab at 0x1dcd3290b38>,\n",
       " 'top': <gensim.models.keyedvectors.Vocab at 0x1dcd3290b70>,\n",
       " 'profess': <gensim.models.keyedvectors.Vocab at 0x1dcd3290ba8>,\n",
       " 'recommend': <gensim.models.keyedvectors.Vocab at 0x1dcd3290be0>,\n",
       " 'dvd': <gensim.models.keyedvectors.Vocab at 0x1dcd3290c18>,\n",
       " 'shelv': <gensim.models.keyedvectors.Vocab at 0x1dcd3290c50>,\n",
       " 'harvey': <gensim.models.keyedvectors.Vocab at 0x1dcd3290c88>,\n",
       " 'light': <gensim.models.keyedvectors.Vocab at 0x1dcd3290cc0>,\n",
       " 'candl': <gensim.models.keyedvectors.Vocab at 0x1dcd3290cf8>,\n",
       " 'anchor': <gensim.models.keyedvectors.Vocab at 0x1dcd3290d30>,\n",
       " 'spall': <gensim.models.keyedvectors.Vocab at 0x1dcd3290d68>,\n",
       " 'while': <gensim.models.keyedvectors.Vocab at 0x1dcd3290da0>,\n",
       " 'titular': <gensim.models.keyedvectors.Vocab at 0x1dcd3290dd8>,\n",
       " 'tight': <gensim.models.keyedvectors.Vocab at 0x1dcd3290e10>,\n",
       " 'teacher': <gensim.models.keyedvectors.Vocab at 0x1dcd3290e48>,\n",
       " 'will': <gensim.models.keyedvectors.Vocab at 0x1dcd3290e80>,\n",
       " 'catharsi': <gensim.models.keyedvectors.Vocab at 0x1dcd3290eb8>,\n",
       " 'deep': <gensim.models.keyedvectors.Vocab at 0x1dcd3290ef0>,\n",
       " 'how': <gensim.models.keyedvectors.Vocab at 0x1dcd3290f28>,\n",
       " 'emot': <gensim.models.keyedvectors.Vocab at 0x1dcd3290f60>,\n",
       " 'unveil': <gensim.models.keyedvectors.Vocab at 0x1dcd3290f98>,\n",
       " 'surpris': <gensim.models.keyedvectors.Vocab at 0x1dcd3290fd0>,\n",
       " 'rang': <gensim.models.keyedvectors.Vocab at 0x1dcd3294048>,\n",
       " 'convey': <gensim.models.keyedvectors.Vocab at 0x1dcd3294080>,\n",
       " 'move': <gensim.models.keyedvectors.Vocab at 0x1dcd32940b8>,\n",
       " 'portray': <gensim.models.keyedvectors.Vocab at 0x1dcd32940f0>,\n",
       " 'mike': <gensim.models.keyedvectors.Vocab at 0x1dcd3294128>,\n",
       " 'leigh': <gensim.models.keyedvectors.Vocab at 0x1dcd3294160>,\n",
       " 'expect': <gensim.models.keyedvectors.Vocab at 0x1dcd3294198>,\n",
       " 'school': <gensim.models.keyedvectors.Vocab at 0x1dcd32941d0>,\n",
       " 'bus': <gensim.models.keyedvectors.Vocab at 0x1dcd3294208>,\n",
       " 'trip': <gensim.models.keyedvectors.Vocab at 0x1dcd3294240>,\n",
       " 'comic': <gensim.models.keyedvectors.Vocab at 0x1dcd3294278>,\n",
       " 'purpos': <gensim.models.keyedvectors.Vocab at 0x1dcd32942b0>,\n",
       " 'simpson': <gensim.models.keyedvectors.Vocab at 0x1dcd32942e8>,\n",
       " 'central': <gensim.models.keyedvectors.Vocab at 0x1dcd3294320>,\n",
       " 'situat': <gensim.models.keyedvectors.Vocab at 0x1dcd3294358>,\n",
       " 'visit': <gensim.models.keyedvectors.Vocab at 0x1dcd3294390>,\n",
       " 'brook': <gensim.models.keyedvectors.Vocab at 0x1dcd32943c8>,\n",
       " 'contain': <gensim.models.keyedvectors.Vocab at 0x1dcd3294400>,\n",
       " 'dramat': <gensim.models.keyedvectors.Vocab at 0x1dcd3294438>,\n",
       " 'almost': <gensim.models.keyedvectors.Vocab at 0x1dcd3294470>,\n",
       " 'formal': <gensim.models.keyedvectors.Vocab at 0x1dcd32944a8>,\n",
       " 'divid': <gensim.models.keyedvectors.Vocab at 0x1dcd32944e0>,\n",
       " 'introduc': <gensim.models.keyedvectors.Vocab at 0x1dcd3294518>,\n",
       " 'urban': <gensim.models.keyedvectors.Vocab at 0x1dcd3294550>,\n",
       " 'british': <gensim.models.keyedvectors.Vocab at 0x1dcd3294588>,\n",
       " 'racial': <gensim.models.keyedvectors.Vocab at 0x1dcd32945c0>,\n",
       " 'religi': <gensim.models.keyedvectors.Vocab at 0x1dcd32945f8>,\n",
       " 'divers': <gensim.models.keyedvectors.Vocab at 0x1dcd3294630>,\n",
       " 'uniform': <gensim.models.keyedvectors.Vocab at 0x1dcd3294668>,\n",
       " 'tell': <gensim.models.keyedvectors.Vocab at 0x1dcd32946a0>,\n",
       " 'privat': <gensim.models.keyedvectors.Vocab at 0x1dcd32946d8>,\n",
       " 'public': <gensim.models.keyedvectors.Vocab at 0x1dcd3294710>,\n",
       " 'rap': <gensim.models.keyedvectors.Vocab at 0x1dcd3294748>,\n",
       " 'asian': <gensim.models.keyedvectors.Vocab at 0x1dcd3294780>,\n",
       " 'muslim': <gensim.models.keyedvectors.Vocab at 0x1dcd32947b8>,\n",
       " 'bulli': <gensim.models.keyedvectors.Vocab at 0x1dcd32947f0>,\n",
       " 'mean': <gensim.models.keyedvectors.Vocab at 0x1dcd3294828>,\n",
       " 'individu': <gensim.models.keyedvectors.Vocab at 0x1dcd3294860>,\n",
       " 'whom': <gensim.models.keyedvectors.Vocab at 0x1dcd3294898>,\n",
       " 'recogn': <gensim.models.keyedvectors.Vocab at 0x1dcd32948d0>,\n",
       " 'were': <gensim.models.keyedvectors.Vocab at 0x1dcd3294908>,\n",
       " 'exuber': <gensim.models.keyedvectors.Vocab at 0x1dcd3294940>,\n",
       " 'junior': <gensim.models.keyedvectors.Vocab at 0x1dcd3294978>,\n",
       " 'social': <gensim.models.keyedvectors.Vocab at 0x1dcd32949b0>,\n",
       " 'pressur': <gensim.models.keyedvectors.Vocab at 0x1dcd32949e8>,\n",
       " 'warmth': <gensim.models.keyedvectors.Vocab at 0x1dcd3294a20>,\n",
       " 'supervisor': <gensim.models.keyedvectors.Vocab at 0x1dcd3294a58>,\n",
       " 'role': <gensim.models.keyedvectors.Vocab at 0x1dcd3294a90>,\n",
       " 'transform': <gensim.models.keyedvectors.Vocab at 0x1dcd3294ac8>,\n",
       " 'crisi': <gensim.models.keyedvectors.Vocab at 0x1dcd3294b00>,\n",
       " 'remain': <gensim.models.keyedvectors.Vocab at 0x1dcd3294b38>,\n",
       " 'amus': <gensim.models.keyedvectors.Vocab at 0x1dcd3294b70>,\n",
       " 'oblivi': <gensim.models.keyedvectors.Vocab at 0x1dcd3294ba8>,\n",
       " 'ben': <gensim.models.keyedvectors.Vocab at 0x1dcd3294be0>,\n",
       " 'mile': <gensim.models.keyedvectors.Vocab at 0x1dcd3294c18>,\n",
       " 'coupl': <gensim.models.keyedvectors.Vocab at 0x1dcd3294c50>,\n",
       " 'spoon': <gensim.models.keyedvectors.Vocab at 0x1dcd3294c88>,\n",
       " 'fed': <gensim.models.keyedvectors.Vocab at 0x1dcd3294cc0>,\n",
       " 'didact': <gensim.models.keyedvectors.Vocab at 0x1dcd3294cf8>,\n",
       " 'lesson': <gensim.models.keyedvectors.Vocab at 0x1dcd3294d30>,\n",
       " 'toler': <gensim.models.keyedvectors.Vocab at 0x1dcd3294d68>,\n",
       " 'bbc': <gensim.models.keyedvectors.Vocab at 0x1dcd3294da0>,\n",
       " 'england': <gensim.models.keyedvectors.Vocab at 0x1dcd3294dd8>,\n",
       " 'easter': <gensim.models.keyedvectors.Vocab at 0x1dcd3294e10>,\n",
       " 'america': <gensim.models.keyedvectors.Vocab at 0x1dcd3294e48>,\n",
       " 'u': <gensim.models.keyedvectors.Vocab at 0x1dcd3294e80>,\n",
       " 'christma': <gensim.models.keyedvectors.Vocab at 0x1dcd3294eb8>,\n",
       " 'summer': <gensim.models.keyedvectors.Vocab at 0x1dcd3294ef0>,\n",
       " 'key': <gensim.models.keyedvectors.Vocab at 0x1dcd3294f28>,\n",
       " 'redempt': <gensim.models.keyedvectors.Vocab at 0x1dcd3294f60>,\n",
       " 'week': <gensim.models.keyedvectors.Vocab at 0x1dcd3294f98>,\n",
       " 'preach': <gensim.models.keyedvectors.Vocab at 0x1dcd3294fd0>,\n",
       " 'touch': <gensim.models.keyedvectors.Vocab at 0x1dcd3297048>,\n",
       " 'reach': <gensim.models.keyedvectors.Vocab at 0x1dcd3297080>,\n",
       " 'unexpect': <gensim.models.keyedvectors.Vocab at 0x1dcd32970b8>,\n",
       " 'unfortun': <gensim.models.keyedvectors.Vocab at 0x1dcd32970f0>,\n",
       " 'saw': <gensim.models.keyedvectors.Vocab at 0x1dcd3297128>,\n",
       " 'intens': <gensim.models.keyedvectors.Vocab at 0x1dcd3297160>,\n",
       " 'interrupt': <gensim.models.keyedvectors.Vocab at 0x1dcd3297198>,\n",
       " 'commerci': <gensim.models.keyedvectors.Vocab at 0x1dcd32971d0>,\n",
       " 'heavi': <gensim.models.keyedvectors.Vocab at 0x1dcd3297208>,\n",
       " 'hand': <gensim.models.keyedvectors.Vocab at 0x1dcd3297240>,\n",
       " 'point': <gensim.models.keyedvectors.Vocab at 0x1dcd3297278>,\n",
       " 'road': <gensim.models.keyedvectors.Vocab at 0x1dcd32972b0>,\n",
       " ...}"
      ]
     },
     "execution_count": 39,
     "metadata": {},
     "output_type": "execute_result"
    }
   ],
   "source": [
    "model.wv.vocab"
   ]
  },
  {
   "cell_type": "markdown",
   "metadata": {},
   "source": [
    "## Word2Vec으로 벡터화 한 단어를 t-SNE를 통해 시각화"
   ]
  },
  {
   "cell_type": "code",
   "execution_count": 40,
   "metadata": {},
   "outputs": [
    {
     "name": "stderr",
     "output_type": "stream",
     "text": [
      "2018-07-12 14:48:41,046 : INFO : loading Doc2Vec object from 300features_40minwords_10text\n",
      "2018-07-12 14:48:41,884 : INFO : loading wv recursively from 300features_40minwords_10text.wv.* with mmap=None\n",
      "2018-07-12 14:48:41,884 : INFO : setting ignored attribute vectors_norm to None\n",
      "2018-07-12 14:48:41,885 : INFO : loading vocabulary recursively from 300features_40minwords_10text.vocabulary.* with mmap=None\n",
      "2018-07-12 14:48:41,885 : INFO : loading trainables recursively from 300features_40minwords_10text.trainables.* with mmap=None\n",
      "2018-07-12 14:48:41,886 : INFO : setting ignored attribute cum_table to None\n",
      "2018-07-12 14:48:41,887 : INFO : loaded 300features_40minwords_10text\n"
     ]
    },
    {
     "name": "stdout",
     "output_type": "stream",
     "text": [
      "11986\n",
      "[ 0.06817568 -0.0627908   0.10305904  0.17653896  0.06520782  0.03647744\n",
      "  0.0334437  -0.02854502 -0.02409054 -0.09673022]\n"
     ]
    }
   ],
   "source": [
    "# 참고 https://stackoverflow.com/questions/43776572/visualise-word2vec-generated-from-gensim\n",
    "from sklearn.manifold import TSNE\n",
    "import matplotlib as mpl\n",
    "import matplotlib.pyplot as plt\n",
    "import gensim\n",
    "import gensim.models as g\n",
    "\n",
    "# 그래프에서 마이너스 폰트 깨지는 문제에 대한 대처\n",
    "mpl.rcParams['axes.unicode_minus']\n",
    "\n",
    "model_name = '300features_40minwords_10text'\n",
    "model = g.Doc2Vec.load(model_name)\n",
    "\n",
    "vocab = list(model.wv.vocab)\n",
    "X = model[vocab]\n",
    "\n",
    "print(len(X))\n",
    "print(X[0][:10])\n",
    "tsne = TSNE(n_components=2)\n",
    "\n",
    "# 100개의 단어에 대해서만 시각화\n",
    "X_tsne = tsne.fit_transform(X[:100, :])\n",
    "#X_tsne = tsne.fit_transform(X)"
   ]
  },
  {
   "cell_type": "code",
   "execution_count": 41,
   "metadata": {},
   "outputs": [
    {
     "data": {
      "text/plain": [
       "(100, 2)"
      ]
     },
     "execution_count": 41,
     "metadata": {},
     "output_type": "execute_result"
    }
   ],
   "source": [
    "df = pd.DataFrame(X_tsne, index=vocab[:100], columns=['x', 'y'])\n",
    "df.shape"
   ]
  },
  {
   "cell_type": "code",
   "execution_count": 42,
   "metadata": {},
   "outputs": [
    {
     "data": {
      "text/html": [
       "<div>\n",
       "<style scoped>\n",
       "    .dataframe tbody tr th:only-of-type {\n",
       "        vertical-align: middle;\n",
       "    }\n",
       "\n",
       "    .dataframe tbody tr th {\n",
       "        vertical-align: top;\n",
       "    }\n",
       "\n",
       "    .dataframe thead th {\n",
       "        text-align: right;\n",
       "    }\n",
       "</style>\n",
       "<table border=\"1\" class=\"dataframe\">\n",
       "  <thead>\n",
       "    <tr style=\"text-align: right;\">\n",
       "      <th></th>\n",
       "      <th>x</th>\n",
       "      <th>y</th>\n",
       "    </tr>\n",
       "  </thead>\n",
       "  <tbody>\n",
       "    <tr>\n",
       "      <th>with</th>\n",
       "      <td>-0.664914</td>\n",
       "      <td>-8.904694</td>\n",
       "    </tr>\n",
       "    <tr>\n",
       "      <th>all</th>\n",
       "      <td>2.822062</td>\n",
       "      <td>-6.498104</td>\n",
       "    </tr>\n",
       "    <tr>\n",
       "      <th>this</th>\n",
       "      <td>1.592419</td>\n",
       "      <td>-2.156021</td>\n",
       "    </tr>\n",
       "    <tr>\n",
       "      <th>stuff</th>\n",
       "      <td>0.578717</td>\n",
       "      <td>2.018608</td>\n",
       "    </tr>\n",
       "    <tr>\n",
       "      <th>go</th>\n",
       "      <td>-2.354193</td>\n",
       "      <td>1.413344</td>\n",
       "    </tr>\n",
       "    <tr>\n",
       "      <th>down</th>\n",
       "      <td>-4.152179</td>\n",
       "      <td>-9.234838</td>\n",
       "    </tr>\n",
       "    <tr>\n",
       "      <th>at</th>\n",
       "      <td>-2.677308</td>\n",
       "      <td>-10.813730</td>\n",
       "    </tr>\n",
       "    <tr>\n",
       "      <th>the</th>\n",
       "      <td>2.533052</td>\n",
       "      <td>-8.018140</td>\n",
       "    </tr>\n",
       "    <tr>\n",
       "      <th>moment</th>\n",
       "      <td>8.070817</td>\n",
       "      <td>-4.192661</td>\n",
       "    </tr>\n",
       "    <tr>\n",
       "      <th>mj</th>\n",
       "      <td>1.622796</td>\n",
       "      <td>8.195883</td>\n",
       "    </tr>\n",
       "  </tbody>\n",
       "</table>\n",
       "</div>"
      ],
      "text/plain": [
       "               x          y\n",
       "with   -0.664914  -8.904694\n",
       "all     2.822062  -6.498104\n",
       "this    1.592419  -2.156021\n",
       "stuff   0.578717   2.018608\n",
       "go     -2.354193   1.413344\n",
       "down   -4.152179  -9.234838\n",
       "at     -2.677308 -10.813730\n",
       "the     2.533052  -8.018140\n",
       "moment  8.070817  -4.192661\n",
       "mj      1.622796   8.195883"
      ]
     },
     "execution_count": 42,
     "metadata": {},
     "output_type": "execute_result"
    }
   ],
   "source": [
    "df.head(10)"
   ]
  },
  {
   "cell_type": "code",
   "execution_count": 43,
   "metadata": {},
   "outputs": [
    {
     "data": {
      "image/png": "[encoded data removed]",
      "text/plain": [
       "<Figure size 2880x1440 with 1 Axes>"
      ]
     },
     "metadata": {},
     "output_type": "display_data"
    }
   ],
   "source": [
    "fig = plt.figure()\n",
    "fig.set_size_inches(40,20)\n",
    "ax = fig.add_subplot(1, 1, 1)\n",
    "\n",
    "ax.scatter(df['x'], df['y'])\n",
    "\n",
    "for word, pos in df.iterrows():\n",
    "    ax.annotate(word, pos, fontsize=30)\n",
    "plt.show()"
   ]
  },
  {
   "cell_type": "code",
   "execution_count": 45,
   "metadata": {},
   "outputs": [
    {
     "data": {
      "text/plain": [
       "['the', 'and', 'a', 'of', 'to', 'is', 'it', 'in', 'i', 'this']"
      ]
     },
     "execution_count": 45,
     "metadata": {},
     "output_type": "execute_result"
    }
   ],
   "source": [
    "model.wv.index2word[:10]"
   ]
  },
  {
   "cell_type": "code",
   "execution_count": 72,
   "metadata": {},
   "outputs": [
    {
     "data": {
      "text/plain": [
       "array([ 0.07275347, -0.01586343,  0.00909527,  0.06193497,  0.072325  ,\n",
       "       -0.06252164,  0.06214468, -0.02324742, -0.07018542, -0.0319511 ],\n",
       "      dtype=float32)"
      ]
     },
     "execution_count": 72,
     "metadata": {},
     "output_type": "execute_result"
    }
   ],
   "source": [
    "model['and'][:10]"
   ]
  },
  {
   "cell_type": "code",
   "execution_count": 46,
   "metadata": {},
   "outputs": [],
   "source": [
    "import numpy as np\n",
    "\n",
    "def makeFeatureVec(words, model, num_features):\n",
    "    \"\"\"\n",
    "    주어진 문장에서 단어 벡터의 평균을 구하는 함수\n",
    "    \"\"\"\n",
    "    # 속도를 위해 0으로 채운 배열로 초기화 한다.\n",
    "    featureVec = np.zeros((num_features,), dtype=\"float32\")\n",
    "    \n",
    "    nwords = 0\n",
    "    # index2word는 모델의 사전에 있는 단어명을 담은 리스트이다.\n",
    "    # 속도를 위해 set 형태로 초기화한다.\n",
    "    index2word_set = set(model.wv.index2word)\n",
    "    # 루프를 돌며 모델 사전에 포함이 되는 단어라면 피처에 추가한다\n",
    "    for word in words:\n",
    "        if word in index2word_set:\n",
    "            nwords = nwords + 1.\n",
    "            featureVec = np.add(featureVec, model[word])\n",
    "    # 결과를 단어수로 나누어 평균을 구한다.\n",
    "    featureVec = np.divide(featureVec, nwords)\n",
    "    return featureVec"
   ]
  },
  {
   "cell_type": "code",
   "execution_count": 48,
   "metadata": {},
   "outputs": [],
   "source": [
    "def getAvgFeatureVecs(reviews, model, num_features):\n",
    "    # 리뷰 단어 목록의 각각에 대한 평균 feature 벡터를 계산하고\n",
    "    # 20numpy 배열을 반환한다.\n",
    "    \n",
    "    # 카운터를 초기화한다.\n",
    "    counter = 0\n",
    "    # 속도를 위해 20 넘파이 배열을 미리 할당한다.\n",
    "    reviewFeatureVecs = np.zeros(\n",
    "        (len(reviews), num_features), dtype=\"float32\")\n",
    "    \n",
    "    for review in reviews:\n",
    "        # 매 1000개 리뷰마다 상태를 출력\n",
    "        if counter % 1000. == 0.:\n",
    "            print(\"Review %d of %d\" % (counter, len(reviews)))\n",
    "        # 평균 피처 벡터를 만들기 위해 위에서 정의한 함수를 호출한다.\n",
    "        reviewFeatureVecs[int(counter)] = makeFeatureVec(review, model,\\\n",
    "                                                        num_features)\n",
    "        # 카운터를 증가시킨다.\n",
    "        counter = counter + 1\n",
    "    return reviewFeatureVecs"
   ]
  },
  {
   "cell_type": "code",
   "execution_count": 55,
   "metadata": {},
   "outputs": [],
   "source": [
    "def getCleanReviews(reviews):\n",
    "    clean_reviews = []\n",
    "    clean_reviews = KaggleWord2VecUtility.apply_by_multiprocessing(\\\n",
    "                            reviews[\"review\"], KaggleWord2VecUtility.review_to_wordlist,\\\n",
    "                            workers=4)\n",
    "    return clean_reviews"
   ]
  },
  {
   "cell_type": "code",
   "execution_count": 56,
   "metadata": {},
   "outputs": [
    {
     "name": "stdout",
     "output_type": "stream",
     "text": [
      "Review 0 of 25000\n",
      "Review 1000 of 25000\n",
      "Review 2000 of 25000\n",
      "Review 3000 of 25000\n",
      "Review 4000 of 25000\n",
      "Review 5000 of 25000\n",
      "Review 6000 of 25000\n",
      "Review 7000 of 25000\n",
      "Review 8000 of 25000\n",
      "Review 9000 of 25000\n",
      "Review 10000 of 25000\n",
      "Review 11000 of 25000\n",
      "Review 12000 of 25000\n",
      "Review 13000 of 25000\n",
      "Review 14000 of 25000\n",
      "Review 15000 of 25000\n",
      "Review 16000 of 25000\n",
      "Review 17000 of 25000\n",
      "Review 18000 of 25000\n",
      "Review 19000 of 25000\n",
      "Review 20000 of 25000\n",
      "Review 21000 of 25000\n",
      "Review 22000 of 25000\n",
      "Review 23000 of 25000\n",
      "Review 24000 of 25000\n",
      "Wall time: 1min 30s\n"
     ]
    }
   ],
   "source": [
    "%time trainDataVecs = getAvgFeatureVecs(\\\n",
    "            getCleanReviews(train), model, num_features)"
   ]
  },
  {
   "cell_type": "code",
   "execution_count": 57,
   "metadata": {},
   "outputs": [
    {
     "name": "stdout",
     "output_type": "stream",
     "text": [
      "Review 0 of 25000\n",
      "Review 1000 of 25000\n",
      "Review 2000 of 25000\n",
      "Review 3000 of 25000\n",
      "Review 4000 of 25000\n",
      "Review 5000 of 25000\n",
      "Review 6000 of 25000\n",
      "Review 7000 of 25000\n",
      "Review 8000 of 25000\n",
      "Review 9000 of 25000\n",
      "Review 10000 of 25000\n",
      "Review 11000 of 25000\n",
      "Review 12000 of 25000\n",
      "Review 13000 of 25000\n",
      "Review 14000 of 25000\n",
      "Review 15000 of 25000\n",
      "Review 16000 of 25000\n",
      "Review 17000 of 25000\n",
      "Review 18000 of 25000\n",
      "Review 19000 of 25000\n",
      "Review 20000 of 25000\n",
      "Review 21000 of 25000\n",
      "Review 22000 of 25000\n",
      "Review 23000 of 25000\n",
      "Review 24000 of 25000\n",
      "Wall time: 1min 28s\n"
     ]
    }
   ],
   "source": [
    "%time testDataVecs = getAvgFeatureVecs(\\\n",
    "            getCleanReviews(test), model, num_features)"
   ]
  },
  {
   "cell_type": "code",
   "execution_count": 75,
   "metadata": {},
   "outputs": [
    {
     "data": {
      "text/plain": [
       "array([ 0.01089144,  0.00400976, -0.02238488, -0.03843417,  0.00345981,\n",
       "       -0.02583115,  0.02575841, -0.00363538, -0.01238632, -0.02488666],\n",
       "      dtype=float32)"
      ]
     },
     "execution_count": 75,
     "metadata": {},
     "output_type": "execute_result"
    }
   ],
   "source": [
    "testDataVecs[0][:10]"
   ]
  },
  {
   "cell_type": "code",
   "execution_count": 59,
   "metadata": {},
   "outputs": [],
   "source": [
    "from sklearn.ensemble import RandomForestClassifier\n",
    "\n",
    "forest = RandomForestClassifier(\n",
    "    n_estimators=100, n_jobs=-1, random_state=2018)"
   ]
  },
  {
   "cell_type": "code",
   "execution_count": 61,
   "metadata": {},
   "outputs": [
    {
     "name": "stdout",
     "output_type": "stream",
     "text": [
      "Wall time: 15.2 s\n"
     ]
    }
   ],
   "source": [
    "%time forest = forest.fit(trainDataVecs, train[\"sentiment\"])"
   ]
  },
  {
   "cell_type": "code",
   "execution_count": 62,
   "metadata": {},
   "outputs": [
    {
     "name": "stdout",
     "output_type": "stream",
     "text": [
      "Wall time: 2min 40s\n"
     ]
    }
   ],
   "source": [
    "from sklearn.model_selection import cross_val_score\n",
    "%time score = np.mean(cross_val_score(\\\n",
    "        forest, trainDataVecs,\\\n",
    "        train[\"sentiment\"], cv=10, scoring='roc_auc'))"
   ]
  },
  {
   "cell_type": "code",
   "execution_count": 63,
   "metadata": {},
   "outputs": [
    {
     "data": {
      "text/plain": [
       "0.904784416"
      ]
     },
     "execution_count": 63,
     "metadata": {},
     "output_type": "execute_result"
    }
   ],
   "source": [
    "score"
   ]
  },
  {
   "cell_type": "code",
   "execution_count": 64,
   "metadata": {},
   "outputs": [],
   "source": [
    "result = forest.predict(testDataVecs)"
   ]
  },
  {
   "cell_type": "code",
   "execution_count": 65,
   "metadata": {},
   "outputs": [],
   "source": [
    "output = pd.DataFrame(data={\"id\":test[\"id\"], \"sentiment\":result})\n",
    "output.to_csv('./data/Word2Vec_AverageVectors_{0:.5f}.csv'.format(score),\n",
    "             index=False, quoting=3)"
   ]
  },
  {
   "cell_type": "markdown",
   "metadata": {},
   "source": [
    "* 300features_40minwords_10text 일 때 0.90709436799999987\n",
    "* 300features_50minwords_20text 일 때 0.86815798399999999"
   ]
  },
  {
   "cell_type": "code",
   "execution_count": 66,
   "metadata": {},
   "outputs": [
    {
     "name": "stdout",
     "output_type": "stream",
     "text": [
      "278\n"
     ]
    },
    {
     "data": {
      "text/plain": [
       "0    12639\n",
       "1    12361\n",
       "Name: sentiment, dtype: int64"
      ]
     },
     "execution_count": 66,
     "metadata": {},
     "output_type": "execute_result"
    }
   ],
   "source": [
    "output_sentiment = output['sentiment'].value_counts()\n",
    "print(output_sentiment[0] - output_sentiment[1])\n",
    "output_sentiment"
   ]
  },
  {
   "cell_type": "code",
   "execution_count": 67,
   "metadata": {},
   "outputs": [
    {
     "data": {
      "text/plain": [
       "<matplotlib.axes._subplots.AxesSubplot at 0x1dceaff54a8>"
      ]
     },
     "execution_count": 67,
     "metadata": {},
     "output_type": "execute_result"
    },
    {
     "data": {
      "image/png": "[encoded data removed]",
      "text/plain": [
       "<Figure size 864x360 with 2 Axes>"
      ]
     },
     "metadata": {},
     "output_type": "display_data"
    }
   ],
   "source": [
    "import seaborn as sns\n",
    "%matplotlib inline\n",
    "\n",
    "fig, axes = plt.subplots(ncols=2)\n",
    "fig.set_size_inches(12,5)\n",
    "sns.countplot(train['sentiment'], ax=axes[0])\n",
    "sns.countplot(output['sentiment'], ax=axes[1])"
   ]
  },
  {
   "cell_type": "code",
   "execution_count": 69,
   "metadata": {},
   "outputs": [
    {
     "data": {
      "text/plain": [
       "0.9429065743944637"
      ]
     },
     "execution_count": 69,
     "metadata": {},
     "output_type": "execute_result"
    }
   ],
   "source": [
    "545/578"
   ]
  },
  {
   "cell_type": "code",
   "execution_count": null,
   "metadata": {},
   "outputs": [],
   "source": []
  }
 ],
 "metadata": {
  "kernelspec": {
   "display_name": "Python 3",
   "language": "python",
   "name": "python3"
  },
  "language_info": {
   "codemirror_mode": {
    "name": "ipython",
    "version": 3
   },
   "file_extension": ".py",
   "mimetype": "text/x-python",
   "name": "python",
   "nbconvert_exporter": "python",
   "pygments_lexer": "ipython3",
   "version": "3.6.5"
  }
 },
 "nbformat": 4,
 "nbformat_minor": 2
}
