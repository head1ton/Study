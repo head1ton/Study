{
 "cells": [
  {
   "cell_type": "markdown",
   "metadata": {},
   "source": [
    "# Matplotlib 한글폰트 사용하기"
   ]
  },
  {
   "cell_type": "markdown",
   "metadata": {},
   "source": [
    "<b>1. 필요한 패키지를 가져옵니다.</b>"
   ]
  },
  {
   "cell_type": "code",
   "execution_count": 8,
   "metadata": {},
   "outputs": [],
   "source": [
    "# 그래프를 노트북 안에 그리기 위해 설정\n",
    "%matplotlib inline\n",
    "\n",
    "# 필요한 패키지와 라이브러리를 가져옴\n",
    "import matplotlib as mpl\n",
    "import matplotlib.pyplot as plt\n",
    "import matplotlib.font_manager as fm\n",
    "\n",
    "# 그래프에서 마이너스 폰트 깨지는 문제에 대한 대처\n",
    "mpl.rcParams['axes.unicode_minus'] = False"
   ]
  },
  {
   "cell_type": "markdown",
   "metadata": {},
   "source": [
    "<b>2. 그래프를 그리기 위해 임의의 데이터를 만들어 줍니다.</b>"
   ]
  },
  {
   "cell_type": "code",
   "execution_count": 9,
   "metadata": {},
   "outputs": [
    {
     "data": {
      "text/plain": [
       "array([ -66, -146, -101,  -87, -170, -245, -154, -130, -195, -180, -236,\n",
       "       -228, -156, -191, -255, -225, -235, -329, -362, -293, -225, -316,\n",
       "       -315, -413, -409, -447, -385, -335, -417, -383, -296, -287, -276,\n",
       "       -368, -430, -526, -571, -665, -721, -773, -818, -864, -853, -820,\n",
       "       -726, -824, -776, -692, -783, -831], dtype=int32)"
      ]
     },
     "execution_count": 9,
     "metadata": {},
     "output_type": "execute_result"
    }
   ],
   "source": [
    "import numpy as np\n",
    "\n",
    "data = np.random.randint(-100, 100, 50).cumsum()\n",
    "data"
   ]
  },
  {
   "cell_type": "markdown",
   "metadata": {},
   "source": [
    "<b>3. 기본 폰트로 지정되었기 때문에 한글이 깨져 나옵니다.</b>"
   ]
  },
  {
   "cell_type": "code",
   "execution_count": 10,
   "metadata": {},
   "outputs": [
    {
     "data": {
      "text/plain": [
       "Text(0.5,0,'시간(분)')"
      ]
     },
     "execution_count": 10,
     "metadata": {},
     "output_type": "execute_result"
    },
    {
     "data": {
      "image/png": "[encoded data removed]",
      "text/plain": [
       "<Figure size 432x288 with 1 Axes>"
      ]
     },
     "metadata": {},
     "output_type": "display_data"
    }
   ],
   "source": [
    "plt.plot(range(50), data, 'r')\n",
    "mpl.rcParams['axes.unicode_minus'] = False\n",
    "plt.title('시간별 가격 추이')\n",
    "plt.ylabel('주식 가격')\n",
    "plt.xlabel('시간(분)')"
   ]
  },
  {
   "cell_type": "markdown",
   "metadata": {},
   "source": [
    "<b>4. 폰트를 설정해 주기에 앞서 설치 된 matplotlib의 버전과 위치정보를 가져옵니다.</b>"
   ]
  },
  {
   "cell_type": "code",
   "execution_count": 11,
   "metadata": {},
   "outputs": [
    {
     "name": "stdout",
     "output_type": "stream",
     "text": [
      "버전:  2.2.2\n",
      "설치 위치:  C:\\Users\\dhcho\\Anaconda3\\lib\\site-packages\\matplotlib\\__init__.py\n",
      "설정 위치:  C:\\Users\\dhcho\\.matplotlib\n",
      "캐시 위치:  C:\\Users\\dhcho\\.matplotlib\n"
     ]
    }
   ],
   "source": [
    "print('버전: ', mpl.__version__)\n",
    "print('설치 위치: ', mpl.__file__)\n",
    "print('설정 위치: ', mpl.get_configdir())\n",
    "print('캐시 위치: ', mpl.get_cachedir())"
   ]
  },
  {
   "cell_type": "markdown",
   "metadata": {},
   "source": [
    "<b>5. matplotlib의 위치정보를 알았으니 터미널을 이용해 해당 위치로 가봅니다.</b>"
   ]
  },
  {
   "cell_type": "code",
   "execution_count": 12,
   "metadata": {},
   "outputs": [
    {
     "name": "stdout",
     "output_type": "stream",
     "text": [
      "설정파일 위치:  C:\\Users\\dhcho\\Anaconda3\\lib\\site-packages\\matplotlib\\mpl-data\\matplotlibrc\n"
     ]
    }
   ],
   "source": [
    "print('설정파일 위치: ', mpl.matplotlib_fname())"
   ]
  },
  {
   "cell_type": "markdown",
   "metadata": {},
   "source": [
    "<b>6. 설치 된 폰트를 찍어 봅니다.</b>"
   ]
  },
  {
   "cell_type": "code",
   "execution_count": 15,
   "metadata": {},
   "outputs": [
    {
     "name": "stdout",
     "output_type": "stream",
     "text": [
      "671\n"
     ]
    }
   ],
   "source": [
    "font_list = fm.findSystemFonts(fontpaths=None, fontext='ttf')\n",
    "\n",
    "# ttf 폰트 전체 갯수\n",
    "print(len(font_list))"
   ]
  },
  {
   "cell_type": "code",
   "execution_count": 16,
   "metadata": {},
   "outputs": [
    {
     "name": "stdout",
     "output_type": "stream",
     "text": [
      "0\n"
     ]
    }
   ],
   "source": [
    "# OSX 의 설치 된 폰트를 가져오는 함수\n",
    "font_list_mac = fm.OSXInstalledFonts()\n",
    "print(len(font_list_mac))"
   ]
  },
  {
   "cell_type": "code",
   "execution_count": 17,
   "metadata": {},
   "outputs": [
    {
     "data": {
      "text/plain": [
       "['C:\\\\Windows\\\\Fonts\\\\FREESCPT.TTF',\n",
       " 'c:\\\\windows\\\\fonts\\\\dubai-light.ttf',\n",
       " 'c:\\\\windows\\\\fonts\\\\bahnschrift.ttf',\n",
       " 'C:\\\\Windows\\\\Fonts\\\\webdings.ttf',\n",
       " 'c:\\\\windows\\\\fonts\\\\palscri.ttf',\n",
       " 'C:\\\\Windows\\\\Fonts\\\\BRITANIC.TTF',\n",
       " 'c:\\\\windows\\\\fonts\\\\dubai-regular.ttf',\n",
       " 'C:\\\\Windows\\\\Fonts\\\\LTYPEO.TTF',\n",
       " 'c:\\\\windows\\\\fonts\\\\seguibl.ttf',\n",
       " 'C:\\\\Windows\\\\Fonts\\\\PER_____.TTF']"
      ]
     },
     "execution_count": 17,
     "metadata": {},
     "output_type": "execute_result"
    }
   ],
   "source": [
    "# 시스템 폰트에서 읽어온 리스트에서 상위 10개만 출력\n",
    "font_list[:10]"
   ]
  },
  {
   "cell_type": "code",
   "execution_count": 18,
   "metadata": {},
   "outputs": [
    {
     "name": "stdout",
     "output_type": "stream",
     "text": [
      "671\n"
     ]
    },
    {
     "data": {
      "text/plain": [
       "['STIXSizeOneSym',\n",
       " 'cmsy10',\n",
       " 'STIXGeneral',\n",
       " 'DejaVu Sans Mono',\n",
       " 'DejaVu Sans Mono',\n",
       " 'DejaVu Sans',\n",
       " 'STIXSizeThreeSym',\n",
       " 'STIXGeneral',\n",
       " 'DejaVu Sans',\n",
       " 'DejaVu Sans']"
      ]
     },
     "execution_count": 18,
     "metadata": {},
     "output_type": "execute_result"
    }
   ],
   "source": [
    "f = [f.name for f in fm.fontManager.ttflist]\n",
    "print(len(font_list))\n",
    "# 10개의 폰트명 만 출력\n",
    "f[:10]"
   ]
  },
  {
   "cell_type": "code",
   "execution_count": 19,
   "metadata": {},
   "outputs": [
    {
     "data": {
      "text/plain": [
       "['STIXSizeOneSym',\n",
       " 'cmsy10',\n",
       " 'STIXGeneral',\n",
       " 'DejaVu Sans Mono',\n",
       " 'DejaVu Sans Mono',\n",
       " 'DejaVu Sans',\n",
       " 'STIXSizeThreeSym',\n",
       " 'STIXGeneral',\n",
       " 'DejaVu Sans',\n",
       " 'DejaVu Sans',\n",
       " 'STIXSizeTwoSym',\n",
       " 'DejaVu Serif',\n",
       " 'STIXSizeTwoSym',\n",
       " 'DejaVu Sans',\n",
       " 'DejaVu Serif',\n",
       " 'STIXSizeThreeSym',\n",
       " 'cmmi10',\n",
       " 'cmr10',\n",
       " 'DejaVu Serif',\n",
       " 'DejaVu Sans Mono',\n",
       " 'DejaVu Serif',\n",
       " 'STIXGeneral',\n",
       " 'cmex10',\n",
       " 'STIXSizeFourSym',\n",
       " 'STIXSizeOneSym',\n",
       " 'DejaVu Serif Display',\n",
       " 'STIXNonUnicode',\n",
       " 'cmtt10',\n",
       " 'STIXGeneral',\n",
       " 'cmss10',\n",
       " 'STIXNonUnicode',\n",
       " 'DejaVu Sans Display',\n",
       " 'cmb10',\n",
       " 'STIXSizeFiveSym',\n",
       " 'STIXSizeFourSym',\n",
       " 'DejaVu Sans Mono',\n",
       " 'STIXNonUnicode',\n",
       " 'STIXNonUnicode',\n",
       " 'Impact',\n",
       " 'Calisto MT',\n",
       " 'Brush Script MT',\n",
       " 'Kunstler Script',\n",
       " 'HYGothic-Extra',\n",
       " 'Calibri',\n",
       " 'Ami R',\n",
       " 'Corbel',\n",
       " 'Segoe UI',\n",
       " 'Comic Sans MS',\n",
       " 'Berlin Sans FB',\n",
       " 'Gill Sans Ultra Bold',\n",
       " 'Constantia',\n",
       " 'Tw Cen MT',\n",
       " 'Segoe UI',\n",
       " 'Bookman Old Style',\n",
       " 'Arial',\n",
       " 'Segoe UI',\n",
       " 'HYMyeongJo-Extra',\n",
       " 'Segoe UI Emoji',\n",
       " 'Footlight MT Light',\n",
       " 'Franklin Gothic Medium Cond',\n",
       " 'Freestyle Script',\n",
       " 'Old English Text MT',\n",
       " 'Bookman Old Style',\n",
       " 'Marlett',\n",
       " 'Perpetua',\n",
       " 'Kristen ITC',\n",
       " 'Lucida Bright',\n",
       " 'HYSinMyeongJo-Medium',\n",
       " 'Niagara Engraved',\n",
       " 'Segoe UI',\n",
       " 'Dubai',\n",
       " 'Calisto MT',\n",
       " 'Bodoni MT',\n",
       " 'Constantia',\n",
       " 'Arial',\n",
       " 'Copperplate Gothic Bold',\n",
       " 'Magneto',\n",
       " 'Verdana',\n",
       " 'Trebuchet MS',\n",
       " 'Poor Richard',\n",
       " 'Perpetua',\n",
       " 'Verdana',\n",
       " 'Courier New',\n",
       " 'Lucida Fax',\n",
       " 'Bodoni MT',\n",
       " 'Constantia',\n",
       " 'Tahoma',\n",
       " 'SimSun-ExtB',\n",
       " 'Baskerville Old Face',\n",
       " 'Perpetua',\n",
       " 'Rockwell',\n",
       " 'Corbel',\n",
       " 'Garamond',\n",
       " 'Agency FB',\n",
       " 'Corbel',\n",
       " 'Candara',\n",
       " 'Ebrima',\n",
       " 'Gill Sans MT',\n",
       " 'Magneto',\n",
       " 'Eras Demi ITC',\n",
       " 'Lucida Bright',\n",
       " 'Microsoft Sans Serif',\n",
       " 'Pyunji R',\n",
       " 'Freestyle Script',\n",
       " 'Malgun Gothic',\n",
       " 'Vivaldi',\n",
       " 'Dubai',\n",
       " 'Book Antiqua',\n",
       " 'Rockwell',\n",
       " 'Century Gothic',\n",
       " 'Elephant',\n",
       " 'Tw Cen MT',\n",
       " 'Leelawadee UI',\n",
       " 'Myanmar Text',\n",
       " 'Book Antiqua',\n",
       " 'Gabriola',\n",
       " 'Georgia',\n",
       " 'Candara',\n",
       " 'Century Schoolbook',\n",
       " 'Tempus Sans ITC',\n",
       " 'Arial',\n",
       " 'Arial',\n",
       " 'Microsoft PhagsPa',\n",
       " 'Courier New',\n",
       " 'Ravie',\n",
       " 'Tw Cen MT',\n",
       " 'Arial Rounded MT Bold',\n",
       " 'Californian FB',\n",
       " 'Playbill',\n",
       " 'Trebuchet MS',\n",
       " 'Leelawadee',\n",
       " 'Times New Roman',\n",
       " 'Mistral',\n",
       " 'Goudy Old Style',\n",
       " 'HYGraphic-Medium',\n",
       " 'Lucida Bright',\n",
       " 'Lucida Calligraphy',\n",
       " 'Candara',\n",
       " 'Leelawadee',\n",
       " 'HYShortSamul-Medium',\n",
       " 'Playbill',\n",
       " 'Century Gothic',\n",
       " 'HoloLens MDL2 Assets',\n",
       " 'Trebuchet MS',\n",
       " 'Dubai',\n",
       " 'Century Schoolbook',\n",
       " 'Constantia',\n",
       " 'Footlight MT Light',\n",
       " 'Bodoni MT',\n",
       " 'Gadugi',\n",
       " 'Bookman Old Style',\n",
       " 'Headline R',\n",
       " 'Perpetua',\n",
       " 'Palatino Linotype',\n",
       " 'Cooper Black',\n",
       " 'Dubai',\n",
       " 'OCR A Extended',\n",
       " 'Tw Cen MT Condensed',\n",
       " 'Segoe UI Historic',\n",
       " 'Arial',\n",
       " 'Eras Demi ITC',\n",
       " 'Nirmala UI',\n",
       " 'Imprint MT Shadow',\n",
       " 'Britannic Bold',\n",
       " 'Lucida Sans',\n",
       " 'Century Gothic',\n",
       " 'Verdana',\n",
       " 'Old English Text MT',\n",
       " 'Times New Roman',\n",
       " 'Goudy Old Style',\n",
       " 'Lucida Sans',\n",
       " 'Haettenschweiler',\n",
       " 'Georgia',\n",
       " 'Chiller',\n",
       " 'Leelawadee',\n",
       " 'Perpetua Titling MT',\n",
       " 'Script MT Bold',\n",
       " 'Lucida Sans Typewriter',\n",
       " 'Informal Roman',\n",
       " 'Gill Sans Ultra Bold Condensed',\n",
       " 'Century Schoolbook',\n",
       " 'Franklin Gothic Heavy',\n",
       " 'Gill Sans MT',\n",
       " 'Elephant',\n",
       " 'HYPMokGak-Bold',\n",
       " 'Yet R',\n",
       " 'Calisto MT',\n",
       " 'Lucida Sans Typewriter',\n",
       " 'Bell MT',\n",
       " 'Segoe MDL2 Assets',\n",
       " 'Castellar',\n",
       " 'Vladimir Script',\n",
       " 'HYPost-Medium',\n",
       " 'MT Extra',\n",
       " 'Lucida Bright',\n",
       " 'Palace Script MT',\n",
       " 'Consolas',\n",
       " 'Javanese Text',\n",
       " 'Wingdings 3',\n",
       " 'Century Gothic',\n",
       " 'Georgia',\n",
       " 'Dubai',\n",
       " 'Gadugi',\n",
       " 'Algerian',\n",
       " 'HYHeadLine-Medium',\n",
       " 'Modern No. 20',\n",
       " 'Times New Roman',\n",
       " 'Microsoft Himalaya',\n",
       " 'Sylfaen',\n",
       " 'Eras Light ITC',\n",
       " 'Centaur',\n",
       " 'Rage Italic',\n",
       " 'Rockwell',\n",
       " 'Cambria',\n",
       " 'Ebrima',\n",
       " 'HYGothic-Extra',\n",
       " 'Lucida Console',\n",
       " 'HYGothic-Medium',\n",
       " 'Arial',\n",
       " 'Georgia',\n",
       " 'Segoe UI',\n",
       " 'Gill Sans MT',\n",
       " 'Franklin Gothic Book',\n",
       " 'Berlin Sans FB',\n",
       " 'Segoe UI Symbol',\n",
       " 'Franklin Gothic Demi',\n",
       " 'Lucida Handwriting',\n",
       " 'Lucida Sans Typewriter',\n",
       " 'Gill Sans Ultra Bold Condensed',\n",
       " 'Gill Sans MT',\n",
       " 'Palatino Linotype',\n",
       " 'Courier New',\n",
       " 'Vivaldi',\n",
       " 'Comic Sans MS',\n",
       " 'Rockwell Condensed',\n",
       " 'Lucida Fax',\n",
       " 'Blackadder ITC',\n",
       " 'Lucida Sans',\n",
       " 'Kunstler Script',\n",
       " 'Bodoni MT',\n",
       " 'Rockwell Condensed',\n",
       " 'Bodoni MT',\n",
       " 'Franklin Gothic Demi Cond',\n",
       " 'Wingdings',\n",
       " 'Calibri',\n",
       " 'Rockwell Extra Bold',\n",
       " 'Century Gothic',\n",
       " 'Elephant',\n",
       " 'Perpetua',\n",
       " 'Franklin Gothic Medium Cond',\n",
       " 'Gill Sans MT',\n",
       " 'Malgun Gothic',\n",
       " 'Franklin Gothic Demi Cond',\n",
       " 'Comic Sans MS',\n",
       " 'Arial',\n",
       " 'Perpetua',\n",
       " 'Lucida Bright',\n",
       " 'Bodoni MT',\n",
       " 'Corbel',\n",
       " 'Leelawadee UI',\n",
       " 'HYPMokGak-Bold',\n",
       " 'Perpetua Titling MT',\n",
       " 'Kristen ITC',\n",
       " 'Nirmala UI',\n",
       " 'Elephant',\n",
       " 'Comic Sans MS',\n",
       " 'Modern No. 20',\n",
       " 'Lucida Sans Unicode',\n",
       " 'Franklin Gothic Demi',\n",
       " 'Microsoft Yi Baiti',\n",
       " 'Goudy Stout',\n",
       " 'Britannic Bold',\n",
       " 'Calibri',\n",
       " 'Castellar',\n",
       " 'Bodoni MT',\n",
       " 'Lucida Sans Typewriter',\n",
       " 'Symbol',\n",
       " 'Microsoft Tai Le',\n",
       " 'Lucida Sans',\n",
       " 'Microsoft Uighur',\n",
       " 'Courier New',\n",
       " 'Consolas',\n",
       " 'Lucida Sans',\n",
       " 'Bernard MT Condensed',\n",
       " 'Tw Cen MT Condensed Extra Bold',\n",
       " 'Berlin Sans FB',\n",
       " 'Arial',\n",
       " 'Rage Italic',\n",
       " 'Cambria',\n",
       " 'Mistral',\n",
       " 'Rockwell',\n",
       " 'HYGungSo-Bold',\n",
       " 'Harrington',\n",
       " 'Microsoft New Tai Lue',\n",
       " 'Calibri',\n",
       " 'Californian FB',\n",
       " 'Segoe Print',\n",
       " 'Lucida Sans Typewriter',\n",
       " 'Segoe Script',\n",
       " 'Lucida Calligraphy',\n",
       " 'Bodoni MT',\n",
       " 'Calisto MT',\n",
       " 'Dubai',\n",
       " 'Mongolian Baiti',\n",
       " 'HYPost-Light',\n",
       " 'Dubai',\n",
       " 'Calisto MT',\n",
       " 'Colonna MT',\n",
       " 'Yet R',\n",
       " 'Dubai',\n",
       " 'Rockwell Extra Bold',\n",
       " 'Palatino Linotype',\n",
       " 'Berlin Sans FB Demi',\n",
       " 'MV Boli',\n",
       " 'Century',\n",
       " 'Lucida Fax',\n",
       " 'Book Antiqua',\n",
       " 'Segoe UI',\n",
       " 'Eras Light ITC',\n",
       " 'Microsoft Tai Le',\n",
       " 'Bell MT',\n",
       " 'Papyrus',\n",
       " 'Bell MT',\n",
       " 'Rockwell',\n",
       " 'Californian FB',\n",
       " 'Goudy Old Style',\n",
       " 'Tempus Sans ITC',\n",
       " 'Bodoni MT',\n",
       " 'High Tower Text',\n",
       " 'Leelawadee',\n",
       " 'Bahnschrift',\n",
       " 'Bookman Old Style',\n",
       " 'Segoe UI',\n",
       " 'Bodoni MT',\n",
       " 'Tw Cen MT Condensed',\n",
       " 'Lucida Bright',\n",
       " 'Pristina',\n",
       " 'New Gulim',\n",
       " 'Bookman Old Style',\n",
       " 'Segoe UI',\n",
       " 'Segoe UI',\n",
       " 'Lucida Sans Typewriter',\n",
       " 'Agency FB',\n",
       " 'Bodoni MT',\n",
       " 'Imprint MT Shadow',\n",
       " 'Arial',\n",
       " 'Bookshelf Symbol 7',\n",
       " 'Book Antiqua',\n",
       " 'Segoe UI',\n",
       " 'Segoe UI',\n",
       " 'Candara',\n",
       " 'Magic R',\n",
       " 'Century Schoolbook',\n",
       " 'Colonna MT',\n",
       " 'Microsoft PhagsPa',\n",
       " 'Perpetua Titling MT',\n",
       " 'Lucida Fax',\n",
       " 'Bell MT',\n",
       " 'Palatino Linotype',\n",
       " 'Nirmala UI',\n",
       " 'Arial',\n",
       " 'Edwardian Script ITC',\n",
       " 'Copperplate Gothic Light',\n",
       " 'Calisto MT',\n",
       " 'MS Reference Specialty',\n",
       " 'HYPost-Light',\n",
       " 'Headline R',\n",
       " 'Consolas',\n",
       " 'Snap ITC',\n",
       " 'Californian FB',\n",
       " 'Informal Roman',\n",
       " 'Segoe Script',\n",
       " 'Gigi',\n",
       " 'Microsoft New Tai Lue',\n",
       " 'Gill Sans MT Ext Condensed Bold',\n",
       " 'Verdana',\n",
       " 'Franklin Gothic Book',\n",
       " 'Arial Rounded MT Bold',\n",
       " 'Bodoni MT',\n",
       " 'Franklin Gothic Heavy',\n",
       " 'HYGothic-Medium',\n",
       " 'Lucida Handwriting',\n",
       " 'Wingdings 2',\n",
       " 'Rockwell',\n",
       " 'Arial',\n",
       " 'Franklin Gothic Medium',\n",
       " 'Gill Sans MT Condensed',\n",
       " 'Leelawadee UI',\n",
       " 'Berlin Sans FB Demi',\n",
       " 'Arial',\n",
       " 'HYHeadLine-Medium',\n",
       " 'Agency FB',\n",
       " 'Bookman Old Style',\n",
       " 'Bradley Hand ITC',\n",
       " 'Goudy Stout',\n",
       " 'Lucida Fax',\n",
       " 'Onyx',\n",
       " 'Gill Sans MT Ext Condensed Bold',\n",
       " 'Maiandra GD',\n",
       " 'Berlin Sans FB',\n",
       " 'Copperplate Gothic Light',\n",
       " 'Gill Sans MT',\n",
       " 'Onyx',\n",
       " 'Poor Richard',\n",
       " 'NanumGothicCoding',\n",
       " 'Bookman Old Style',\n",
       " 'Felix Titling',\n",
       " 'Garamond',\n",
       " 'Lucida Sans Typewriter',\n",
       " 'Times New Roman',\n",
       " 'Papyrus',\n",
       " 'Ami R',\n",
       " 'Malgun Gothic',\n",
       " 'High Tower Text',\n",
       " 'MS Outlook',\n",
       " 'Ink Free',\n",
       " 'Lucida Fax',\n",
       " 'Myanmar Text',\n",
       " 'Garamond',\n",
       " 'Centaur',\n",
       " 'French Script MT',\n",
       " 'Book Antiqua',\n",
       " 'Copperplate Gothic Bold',\n",
       " 'Consolas',\n",
       " 'Century Schoolbook',\n",
       " 'Webdings',\n",
       " 'Monotype Corsiva',\n",
       " 'Chiller',\n",
       " 'Trebuchet MS',\n",
       " 'Maiandra GD',\n",
       " 'Lucida Sans',\n",
       " 'Gloucester MT Extra Condensed',\n",
       " 'Matura MT Script Capitals',\n",
       " 'Ink Free',\n",
       " 'Microsoft Uighur',\n",
       " 'Showcard Gothic',\n",
       " 'Rockwell Condensed',\n",
       " 'Lucida Fax',\n",
       " 'Broadway',\n",
       " 'Gabriola',\n",
       " 'Californian FB',\n",
       " 'Ravie',\n",
       " 'Parchment',\n",
       " 'Tw Cen MT',\n",
       " 'Candara',\n",
       " 'Tahoma',\n",
       " 'Franklin Gothic Heavy',\n",
       " 'Leelawadee UI',\n",
       " 'Candara',\n",
       " 'Eras Medium ITC',\n",
       " 'Gill Sans MT',\n",
       " 'Bodoni MT',\n",
       " 'Palace Script MT',\n",
       " 'Californian FB',\n",
       " 'Bauhaus 93',\n",
       " 'Matura MT Script Capitals',\n",
       " 'Bodoni MT',\n",
       " 'Gill Sans Ultra Bold',\n",
       " 'Engravers MT',\n",
       " 'Gigi',\n",
       " 'Bodoni MT',\n",
       " 'Perpetua Titling MT',\n",
       " 'Calibri',\n",
       " 'Engravers MT',\n",
       " 'Wingdings 3',\n",
       " 'Century Gothic',\n",
       " 'Leelawadee UI',\n",
       " 'HYShortSamul-Medium',\n",
       " 'Rockwell Condensed',\n",
       " 'Curlz MT',\n",
       " 'Blackadder ITC',\n",
       " 'Harlow Solid Italic',\n",
       " 'Wide Latin',\n",
       " 'Franklin Gothic Demi',\n",
       " 'Lucida Sans Typewriter',\n",
       " 'Harlow Solid Italic',\n",
       " 'NanumGothicCoding',\n",
       " 'Juice ITC',\n",
       " 'Tw Cen MT',\n",
       " 'Jokerman',\n",
       " 'Broadway',\n",
       " 'Viner Hand ITC',\n",
       " 'Tw Cen MT',\n",
       " 'Franklin Gothic Medium',\n",
       " 'Calibri',\n",
       " 'Tw Cen MT',\n",
       " 'Book Antiqua',\n",
       " 'Century',\n",
       " 'Arial',\n",
       " 'MS Reference Sans Serif',\n",
       " 'Rockwell',\n",
       " 'Eras Bold ITC',\n",
       " 'HYGraphic-Medium',\n",
       " 'Felix Titling',\n",
       " 'Haettenschweiler',\n",
       " 'Tw Cen MT',\n",
       " 'Segoe Print',\n",
       " 'Microsoft Uighur',\n",
       " 'Nirmala UI',\n",
       " 'Baskerville Old Face',\n",
       " 'MS Outlook',\n",
       " 'Snap ITC',\n",
       " 'Cooper Black',\n",
       " 'Century Gothic',\n",
       " 'Curlz MT',\n",
       " 'Script MT Bold',\n",
       " 'Nirmala UI',\n",
       " 'Franklin Gothic Heavy',\n",
       " 'Bodoni MT',\n",
       " 'Viner Hand ITC',\n",
       " 'Niagara Solid',\n",
       " 'Bodoni MT',\n",
       " 'Perpetua',\n",
       " 'Calisto MT',\n",
       " 'High Tower Text',\n",
       " 'Franklin Gothic Book',\n",
       " 'Lucida Sans',\n",
       " 'Jokerman',\n",
       " 'Bookshelf Symbol 7',\n",
       " 'Franklin Gothic Book',\n",
       " 'Tw Cen MT Condensed',\n",
       " 'Harrington',\n",
       " 'Showcard Gothic',\n",
       " 'Tw Cen MT Condensed',\n",
       " 'Goudy Old Style',\n",
       " 'Wide Latin',\n",
       " 'Tw Cen MT Condensed Extra Bold',\n",
       " 'Forte',\n",
       " 'NanumGothicCoding',\n",
       " 'Century Gothic',\n",
       " 'Goudy Old Style',\n",
       " 'Microsoft Uighur',\n",
       " 'Candara',\n",
       " 'Bookman Old Style',\n",
       " 'Parchment',\n",
       " 'Lucida Sans',\n",
       " 'Edwardian Script ITC',\n",
       " 'Eras Bold ITC',\n",
       " 'Leelawadee UI',\n",
       " 'Niagara Engraved',\n",
       " 'Bodoni MT',\n",
       " 'Bell MT',\n",
       " 'Goudy Old Style',\n",
       " 'Monotype Corsiva',\n",
       " 'Franklin Gothic Demi',\n",
       " 'Rockwell',\n",
       " 'Perpetua',\n",
       " 'Bell MT',\n",
       " 'Bodoni MT',\n",
       " 'Bernard MT Condensed',\n",
       " 'Century Schoolbook',\n",
       " 'Century Schoolbook',\n",
       " 'Lucida Fax',\n",
       " 'Vladimir Script',\n",
       " 'Magic R',\n",
       " 'MS Reference Specialty',\n",
       " 'Forte',\n",
       " 'Pyunji R',\n",
       " 'MS Reference Sans Serif',\n",
       " 'Wingdings 2',\n",
       " 'Garamond',\n",
       " 'MT Extra',\n",
       " 'Century Schoolbook',\n",
       " 'Segoe UI',\n",
       " 'Pristina',\n",
       " 'Garamond',\n",
       " 'New Gulim',\n",
       " 'Cambria',\n",
       " 'Bauhaus 93',\n",
       " 'Bodoni MT',\n",
       " 'Book Antiqua',\n",
       " 'Stencil',\n",
       " 'Gloucester MT Extra Condensed',\n",
       " 'Lucida Bright',\n",
       " 'HYGungSo-Bold',\n",
       " 'NanumGothicCoding',\n",
       " 'Bodoni MT',\n",
       " 'OCR A Extended',\n",
       " 'Bradley Hand ITC',\n",
       " 'Juice ITC',\n",
       " 'Algerian',\n",
       " 'HYMyeongJo-Extra',\n",
       " 'Book Antiqua',\n",
       " 'Agency FB',\n",
       " 'HYPost-Medium',\n",
       " 'Candara',\n",
       " 'Brush Script MT',\n",
       " 'Calisto MT',\n",
       " 'High Tower Text',\n",
       " 'Garamond',\n",
       " 'Gill Sans MT Condensed',\n",
       " 'French Script MT',\n",
       " 'Gill Sans MT',\n",
       " 'Niagara Solid',\n",
       " 'Eras Medium ITC',\n",
       " 'Lucida Bright',\n",
       " 'Nirmala UI',\n",
       " 'Stencil',\n",
       " 'Bodoni MT',\n",
       " 'HYSinMyeongJo-Medium']"
      ]
     },
     "execution_count": 19,
     "metadata": {},
     "output_type": "execute_result"
    }
   ],
   "source": [
    "[f.name for f in fm.fontManager.ttflist if '' in f.name]"
   ]
  },
  {
   "cell_type": "markdown",
   "metadata": {},
   "source": [
    "<b>7. 나눔고딕을 사용할 예정이기 때문에 이름에 'Nanum'이 들어간 폰트만 가져와 봅니다.</b>"
   ]
  },
  {
   "cell_type": "markdown",
   "metadata": {},
   "source": [
    "* 폰트를 설치했는데 원하는 폰트명을 가져오기 못 할 때, 터미널을 열어 mpl.get_cachedir()로 찍히는 캐시위치로 이동해서 캐시파일을 열어봅니다.\n",
    "* 캐시파일에 원하는 폰트리스트가 없으면 주피터 노트북 혹은 콘다를 재실행 해줍니다."
   ]
  },
  {
   "cell_type": "code",
   "execution_count": 20,
   "metadata": {},
   "outputs": [
    {
     "data": {
      "text/plain": [
       "[('NanumGothicCoding', 'C:\\\\Windows\\\\Fonts\\\\NanumGothicCoding-Bold.ttf'),\n",
       " ('NanumGothicCoding', 'C:\\\\Windows\\\\Fonts\\\\NanumGothicCoding.ttf'),\n",
       " ('NanumGothicCoding', 'c:\\\\windows\\\\fonts\\\\nanumgothiccoding.ttf'),\n",
       " ('NanumGothicCoding', 'c:\\\\windows\\\\fonts\\\\nanumgothiccoding-bold.ttf')]"
      ]
     },
     "execution_count": 20,
     "metadata": {},
     "output_type": "execute_result"
    }
   ],
   "source": [
    "[(f.name, f.fname) for f in fm.fontManager.ttflist if 'Nanum' in f.name]"
   ]
  },
  {
   "cell_type": "markdown",
   "metadata": {},
   "source": [
    "<b>9. 폰트를 사용하는 방법은 3가지가 있습니다.</b>"
   ]
  },
  {
   "cell_type": "markdown",
   "metadata": {},
   "source": [
    "     1) FontProperties 를 사용하는 방법 - 그래프의 폰트가 필요한 항목마다 지정해 주어야 합니다.\n",
    "     2) matplotlib.rcParams[] 으로 전역글꼴 설정 방법 - 그래프에 설정을 해주면 폰트가 필요한 항목에 적용 됩니다.\n",
    "     3) 2)의 방법을 mpl.matplotlib_fname() 로 읽어지는 설정 파일에 직접 적어주는 방법, 단 모든 노트북에 적용됩니다. 노트북을 열 때마다 지정해 주지 않아도 돼서 편리합니다."
   ]
  },
  {
   "cell_type": "markdown",
   "metadata": {},
   "source": [
    "<b>1) FontProperties 를 사용하는 방법</b>\n",
    "* 텍스트를 지정하는 항목에 지정해 사용할 수 있습니다. 지정해 준 항목에만 해당 폰트가 적용됩니다.\n",
    "* matplotlib.pyplot\n",
    "    * title()\n",
    "    * xlabel()\n",
    "    * ylabel()\n",
    "    * legend()\n",
    "    * text()\n",
    "\n",
    "\n",
    "* matplotlib.axes\n",
    "    * set_title()"
   ]
  },
  {
   "cell_type": "code",
   "execution_count": 23,
   "metadata": {},
   "outputs": [
    {
     "data": {
      "image/png": "[encoded data removed]",
      "text/plain": [
       "<Figure size 432x288 with 1 Axes>"
      ]
     },
     "metadata": {},
     "output_type": "display_data"
    }
   ],
   "source": [
    "# fname 옵션을 사용하는 방법\n",
    "path = 'C:\\\\Windows\\\\Fonts\\\\NanumGothicCoding.ttf'\n",
    "fontprop = fm.FontProperties(fname=path, size=18)\n",
    "\n",
    "plt.plot(range(50), data, 'r')\n",
    "plt.title('시간별 가격 추이', fontproperties=fontprop)\n",
    "plt.ylabel('주식 가격', fontproperties=fontprop)\n",
    "plt.xlabel('시간(분)', fontproperties=fontprop)\n",
    "plt.show()"
   ]
  },
  {
   "cell_type": "markdown",
   "metadata": {},
   "source": [
    "<b>2. matplotlib.rcParams[] 으로 전역글꼴 설정 방법</b>"
   ]
  },
  {
   "cell_type": "code",
   "execution_count": 24,
   "metadata": {},
   "outputs": [
    {
     "name": "stdout",
     "output_type": "stream",
     "text": [
      "# 설정 되어있는 폰트 사이즈\n",
      "10.0\n",
      "# 설정 되어있는 폰트 글꼴\n",
      "['sans-serif']\n"
     ]
    }
   ],
   "source": [
    "# 기본 설정 읽기\n",
    "import matplotlib.pyplot as plt\n",
    "\n",
    "# size, family\n",
    "print('# 설정 되어있는 폰트 사이즈')\n",
    "print(plt.rcParams['font.size'])\n",
    "print('# 설정 되어있는 폰트 글꼴')\n",
    "print(plt.rcParams['font.family'])"
   ]
  },
  {
   "cell_type": "code",
   "execution_count": 25,
   "metadata": {},
   "outputs": [
    {
     "name": "stdout",
     "output_type": "stream",
     "text": [
      "serif 세리프가 있는 폰트----------\n",
      "['DejaVu Serif', 'Bitstream Vera Serif', 'Computer Modern Roman', 'New Century Schoolbook', 'Century Schoolbook L', 'Utopia', 'ITC Bookman', 'Bookman', 'Nimbus Roman No9 L', 'Times New Roman', 'Times', 'Palatino', 'Charter', 'serif']\n",
      "sans-serif 세리프가 없는 폰트-----------\n",
      "['DejaVu Sans', 'Bitstream Vera Sans', 'Computer Modern Sans Serif', 'Lucida Grande', 'Verdana', 'Geneva', 'Lucid', 'Arial', 'Helvetica', 'Avant Garde', 'sans-serif']\n",
      "monospace 고정폭 글꼴------------\n",
      "['DejaVu Sans Mono', 'Bitstream Vera Sans Mono', 'Computer Modern Typewriter', 'Andale Mono', 'Nimbus Mono L', 'Courier New', 'Courier', 'Fixed', 'Terminal', 'monospace']\n"
     ]
    }
   ],
   "source": [
    "# serif, sans-serif, monospace\n",
    "print('serif 세리프가 있는 폰트----------')\n",
    "print(plt.rcParams['font.serif'])\n",
    "print('sans-serif 세리프가 없는 폰트-----------')\n",
    "print(plt.rcParams['font.sans-serif'])\n",
    "print('monospace 고정폭 글꼴------------')\n",
    "print(plt.rcParams['font.monospace'])"
   ]
  },
  {
   "cell_type": "code",
   "execution_count": 31,
   "metadata": {},
   "outputs": [],
   "source": [
    "plt.rcParams[\"font.family\"] = 'NanumGothicCoding'\n",
    "plt.rcParams[\"font.size\"] = 18\n",
    "plt.rcParams[\"figure.figsize\"] = (14, 4)"
   ]
  },
  {
   "cell_type": "code",
   "execution_count": 32,
   "metadata": {},
   "outputs": [
    {
     "data": {
      "image/png": "[encoded data removed]",
      "text/plain": [
       "<Figure size 1008x288 with 1 Axes>"
      ]
     },
     "metadata": {},
     "output_type": "display_data"
    }
   ],
   "source": [
    "plt.plot(range(50), data, 'r')\n",
    "plt.title('시간별 가격 추이')\n",
    "plt.ylabel('주식 가격')\n",
    "plt.xlabel('시간(분)')\n",
    "plt.style.use('seaborn-pastel')\n",
    "plt.show()"
   ]
  },
  {
   "cell_type": "markdown",
   "metadata": {},
   "source": [
    "<b>rcParams 대신 FontProperties 와 plt.rc 를 사용하는 방법</b>"
   ]
  },
  {
   "cell_type": "code",
   "execution_count": 33,
   "metadata": {},
   "outputs": [
    {
     "name": "stdout",
     "output_type": "stream",
     "text": [
      "NanumGothicCoding\n"
     ]
    },
    {
     "data": {
      "image/png": "[encoded data removed]",
      "text/plain": [
       "<Figure size 1008x288 with 1 Axes>"
      ]
     },
     "metadata": {},
     "output_type": "display_data"
    }
   ],
   "source": [
    "path = 'C:\\\\Windows\\\\Fonts\\\\NanumGothicCoding.ttf'\n",
    "font_name = fm.FontProperties(fname=path, size=50).get_name()\n",
    "print(font_name)\n",
    "plt.rc('font', family=font_name)\n",
    "\n",
    "fig, ax = plt.subplots()\n",
    "ax.plot(data)\n",
    "ax.set_title('시간별 가격 추이')\n",
    "plt.ylabel('주식 가격')\n",
    "plt.xlabel('시간(분)')\n",
    "plt.style.use('ggplot')\n",
    "plt.show()"
   ]
  },
  {
   "cell_type": "markdown",
   "metadata": {},
   "source": [
    "<b>3) rcParams 를 설정파일에 직접 적어주는 방법 - 모든 노트북에 공통적용</b>\n",
    "* font.family: NanumGothicCoding\n",
    "* 이 외에 자주 사용하는 설정도 함께 해주면 편리합니다.\n",
    "* 이곳에 폰트를 지정해 주면 노트북을 실행할 때 바로 로드되도록 설정할 수 있습니다."
   ]
  },
  {
   "cell_type": "code",
   "execution_count": 34,
   "metadata": {},
   "outputs": [
    {
     "name": "stdout",
     "output_type": "stream",
     "text": [
      "설정파일 위치:  C:\\Users\\dhcho\\Anaconda3\\lib\\site-packages\\matplotlib\\mpl-data\\matplotlibrc\n"
     ]
    }
   ],
   "source": [
    "print('설정파일 위치: ', mpl.matplotlib_fname())"
   ]
  },
  {
   "cell_type": "code",
   "execution_count": 35,
   "metadata": {},
   "outputs": [
    {
     "data": {
      "image/png": "[encoded data removed]",
      "text/plain": [
       "<Figure size 1008x288 with 1 Axes>"
      ]
     },
     "metadata": {},
     "output_type": "display_data"
    }
   ],
   "source": [
    "# import matplotlib.pyplot as plt\n",
    "# import numpy as np\n",
    "\n",
    "fig, ax = plt.subplots()\n",
    "ax.plot(10*np.random.randn(100), 10*np.random.randn(100), 'o')\n",
    "ax.set_title('숫자 분포도 보기')\n",
    "plt.show()"
   ]
  },
  {
   "cell_type": "markdown",
   "metadata": {},
   "source": [
    "<b> 참고 URL : </b>\n",
    "* [font_manager - Matplotlib 2.1.0 documentation](https://matplotlib.org/api/font_manager_api.html)\n",
    "* [Customizing matplotlib - Matplotlib 2.0.2 documentation](https://matplotlib.org/users/customizing.html)\n",
    "* [마이너스 폰트가 깨지는 문제 unicode_minus.py - Matplotlib 2.0.2 documentation](https://matplotlib.org/examples/api/unicode_minus.html)\n",
    "* https://fiancedata.github.io/posts/matplotlib-hangul-for-osx.html"
   ]
  },
  {
   "cell_type": "code",
   "execution_count": null,
   "metadata": {},
   "outputs": [],
   "source": []
  }
 ],
 "metadata": {
  "kernelspec": {
   "display_name": "Python 3",
   "language": "python",
   "name": "python3"
  },
  "language_info": {
   "codemirror_mode": {
    "name": "ipython",
    "version": 3
   },
   "file_extension": ".py",
   "mimetype": "text/x-python",
   "name": "python",
   "nbconvert_exporter": "python",
   "pygments_lexer": "ipython3",
   "version": "3.6.5"
  }
 },
 "nbformat": 4,
 "nbformat_minor": 2
}
